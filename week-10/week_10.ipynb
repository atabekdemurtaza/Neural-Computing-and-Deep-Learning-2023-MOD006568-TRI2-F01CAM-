{
  "nbformat": 4,
  "nbformat_minor": 0,
  "metadata": {
    "colab": {
      "provenance": [],
      "gpuType": "T4"
    },
    "kernelspec": {
      "name": "python3",
      "display_name": "Python 3"
    },
    "language_info": {
      "name": "python"
    },
    "accelerator": "GPU"
  },
  "cells": [
    {
      "cell_type": "code",
      "execution_count": 15,
      "metadata": {
        "id": "RDvRW8jUav8I"
      },
      "outputs": [],
      "source": [
        "import numpy as np\n",
        "import tensorflow as tf\n",
        "from tensorflow.keras.datasets import mnist\n",
        "from tensorflow.keras.models import Sequential\n",
        "from tensorflow.keras.layers import Dense, Flatten\n",
        "from tensorflow.keras.optimizers import SGD\n",
        "from sklearn.model_selection import train_test_split\n",
        "from keras import backend as K\n",
        "import random"
      ]
    },
    {
      "cell_type": "code",
      "source": [
        "np.random.seed(2288841) # Set seed for numpy. Put your SID instead of number '42'\n",
        "random.seed(2288841) # Set seed for Python's built-in random number generator.  Put your SID instead of number '42'\n",
        "tf.random.set_seed(2288841) # Set seed for TensorFlow. Put your SID instead of number '42'\n",
        "K.clear_session()\n"
      ],
      "metadata": {
        "id": "B-zy32lta59N"
      },
      "execution_count": 16,
      "outputs": []
    },
    {
      "cell_type": "code",
      "source": [
        "# Load MNIST dataset\n",
        "(x_train, y_train), (x_test, y_test) = mnist.load_data()"
      ],
      "metadata": {
        "id": "C81BxOZca_lN"
      },
      "execution_count": 17,
      "outputs": []
    },
    {
      "cell_type": "code",
      "source": [
        "# Normalize and reshape data\n",
        "x_train = x_train.astype('float32') / 255.0\n",
        "x_test = x_test.astype('float32') / 255.0\n",
        "x_train = np.expand_dims(x_train, -1)\n",
        "x_test = np.expand_dims(x_test, -1)"
      ],
      "metadata": {
        "id": "cnHWj18QbChB"
      },
      "execution_count": 18,
      "outputs": []
    },
    {
      "cell_type": "code",
      "source": [
        "# Define client functions\n",
        "def create_client_model():\n",
        "    model = Sequential([\n",
        "        Flatten(input_shape=(28, 28, 1)),\n",
        "        Dense(128, activation='relu'),\n",
        "        Dense(10, activation='softmax')\n",
        "    ])\n",
        "    model.compile(optimizer='adam', loss='sparse_categorical_crossentropy', metrics=['accuracy'])\n",
        "    return model\n",
        "\n",
        "def train_client_model(model, x_train, y_train, epochs=5):\n",
        "    model.fit(x_train, y_train, epochs=epochs, verbose=0)\n",
        "    return model"
      ],
      "metadata": {
        "id": "zpZljAHlbQqC"
      },
      "execution_count": 19,
      "outputs": []
    },
    {
      "cell_type": "code",
      "source": [
        "# Split data into two clients\n",
        "x_train_c1, x_train_c2, y_train_c1, y_train_c2 = train_test_split(x_train, y_train, test_size=0.5, random_state=42)"
      ],
      "metadata": {
        "id": "LrENYr5hbSxH"
      },
      "execution_count": 20,
      "outputs": []
    },
    {
      "cell_type": "code",
      "source": [
        "# Create and train client models\n",
        "client1_model = create_client_model()\n",
        "client2_model = create_client_model()\n",
        "\n",
        "client1_model = train_client_model(client1_model, x_train_c1, y_train_c1)\n",
        "client2_model = train_client_model(client2_model, x_train_c2, y_train_c2)"
      ],
      "metadata": {
        "id": "N4D9Zs-abqSY"
      },
      "execution_count": 21,
      "outputs": []
    },
    {
      "cell_type": "code",
      "source": [
        "# Federated averaging\n",
        "def federated_average_weights(weights1, weights2):\n",
        "    new_weights = []\n",
        "    for w1, w2 in zip(weights1, weights2):\n",
        "        new_weights.append((w1 + w2) / 2)\n",
        "    return new_weights\n"
      ],
      "metadata": {
        "id": "gsWLg7_YbsIm"
      },
      "execution_count": 22,
      "outputs": []
    },
    {
      "cell_type": "code",
      "source": [
        "# Aggregate models\n",
        "aggregated_weights = federated_average_weights(client1_model.get_weights(), client2_model.get_weights())\n",
        "\n",
        "# Create global model and set weights\n",
        "global_model = create_client_model()\n",
        "global_model.set_weights(aggregated_weights)\n",
        "\n",
        "# Evaluate global model\n",
        "test_loss, test_acc = global_model.evaluate(x_test, y_test, verbose=2)\n",
        "print('Test accuracy:', test_acc)"
      ],
      "metadata": {
        "colab": {
          "base_uri": "https://localhost:8080/"
        },
        "id": "vBtcQtdSdben",
        "outputId": "9c1f4f13-0b0b-4c9a-a0c7-96ef5035c3b1"
      },
      "execution_count": 23,
      "outputs": [
        {
          "output_type": "stream",
          "name": "stdout",
          "text": [
            "313/313 - 1s - loss: 0.3698 - accuracy: 0.8847 - 1s/epoch - 3ms/step\n",
            "Test accuracy: 0.8847000002861023\n"
          ]
        }
      ]
    },
    {
      "cell_type": "code",
      "source": [
        "from sklearn.metrics import confusion_matrix\n",
        "\n",
        "# Predict using the global model\n",
        "y_pred = np.argmax(global_model.predict(x_test), axis=1)\n",
        "\n",
        "# Calculate confusion matrix\n",
        "conf_matrix = confusion_matrix(y_test, y_pred)\n",
        "\n",
        "# Calculate precision, recall, and F-score\n",
        "precision = np.diag(conf_matrix) / np.sum(conf_matrix, axis=0)\n",
        "recall = np.diag(conf_matrix) / np.sum(conf_matrix, axis=1)\n",
        "f_score = 2 * precision * recall / (precision + recall)\n",
        "\n",
        "# Print precision, recall, and F-score for each class\n",
        "for i in range(10):  # 10 classes for MNIST\n",
        "    print(f\"Class {i} - Precision: {precision[i]}, Recall: {recall[i]}, F-score: {f_score[i]}\")\n",
        "\n",
        "# Average precision, recall, and F-score\n",
        "avg_precision = np.mean(precision)\n",
        "avg_recall = np.mean(recall)\n",
        "avg_f_score = np.mean(f_score)\n",
        "\n",
        "print(f\"\\nAverage Precision: {avg_precision}, Average Recall: {avg_recall}, Average F-score: {avg_f_score}\")\n",
        "\n"
      ],
      "metadata": {
        "id": "uofWTSJSdemU",
        "colab": {
          "base_uri": "https://localhost:8080/"
        },
        "outputId": "e3a4bc7e-2ed2-4531-e821-ab391e46f265"
      },
      "execution_count": 24,
      "outputs": [
        {
          "output_type": "stream",
          "name": "stdout",
          "text": [
            "313/313 [==============================] - 1s 3ms/step\n",
            "Class 0 - Precision: 0.9772972972972973, Recall: 0.9224489795918367, F-score: 0.9490813648293963\n",
            "Class 1 - Precision: 0.9674935842600513, Recall: 0.9964757709251101, F-score: 0.9817708333333333\n",
            "Class 2 - Precision: 0.8393608074011775, Recall: 0.9670542635658915, F-score: 0.8986942818550202\n",
            "Class 3 - Precision: 0.9688581314878892, Recall: 0.8316831683168316, F-score: 0.895045285029302\n",
            "Class 4 - Precision: 0.9547511312217195, Recall: 0.6446028513238289, F-score: 0.7696048632218845\n",
            "Class 5 - Precision: 0.8061716489874639, Recall: 0.9372197309417041, F-score: 0.8667703473302228\n",
            "Class 6 - Precision: 0.9735632183908046, Recall: 0.884133611691023, F-score: 0.926695842450766\n",
            "Class 7 - Precision: 0.935546875, Recall: 0.9319066147859922, F-score: 0.9337231968810916\n",
            "Class 8 - Precision: 0.9756756756756757, Recall: 0.7412731006160165, F-score: 0.8424737456242707\n",
            "Class 9 - Precision: 0.6451187335092349, Recall: 0.9692765113974232, F-score: 0.7746534653465348\n",
            "\n",
            "Average Precision: 0.9043837103231315, Average Recall: 0.8826074603155659, Average F-score: 0.8838513225901823\n"
          ]
        }
      ]
    },
    {
      "cell_type": "code",
      "source": [
        "import numpy as np\n",
        "import tensorflow as tf\n",
        "from tensorflow.keras.datasets import mnist\n",
        "from tensorflow.keras.models import Sequential\n",
        "from tensorflow.keras.layers import Dense, Flatten\n",
        "from tensorflow.keras.optimizers import SGD\n",
        "from sklearn.model_selection import train_test_split\n",
        "from keras import backend as K\n",
        "import random\n",
        "import matplotlib.pyplot as plt\n",
        "\n",
        "np.random.seed(2288841)\n",
        "random.seed(2288841)\n",
        "tf.random.set_seed(2288841)\n",
        "K.clear_session()\n",
        "\n",
        "# Load MNIST dataset\n",
        "(x_train, y_train), (x_test, y_test) = mnist.load_data()\n",
        "\n",
        "# Normalize and reshape data\n",
        "x_train = x_train.astype('float32') / 255.0\n",
        "x_test = x_test.astype('float32') / 255.0\n",
        "x_train = np.expand_dims(x_train, -1)\n",
        "x_test = np.expand_dims(x_test, -1)\n",
        "\n",
        "# Define client functions\n",
        "def create_client_model():\n",
        "    model = Sequential([\n",
        "        Flatten(input_shape=(28, 28, 1)),\n",
        "        Dense(128, activation='relu'),\n",
        "        Dense(10, activation='softmax')\n",
        "    ])\n",
        "    model.compile(optimizer='adam', loss='sparse_categorical_crossentropy', metrics=['accuracy'])\n",
        "    return model\n",
        "\n",
        "def train_client_model(model, x_train, y_train, epochs=5):\n",
        "    model.fit(x_train, y_train, epochs=epochs, verbose=0)\n",
        "    return model\n",
        "\n",
        "def federated_average_weights(weights1, weights2):\n",
        "    new_weights = []\n",
        "    for w1, w2 in zip(weights1, weights2):\n",
        "        new_weights.append((w1 + w2) / 2)\n",
        "    return new_weights\n",
        "\n",
        "# Evaluate global model\n",
        "def evaluate_global_model(global_model, x_test, y_test):\n",
        "    test_loss, test_acc = global_model.evaluate(x_test, y_test, verbose=0)\n",
        "    return test_acc\n",
        "\n",
        "# Split data into clients\n",
        "def split_data_clients(x_train, y_train, num_clients):\n",
        "    x_train_clients, y_train_clients = [], []\n",
        "    for _ in range(num_clients):\n",
        "        x_client, _, y_client, _ = train_test_split(x_train, y_train, test_size=1 - (1/num_clients))\n",
        "        x_train_clients.append(x_client)\n",
        "        y_train_clients.append(y_client)\n",
        "    return x_train_clients, y_train_clients\n",
        "\n",
        "num_clients_list = [2, 4, 6, 8, 10]\n",
        "test_accs = []\n",
        "\n",
        "for num_clients in num_clients_list:\n",
        "    x_train_clients, y_train_clients = split_data_clients(x_train, y_train, num_clients)\n",
        "    client_models = [create_client_model() for _ in range(num_clients)]\n",
        "\n",
        "    for i in range(num_clients):\n",
        "        client_models[i] = train_client_model(client_models[i], x_train_clients[i], y_train_clients[i])\n",
        "\n",
        "    aggregated_weights = client_models[0].get_weights()\n",
        "    for i in range(1, num_clients):\n",
        "        aggregated_weights = federated_average_weights(aggregated_weights, client_models[i].get_weights())\n",
        "\n",
        "    global_model = create_client_model()\n",
        "    global_model.set_weights(aggregated_weights)\n",
        "\n",
        "    test_acc = evaluate_global_model(global_model, x_test, y_test)\n",
        "    test_accs.append(test_acc)\n",
        "\n",
        "# Plotting as histogram\n",
        "plt.bar(num_clients_list, test_accs)\n",
        "plt.title('Model Performance vs Number of Clients')\n",
        "plt.xlabel('Number of Clients')\n",
        "plt.ylabel('Test Accuracy')\n",
        "plt.xticks(num_clients_list)\n",
        "plt.grid(axis='y')\n",
        "plt.show()\n"
      ],
      "metadata": {
        "id": "iIeEnHVVfRUZ",
        "colab": {
          "base_uri": "https://localhost:8080/",
          "height": 472
        },
        "outputId": "7c517709-7dd7-4d3f-cc25-1d3766eb9573"
      },
      "execution_count": 2,
      "outputs": [
        {
          "output_type": "display_data",
          "data": {
            "text/plain": [
              "<Figure size 640x480 with 1 Axes>"
            ],
            "image/png": "[encoded data removed]"
          },
          "metadata": {}
        }
      ]
    },
    {
      "cell_type": "code",
      "source": [
        "import numpy as np\n",
        "import tensorflow as tf\n",
        "from tensorflow.keras.datasets import mnist\n",
        "from tensorflow.keras.models import Sequential\n",
        "from tensorflow.keras.layers import Dense, Flatten\n",
        "from tensorflow.keras.optimizers import SGD\n",
        "from sklearn.model_selection import train_test_split\n",
        "from keras import backend as K\n",
        "import random\n",
        "import matplotlib.pyplot as plt\n",
        "\n",
        "np.random.seed(2288841)\n",
        "random.seed(2288841)\n",
        "tf.random.set_seed(2288841)\n",
        "K.clear_session()\n",
        "\n",
        "# Load MNIST dataset\n",
        "(x_train, y_train), (x_test, y_test) = mnist.load_data()\n",
        "\n",
        "# Normalize and reshape data\n",
        "x_train = x_train.astype('float32') / 255.0\n",
        "x_test = x_test.astype('float32') / 255.0\n",
        "x_train = np.expand_dims(x_train, -1)\n",
        "x_test = np.expand_dims(x_test, -1)\n",
        "\n",
        "# Define client functions\n",
        "def create_client_model():\n",
        "    model = Sequential([\n",
        "        Flatten(input_shape=(28, 28, 1)),\n",
        "        Dense(128, activation='relu'),\n",
        "        Dense(10, activation='softmax')\n",
        "    ])\n",
        "    model.compile(optimizer='adam', loss='sparse_categorical_crossentropy', metrics=['accuracy'])\n",
        "    return model\n",
        "\n",
        "def train_client_model(model, x_train, y_train, epochs=5):\n",
        "    model.fit(x_train, y_train, epochs=epochs, verbose=0)\n",
        "    return model\n",
        "\n",
        "def federated_average_weights(weights1, weights2):\n",
        "    new_weights = []\n",
        "    for w1, w2 in zip(weights1, weights2):\n",
        "        new_weights.append((w1 + w2) / 2)\n",
        "    return new_weights\n",
        "\n",
        "# Evaluate global model\n",
        "def evaluate_global_model(global_model, x_test, y_test):\n",
        "    test_loss, test_acc = global_model.evaluate(x_test, y_test, verbose=0)\n",
        "    return test_acc\n",
        "\n",
        "# Split data into clients\n",
        "def split_data_clients(x_train, y_train, num_clients):\n",
        "    x_train_clients, y_train_clients = [], []\n",
        "    for _ in range(num_clients):\n",
        "        x_client, _, y_client, _ = train_test_split(x_train, y_train, test_size=1 - (1/num_clients))\n",
        "        x_train_clients.append(x_client)\n",
        "        y_train_clients.append(y_client)\n",
        "    return x_train_clients, y_train_clients\n",
        "\n",
        "def create_dishonest_client_model():\n",
        "    model = Sequential([\n",
        "        Flatten(input_shape=(28, 28, 1)),\n",
        "        Dense(128, activation='relu'),\n",
        "        Dense(10, activation='softmax')\n",
        "    ])\n",
        "    model.compile(optimizer='adam', loss='sparse_categorical_crossentropy', metrics=['accuracy'])\n",
        "    return model\n",
        "\n",
        "def train_dishonest_client_model(model, x_train, y_train, epochs=5):\n",
        "    # Introduce poor performance by training for fewer epochs\n",
        "    model.fit(x_train, y_train, epochs=int(epochs/2), verbose=0)\n",
        "    return model\n",
        "\n",
        "num_clients = 5  # Specify the number of clients\n",
        "num_dishonest_clients = 1  # Specify the number of dishonest clients\n",
        "\n",
        "x_train_clients, y_train_clients = split_data_clients(x_train, y_train, num_clients)\n",
        "client_models = [create_client_model() for _ in range(num_clients)]\n",
        "\n",
        "# Train honest clients\n",
        "for i in range(num_clients - num_dishonest_clients):\n",
        "    client_models[i] = train_client_model(client_models[i], x_train_clients[i], y_train_clients[i])\n",
        "\n",
        "# Introduce dishonest clients\n",
        "dishonest_client_indices = random.sample(range(num_clients), num_dishonest_clients)\n",
        "for i in dishonest_client_indices:\n",
        "    client_models[i] = create_dishonest_client_model()\n",
        "    client_models[i] = train_dishonest_client_model(client_models[i], x_train_clients[i], y_train_clients[i])\n",
        "\n",
        "aggregated_weights = client_models[0].get_weights()\n",
        "for i in range(1, num_clients):\n",
        "    aggregated_weights = federated_average_weights(aggregated_weights, client_models[i].get_weights())\n",
        "\n",
        "global_model = create_client_model()\n",
        "global_model.set_weights(aggregated_weights)\n",
        "\n",
        "test_acc_before_dishonesty = evaluate_global_model(global_model, x_test, y_test)\n",
        "\n",
        "# Evaluate the global model after the presence of dishonest clients\n",
        "test_acc_after_dishonesty = evaluate_global_model(global_model, x_test, y_test)\n",
        "\n",
        "print(\"Test Accuracy Before Dishonesty:\", test_acc_before_dishonesty)\n",
        "print(\"Test Accuracy After Dishonesty:\", test_acc_after_dishonesty)\n",
        "\n",
        "# Plotting\n",
        "plt.bar(['Before Dishonesty', 'After Dishonesty'], [test_acc_before_dishonesty, test_acc_after_dishonesty])\n",
        "plt.ylim(0, 1)\n",
        "plt.title('Model Performance Before and After Dishonesty')\n",
        "plt.xlabel('Condition')\n",
        "plt.ylabel('Test Accuracy')\n",
        "plt.grid(True)\n",
        "plt.show()\n"
      ],
      "metadata": {
        "id": "FsWRS073fUi1",
        "colab": {
          "base_uri": "https://localhost:8080/",
          "height": 507
        },
        "outputId": "accff42b-1080-4a0a-9555-5ba6938486b5"
      },
      "execution_count": 3,
      "outputs": [
        {
          "output_type": "stream",
          "name": "stdout",
          "text": [
            "Test Accuracy Before Dishonesty: 0.6486999988555908\n",
            "Test Accuracy After Dishonesty: 0.6486999988555908\n"
          ]
        },
        {
          "output_type": "display_data",
          "data": {
            "text/plain": [
              "<Figure size 640x480 with 1 Axes>"
            ],
            "image/png": "[encoded data removed]"
          },
          "metadata": {}
        }
      ]
    },
    {
      "cell_type": "code",
      "source": [],
      "metadata": {
        "id": "OtwVMDIrwQHL"
      },
      "execution_count": null,
      "outputs": []
    }
  ]
}