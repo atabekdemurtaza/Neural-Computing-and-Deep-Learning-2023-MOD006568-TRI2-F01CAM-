{
  "cells": [
    {
      "cell_type": "code",
      "execution_count": 1,
      "metadata": {
        "id": "CzlOdaugnb_U"
      },
      "outputs": [],
      "source": [
        "import tensorflow as tf"
      ]
    },
    {
      "cell_type": "code",
      "execution_count": 8,
      "metadata": {
        "id": "o5WFh4uQnb_W",
        "outputId": "367fcf06-bcb1-4283-fc48-89138d401efc",
        "colab": {
          "base_uri": "https://localhost:8080/",
          "height": 154
        }
      },
      "outputs": [
        {
          "output_type": "display_data",
          "data": {
            "text/plain": [
              "<Figure size 2000x400 with 10 Axes>"
            ],
            "image/png": "[encoded data removed]"
          },
          "metadata": {}
        }
      ],
      "source": [
        "import matplotlib.pyplot as plt\n",
        "%matplotlib inline\n",
        "\n",
        "n = 10  # how many records we will display\n",
        "plt.figure(figsize=(20, 4))\n",
        "for i in range(n):\n",
        "    # display original\n",
        "    ax = plt.subplot(2, n, i + 1)\n",
        "    plt.imshow(x_test[i].reshape(28, 28))\n",
        "    plt.gray()\n",
        "    ax.get_xaxis().set_visible(False)\n",
        "    ax.get_yaxis().set_visible(False)\n",
        "\n",
        "plt.show()"
      ]
    },
    {
      "cell_type": "markdown",
      "metadata": {
        "id": "VyYaVeYGvM9J"
      },
      "source": []
    },
    {
      "cell_type": "code",
      "execution_count": 3,
      "metadata": {
        "id": "tSQUNzNWnb_X",
        "outputId": "a6493328-29a8-4bbf-ec33-eccb4168f3a8",
        "colab": {
          "base_uri": "https://localhost:8080/",
          "height": 50
        }
      },
      "outputs": [
        {
          "output_type": "display_data",
          "data": {
            "text/plain": [
              "<Figure size 200x200 with 10 Axes>"
            ],
            "image/png": "[encoded data removed]"
          },
          "metadata": {}
        }
      ],
      "source": [
        "import matplotlib.pyplot as plt\n",
        "%matplotlib inline\n",
        "\n",
        "n = 10  # how many records we will display\n",
        "plt.figure(figsize=(2, 2))\n",
        "\n",
        "\n",
        "\n",
        "for i in range(n):\n",
        "    # display original\n",
        "    ax = plt.subplot(2, n, i + 1)\n",
        "    plt.imshow(x_test[i].reshape(28, 28))\n",
        "    plt.gray()\n",
        "    ax.get_xaxis().set_visible(False)\n",
        "    ax.get_yaxis().set_visible(False)\n",
        "\n",
        "plt.show()"
      ]
    },
    {
      "cell_type": "markdown",
      "metadata": {
        "id": "opSUZNsCnb_X"
      },
      "source": [
        "![image.png](attachment:image.png)"
      ]
    },
    {
      "cell_type": "code",
      "execution_count": 4,
      "metadata": {
        "id": "b893a54bnb_Y"
      },
      "outputs": [],
      "source": [
        "from tensorflow.keras.models import Sequential, Model\n",
        "from tensorflow.keras.layers import Dense, Conv2D, MaxPool2D, Flatten, UpSampling2D, Reshape"
      ]
    },
    {
      "cell_type": "code",
      "execution_count": 9,
      "metadata": {
        "id": "invEZgj8nb_Z"
      },
      "outputs": [],
      "source": [
        "encode_model = Sequential()\n",
        "\n",
        "############\n",
        "# Encoding #\n",
        "############\n",
        "\n",
        "## FIRST SET OF LAYERS\n",
        "# CONVOLUTIONAL LAYER\n",
        "encode_model.add(Conv2D(filters=16, kernel_size=(3,3),\n",
        "                 input_shape=(28, 28, 1), activation='relu', padding='same'))\n",
        "# POOLING LAYER\n",
        "encode_model.add(MaxPool2D(pool_size=(2, 2),  padding='same'))\n",
        "\n",
        "## SECOND SET OF LAYERS\n",
        "# CONVOLUTIONAL LAYER\n",
        "encode_model.add(Conv2D(filters=8, kernel_size=(3,3), activation='relu', padding='same'))\n",
        "# POOLING LAYER\n",
        "encode_model.add(MaxPool2D(pool_size=(2, 2), padding='same'))\n",
        "\n",
        "## THIRD SET OF LAYERS\n",
        "# CONVOLUTIONAL LAYER\n",
        "#encode_model.add(Conv2D(filters=8, kernel_size=(3,3), activation='relu', padding='same'))\n",
        "# POOLING LAYER\n",
        "#encode_model.add(MaxPool2D(pool_size=(2, 2), padding='valid'))\n",
        "encode_model.add(Flatten(input_shape=[7,7,8]))\n",
        "encode_model.add(Dense(7*7*8,activation=\"relu\"))\n",
        "encode_model.add(Dense(30,activation=\"relu\"))"
      ]
    },
    {
      "cell_type": "code",
      "execution_count": 10,
      "metadata": {
        "id": "Fchfz3Ffnb_Z"
      },
      "outputs": [],
      "source": [
        "############\n",
        "# Decoding #\n",
        "############\n",
        "decode_model=Sequential()\n",
        "\n",
        "# DeConv1\n",
        "#decode_model.add(Conv2D(filters=8, kernel_size=(3,3), activation='relu', padding='same'))\n",
        "# Upsampling LAYER\n",
        "#decode_model.add(UpSampling2D((2, 2)))\n",
        "\n",
        "decode_model.add(Dense(7*7*8,activation=\"relu\"))\n",
        "decode_model.add(Reshape([7,7,8]))\n",
        "\n",
        "# DeConv2\n",
        "decode_model.add(Conv2D(filters=8, kernel_size=(3,3), activation='relu', padding='same'))\n",
        "# Upsampling LAYER\n",
        "decode_model.add(UpSampling2D((2, 2)))\n",
        "\n",
        "# Deconv3\n",
        "decode_model.add(Conv2D(filters=16, kernel_size=(3,3), activation='relu', padding='same'))\n",
        "# POOLING LAYER\n",
        "decode_model.add(UpSampling2D((2, 2)))\n",
        "\n",
        "decode_model.add(Conv2D(1, kernel_size=(3,3), activation='sigmoid', padding='same'))\n"
      ]
    },
    {
      "cell_type": "code",
      "execution_count": 11,
      "metadata": {
        "id": "Mw9Mcq5dnb_Z"
      },
      "outputs": [],
      "source": [
        "autoencoder = Sequential([encode_model, decode_model])\n",
        "#autoencoder.add(encode_model)\n",
        "#autoencoder.add(decode_model)"
      ]
    },
    {
      "cell_type": "code",
      "source": [
        "autoencoder.compile(optimizer='adadelta', loss='binary_crossentropy')"
      ],
      "metadata": {
        "id": "5LfhNN1nxj5K"
      },
      "execution_count": 12,
      "outputs": []
    },
    {
      "cell_type": "code",
      "source": [
        "autoencoder.summary()"
      ],
      "metadata": {
        "id": "8_sAU6I-xkdR",
        "outputId": "0e634131-5cb6-4993-e367-aac9cd5fca70",
        "colab": {
          "base_uri": "https://localhost:8080/"
        }
      },
      "execution_count": 13,
      "outputs": [
        {
          "output_type": "stream",
          "name": "stdout",
          "text": [
            "Model: \"sequential_5\"\n",
            "_________________________________________________________________\n",
            " Layer (type)                Output Shape              Param #   \n",
            "=================================================================\n",
            " sequential_3 (Sequential)   (None, 30)                167166    \n",
            "                                                                 \n",
            " sequential_4 (Sequential)   (None, 28, 28, 1)         14049     \n",
            "                                                                 \n",
            "=================================================================\n",
            "Total params: 181215 (707.87 KB)\n",
            "Trainable params: 181215 (707.87 KB)\n",
            "Non-trainable params: 0 (0.00 Byte)\n",
            "_________________________________________________________________\n"
          ]
        }
      ]
    },
    {
      "cell_type": "code",
      "execution_count": 15,
      "metadata": {
        "id": "IvdkGvSNnb_a",
        "outputId": "d14a28b3-f620-49a8-8226-ce5e72b896f1",
        "colab": {
          "base_uri": "https://localhost:8080/"
        }
      },
      "outputs": [
        {
          "output_type": "stream",
          "name": "stdout",
          "text": [
            "Model: \"sequential_3\"\n",
            "_________________________________________________________________\n",
            " Layer (type)                Output Shape              Param #   \n",
            "=================================================================\n",
            " conv2d_7 (Conv2D)           (None, 28, 28, 16)        160       \n",
            "                                                                 \n",
            " max_pooling2d_3 (MaxPoolin  (None, 14, 14, 16)        0         \n",
            " g2D)                                                            \n",
            "                                                                 \n",
            " conv2d_8 (Conv2D)           (None, 14, 14, 8)         1160      \n",
            "                                                                 \n",
            " max_pooling2d_4 (MaxPoolin  (None, 7, 7, 8)           0         \n",
            " g2D)                                                            \n",
            "                                                                 \n",
            " flatten_1 (Flatten)         (None, 392)               0         \n",
            "                                                                 \n",
            " dense_2 (Dense)             (None, 392)               154056    \n",
            "                                                                 \n",
            " dense_3 (Dense)             (None, 30)                11790     \n",
            "                                                                 \n",
            "=================================================================\n",
            "Total params: 167166 (652.99 KB)\n",
            "Trainable params: 167166 (652.99 KB)\n",
            "Non-trainable params: 0 (0.00 Byte)\n",
            "_________________________________________________________________\n"
          ]
        }
      ],
      "source": [
        "encode_model.summary()"
      ]
    },
    {
      "cell_type": "code",
      "execution_count": 18,
      "metadata": {
        "id": "-uToDopqnb_b",
        "outputId": "e8bf70b1-af5b-474b-d375-430188dca472",
        "colab": {
          "base_uri": "https://localhost:8080/"
        }
      },
      "outputs": [
        {
          "output_type": "stream",
          "name": "stdout",
          "text": [
            "Model: \"sequential_4\"\n",
            "_________________________________________________________________\n",
            " Layer (type)                Output Shape              Param #   \n",
            "=================================================================\n",
            " dense_4 (Dense)             (None, 392)               12152     \n",
            "                                                                 \n",
            " reshape_1 (Reshape)         (None, 7, 7, 8)           0         \n",
            "                                                                 \n",
            " conv2d_9 (Conv2D)           (None, 7, 7, 8)           584       \n",
            "                                                                 \n",
            " up_sampling2d_3 (UpSamplin  (None, 14, 14, 8)         0         \n",
            " g2D)                                                            \n",
            "                                                                 \n",
            " conv2d_10 (Conv2D)          (None, 14, 14, 16)        1168      \n",
            "                                                                 \n",
            " up_sampling2d_4 (UpSamplin  (None, 28, 28, 16)        0         \n",
            " g2D)                                                            \n",
            "                                                                 \n",
            " conv2d_11 (Conv2D)          (None, 28, 28, 1)         145       \n",
            "                                                                 \n",
            "=================================================================\n",
            "Total params: 14049 (54.88 KB)\n",
            "Trainable params: 14049 (54.88 KB)\n",
            "Non-trainable params: 0 (0.00 Byte)\n",
            "_________________________________________________________________\n"
          ]
        }
      ],
      "source": [
        "decode_model.summary()"
      ]
    },
    {
      "cell_type": "code",
      "execution_count": 20,
      "metadata": {
        "colab": {
          "base_uri": "https://localhost:8080/"
        },
        "id": "YLekt0eMnb_b",
        "outputId": "012347d2-ccfd-4d79-d4a9-29de73329ff0"
      },
      "outputs": [
        {
          "output_type": "execute_result",
          "data": {
            "text/plain": [
              "(60000, 28, 28, 1)"
            ]
          },
          "metadata": {},
          "execution_count": 20
        }
      ],
      "source": [
        "x_train = x_train.reshape(60000,28,28,1)\n",
        "x_train = x_train/255\n",
        "x_train.shape"
      ]
    },
    {
      "cell_type": "code",
      "execution_count": 21,
      "metadata": {
        "id": "PfSZaCCEnb_b",
        "outputId": "48dba03f-089f-4c15-fb25-0175e1357c87",
        "colab": {
          "base_uri": "https://localhost:8080/"
        }
      },
      "outputs": [
        {
          "output_type": "execute_result",
          "data": {
            "text/plain": [
              "(10000, 28, 28, 1)"
            ]
          },
          "metadata": {},
          "execution_count": 21
        }
      ],
      "source": [
        "x_test = x_test.reshape(10000, 28, 28, 1)\n",
        "x_test = x_test/255\n",
        "x_test.shape"
      ]
    },
    {
      "cell_type": "code",
      "execution_count": 22,
      "metadata": {
        "id": "0kDxggwUnb_b",
        "outputId": "d5af9dbb-919d-41dc-9480-c3650bbf16f7",
        "colab": {
          "base_uri": "https://localhost:8080/"
        }
      },
      "outputs": [
        {
          "output_type": "stream",
          "name": "stdout",
          "text": [
            "Epoch 1/10\n",
            "469/469 [==============================] - 10s 8ms/step - loss: 0.6919 - val_loss: 0.6906\n",
            "Epoch 2/10\n",
            "469/469 [==============================] - 3s 7ms/step - loss: 0.6890 - val_loss: 0.6872\n",
            "Epoch 3/10\n",
            "469/469 [==============================] - 3s 7ms/step - loss: 0.6852 - val_loss: 0.6830\n",
            "Epoch 4/10\n",
            "469/469 [==============================] - 3s 6ms/step - loss: 0.6804 - val_loss: 0.6776\n",
            "Epoch 5/10\n",
            "469/469 [==============================] - 3s 6ms/step - loss: 0.6742 - val_loss: 0.6704\n",
            "Epoch 6/10\n",
            "469/469 [==============================] - 3s 7ms/step - loss: 0.6657 - val_loss: 0.6605\n",
            "Epoch 7/10\n",
            "469/469 [==============================] - 3s 6ms/step - loss: 0.6537 - val_loss: 0.6460\n",
            "Epoch 8/10\n",
            "469/469 [==============================] - 3s 6ms/step - loss: 0.6353 - val_loss: 0.6229\n",
            "Epoch 9/10\n",
            "469/469 [==============================] - 3s 6ms/step - loss: 0.6051 - val_loss: 0.5837\n",
            "Epoch 10/10\n",
            "469/469 [==============================] - 4s 8ms/step - loss: 0.5518 - val_loss: 0.5132\n"
          ]
        },
        {
          "output_type": "execute_result",
          "data": {
            "text/plain": [
              "<keras.src.callbacks.History at 0x78de164ea0b0>"
            ]
          },
          "metadata": {},
          "execution_count": 22
        }
      ],
      "source": [
        "# Train the model\n",
        "autoencoder.fit(x=x_train, y=x_train,  epochs=10, batch_size=128, shuffle=True, verbose=1, validation_data=(x_test, x_test))"
      ]
    },
    {
      "cell_type": "code",
      "execution_count": 23,
      "metadata": {
        "id": "yBM1A98snb_b",
        "outputId": "18d66eac-5621-4d39-f028-c0e9c5fae423",
        "colab": {
          "base_uri": "https://localhost:8080/",
          "height": 324
        }
      },
      "outputs": [
        {
          "output_type": "stream",
          "name": "stdout",
          "text": [
            "313/313 [==============================] - 2s 5ms/step\n"
          ]
        },
        {
          "output_type": "display_data",
          "data": {
            "text/plain": [
              "<Figure size 2000x400 with 20 Axes>"
            ],
            "image/png": "[encoded data removed]"
          },
          "metadata": {}
        }
      ],
      "source": [
        "decoded_imgs = autoencoder.predict(x_test)\n",
        "\n",
        "n = 10\n",
        "\n",
        "plt.figure(figsize=(20, 4))\n",
        "for i in range(n):\n",
        "    # display original\n",
        "    ax = plt.subplot(2, n, i + 1)\n",
        "    plt.imshow(x_test[i].reshape(28, 28))\n",
        "    plt.gray()\n",
        "    ax.get_xaxis().set_visible(False)\n",
        "    ax.get_yaxis().set_visible(False)\n",
        "\n",
        "    # display reconstruction\n",
        "    ax = plt.subplot(2, n, i+1+n)\n",
        "    plt.imshow(decoded_imgs[i].reshape(28, 28))\n",
        "    plt.gray()\n",
        "    ax.get_xaxis().set_visible(False)\n",
        "    ax.get_yaxis().set_visible(False)\n",
        "plt.show()"
      ]
    },
    {
      "cell_type": "code",
      "source": [],
      "metadata": {
        "id": "cv-IvuNfyUk-"
      },
      "execution_count": null,
      "outputs": []
    }
  ],
  "metadata": {
    "colab": {
      "provenance": [],
      "gpuType": "T4"
    },
    "kernelspec": {
      "display_name": "Python 3",
      "name": "python3"
    },
    "language_info": {
      "codemirror_mode": {
        "name": "ipython",
        "version": 3
      },
      "file_extension": ".py",
      "mimetype": "text/x-python",
      "name": "python",
      "nbconvert_exporter": "python",
      "pygments_lexer": "ipython3",
      "version": "3.11.6"
    },
    "accelerator": "GPU"
  },
  "nbformat": 4,
  "nbformat_minor": 0
}