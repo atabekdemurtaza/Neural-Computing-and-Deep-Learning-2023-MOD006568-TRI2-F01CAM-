{
  "nbformat": 4,
  "nbformat_minor": 0,
  "metadata": {
    "colab": {
      "provenance": [],
      "gpuType": "T4"
    },
    "kernelspec": {
      "name": "python3",
      "display_name": "Python 3"
    },
    "language_info": {
      "name": "python"
    },
    "accelerator": "GPU"
  },
  "cells": [
    {
      "cell_type": "code",
      "execution_count": 57,
      "metadata": {
        "id": "n3IDw2Q3Tk4E"
      },
      "outputs": [],
      "source": [
        "import pandas as pd\n",
        "import numpy as np\n",
        "import cv2\n",
        "import matplotlib.pyplot as plt\n",
        "from sklearn.model_selection import train_test_split\n",
        "from tensorflow import keras\n",
        "from pathlib import Path\n",
        "from tensorflow.keras.applications import EfficientNetB0\n",
        "from tensorflow.keras.layers import GlobalAveragePooling2D, Dense, Dropout\n",
        "from tensorflow.keras.models import Model\n",
        "from tensorflow.keras.optimizers import Adam\n",
        "from tensorflow.keras.callbacks import EarlyStopping, ModelCheckpoint, ReduceLROnPlateau"
      ]
    },
    {
      "cell_type": "code",
      "source": [
        "# Путь к папке с данными\n",
        "data_folder = Path(\"/content/\")"
      ],
      "metadata": {
        "id": "KktpqfQrgdKc"
      },
      "execution_count": 27,
      "outputs": []
    },
    {
      "cell_type": "code",
      "source": [
        "# Загрузка данных из CSV-файла\n",
        "csv_file = data_folder / \"train.csv\"\n",
        "train_file = pd.read_csv(csv_file)"
      ],
      "metadata": {
        "id": "dP-4mw21ggP1"
      },
      "execution_count": 28,
      "outputs": []
    },
    {
      "cell_type": "code",
      "source": [
        "# Исправляем колонки, разделяя 'image_id' и 'label'\n",
        "train_file[['image_id', 'label']] = train_file['image_id,label'].str.split(',', expand=True)"
      ],
      "metadata": {
        "id": "XiTatFy5giE2"
      },
      "execution_count": 29,
      "outputs": []
    },
    {
      "cell_type": "code",
      "source": [
        "# Удаляем старую колонку 'image_id,label'\n",
        "train_file.drop('image_id,label', axis=1, inplace=True)"
      ],
      "metadata": {
        "id": "PylliSE_g1oH"
      },
      "execution_count": 30,
      "outputs": []
    },
    {
      "cell_type": "code",
      "source": [
        "# Конвертируем метки в числовой формат\n",
        "train_file['label'] = train_file['label'].astype(int)"
      ],
      "metadata": {
        "id": "9S1kdjb-iw2n"
      },
      "execution_count": 31,
      "outputs": []
    },
    {
      "cell_type": "code",
      "source": [
        "# Пути к изображениям, предполагая что они находятся в поддиректории 'images/' в той же директории, что и CSV-файл\n",
        "image_paths = [data_folder / 'images' / fname for fname in train_file['image_id']]"
      ],
      "metadata": {
        "id": "vn0em4ueiz1c"
      },
      "execution_count": 32,
      "outputs": []
    },
    {
      "cell_type": "code",
      "source": [
        "# Загрузка и предобработка изображений\n",
        "images = []\n",
        "for img_path in image_paths:\n",
        "    img = cv2.imread(str(img_path))\n",
        "    if img is not None:\n",
        "        # Изменение размера изображения до 224x224 пикселей\n",
        "        img = cv2.resize(img, (224, 224))\n",
        "        # Нормализация пикселей изображения\n",
        "        img = img / 255.0\n",
        "        images.append(img)\n",
        "    else:\n",
        "        # Если изображение не найдено, добавим None в список\n",
        "        images.append(None)"
      ],
      "metadata": {
        "id": "U2cZEWYsji_0"
      },
      "execution_count": 33,
      "outputs": []
    },
    {
      "cell_type": "code",
      "source": [
        "# Преобразуем список в numpy массив для последующей обработки\n",
        "images = np.array([img for img in images if img is not None])"
      ],
      "metadata": {
        "id": "OzQrqIjTkjQ5"
      },
      "execution_count": 34,
      "outputs": []
    },
    {
      "cell_type": "code",
      "source": [
        "# Получаем метки классов\n",
        "labels = train_file['label'].values\n",
        "\n",
        "# Преобразуем метки в one-hot encoded вектора, если используется категориальная кросс-энтропия\n",
        "num_classes = labels.max() + 1  # Предполагаем, что классы идут от 0 до max(label)\n",
        "labels = keras.utils.to_categorical(labels, num_classes=num_classes)"
      ],
      "metadata": {
        "id": "dKpBHO9pkpTd"
      },
      "execution_count": 35,
      "outputs": []
    },
    {
      "cell_type": "code",
      "source": [
        "# Удаляем None элементы из labels, соответствующие отсутствующим изображениям\n",
        "valid_indices = [i for i, img in enumerate(images) if img is not None]\n",
        "labels = labels[valid_indices]\n",
        "\n",
        "# Разделим данные на обучающую и тестовую выборки\n",
        "X_train, X_test, y_train, y_test = train_test_split(images, labels, test_size=0.2, random_state=42)"
      ],
      "metadata": {
        "id": "0BICbe0pk1aU"
      },
      "execution_count": 36,
      "outputs": []
    },
    {
      "cell_type": "code",
      "source": [
        "# Загрузка предварительно обученной модели EfficientNetB0\n",
        "base_model = EfficientNetB0(weights='imagenet', include_top=False, input_shape=(224, 224, 3))\n",
        "base_model.trainable = False  # Заморозка слоёв"
      ],
      "metadata": {
        "colab": {
          "base_uri": "https://localhost:8080/"
        },
        "id": "DQEILLIZk7TK",
        "outputId": "c779f545-e0d2-49c8-c02d-79db4c4b617a"
      },
      "execution_count": 38,
      "outputs": [
        {
          "output_type": "stream",
          "name": "stdout",
          "text": [
            "Downloading data from https://storage.googleapis.com/keras-applications/efficientnetb0_notop.h5\n",
            "16705208/16705208 [==============================] - 0s 0us/step\n"
          ]
        }
      ]
    },
    {
      "cell_type": "code",
      "source": [
        "# Добавление кастомных слоёв\n",
        "x = GlobalAveragePooling2D()(base_model.output)\n",
        "x = Dense(256, activation='relu')(x)\n",
        "x = Dropout(0.5)(x)\n",
        "predictions = Dense(num_classes, activation='softmax')(x)"
      ],
      "metadata": {
        "id": "4WomFUXGk94B"
      },
      "execution_count": 39,
      "outputs": []
    },
    {
      "cell_type": "code",
      "source": [
        "# Сборка модели\n",
        "model = Model(inputs=base_model.input, outputs=predictions)\n",
        "\n",
        "# Компиляция модели\n",
        "model.compile(optimizer=Adam(learning_rate=0.001), loss='categorical_crossentropy', metrics=['accuracy'])"
      ],
      "metadata": {
        "id": "y8qTCgdgk_Wa"
      },
      "execution_count": 41,
      "outputs": []
    },
    {
      "cell_type": "code",
      "source": [
        "model.summary()"
      ],
      "metadata": {
        "colab": {
          "base_uri": "https://localhost:8080/"
        },
        "id": "s9IM5k0KlAzy",
        "outputId": "dfde8431-2d03-4a4d-9a84-e9679de84647"
      },
      "execution_count": 42,
      "outputs": [
        {
          "output_type": "stream",
          "name": "stdout",
          "text": [
            "Model: \"model_1\"\n",
            "__________________________________________________________________________________________________\n",
            " Layer (type)                Output Shape                 Param #   Connected to                  \n",
            "==================================================================================================\n",
            " input_1 (InputLayer)        [(None, 224, 224, 3)]        0         []                            \n",
            "                                                                                                  \n",
            " rescaling (Rescaling)       (None, 224, 224, 3)          0         ['input_1[0][0]']             \n",
            "                                                                                                  \n",
            " normalization (Normalizati  (None, 224, 224, 3)          7         ['rescaling[0][0]']           \n",
            " on)                                                                                              \n",
            "                                                                                                  \n",
            " rescaling_1 (Rescaling)     (None, 224, 224, 3)          0         ['normalization[0][0]']       \n",
            "                                                                                                  \n",
            " stem_conv_pad (ZeroPadding  (None, 225, 225, 3)          0         ['rescaling_1[0][0]']         \n",
            " 2D)                                                                                              \n",
            "                                                                                                  \n",
            " stem_conv (Conv2D)          (None, 112, 112, 32)         864       ['stem_conv_pad[0][0]']       \n",
            "                                                                                                  \n",
            " stem_bn (BatchNormalizatio  (None, 112, 112, 32)         128       ['stem_conv[0][0]']           \n",
            " n)                                                                                               \n",
            "                                                                                                  \n",
            " stem_activation (Activatio  (None, 112, 112, 32)         0         ['stem_bn[0][0]']             \n",
            " n)                                                                                               \n",
            "                                                                                                  \n",
            " block1a_dwconv (DepthwiseC  (None, 112, 112, 32)         288       ['stem_activation[0][0]']     \n",
            " onv2D)                                                                                           \n",
            "                                                                                                  \n",
            " block1a_bn (BatchNormaliza  (None, 112, 112, 32)         128       ['block1a_dwconv[0][0]']      \n",
            " tion)                                                                                            \n",
            "                                                                                                  \n",
            " block1a_activation (Activa  (None, 112, 112, 32)         0         ['block1a_bn[0][0]']          \n",
            " tion)                                                                                            \n",
            "                                                                                                  \n",
            " block1a_se_squeeze (Global  (None, 32)                   0         ['block1a_activation[0][0]']  \n",
            " AveragePooling2D)                                                                                \n",
            "                                                                                                  \n",
            " block1a_se_reshape (Reshap  (None, 1, 1, 32)             0         ['block1a_se_squeeze[0][0]']  \n",
            " e)                                                                                               \n",
            "                                                                                                  \n",
            " block1a_se_reduce (Conv2D)  (None, 1, 1, 8)              264       ['block1a_se_reshape[0][0]']  \n",
            "                                                                                                  \n",
            " block1a_se_expand (Conv2D)  (None, 1, 1, 32)             288       ['block1a_se_reduce[0][0]']   \n",
            "                                                                                                  \n",
            " block1a_se_excite (Multipl  (None, 112, 112, 32)         0         ['block1a_activation[0][0]',  \n",
            " y)                                                                  'block1a_se_expand[0][0]']   \n",
            "                                                                                                  \n",
            " block1a_project_conv (Conv  (None, 112, 112, 16)         512       ['block1a_se_excite[0][0]']   \n",
            " 2D)                                                                                              \n",
            "                                                                                                  \n",
            " block1a_project_bn (BatchN  (None, 112, 112, 16)         64        ['block1a_project_conv[0][0]']\n",
            " ormalization)                                                                                    \n",
            "                                                                                                  \n",
            " block2a_expand_conv (Conv2  (None, 112, 112, 96)         1536      ['block1a_project_bn[0][0]']  \n",
            " D)                                                                                               \n",
            "                                                                                                  \n",
            " block2a_expand_bn (BatchNo  (None, 112, 112, 96)         384       ['block2a_expand_conv[0][0]'] \n",
            " rmalization)                                                                                     \n",
            "                                                                                                  \n",
            " block2a_expand_activation   (None, 112, 112, 96)         0         ['block2a_expand_bn[0][0]']   \n",
            " (Activation)                                                                                     \n",
            "                                                                                                  \n",
            " block2a_dwconv_pad (ZeroPa  (None, 113, 113, 96)         0         ['block2a_expand_activation[0]\n",
            " dding2D)                                                           [0]']                         \n",
            "                                                                                                  \n",
            " block2a_dwconv (DepthwiseC  (None, 56, 56, 96)           864       ['block2a_dwconv_pad[0][0]']  \n",
            " onv2D)                                                                                           \n",
            "                                                                                                  \n",
            " block2a_bn (BatchNormaliza  (None, 56, 56, 96)           384       ['block2a_dwconv[0][0]']      \n",
            " tion)                                                                                            \n",
            "                                                                                                  \n",
            " block2a_activation (Activa  (None, 56, 56, 96)           0         ['block2a_bn[0][0]']          \n",
            " tion)                                                                                            \n",
            "                                                                                                  \n",
            " block2a_se_squeeze (Global  (None, 96)                   0         ['block2a_activation[0][0]']  \n",
            " AveragePooling2D)                                                                                \n",
            "                                                                                                  \n",
            " block2a_se_reshape (Reshap  (None, 1, 1, 96)             0         ['block2a_se_squeeze[0][0]']  \n",
            " e)                                                                                               \n",
            "                                                                                                  \n",
            " block2a_se_reduce (Conv2D)  (None, 1, 1, 4)              388       ['block2a_se_reshape[0][0]']  \n",
            "                                                                                                  \n",
            " block2a_se_expand (Conv2D)  (None, 1, 1, 96)             480       ['block2a_se_reduce[0][0]']   \n",
            "                                                                                                  \n",
            " block2a_se_excite (Multipl  (None, 56, 56, 96)           0         ['block2a_activation[0][0]',  \n",
            " y)                                                                  'block2a_se_expand[0][0]']   \n",
            "                                                                                                  \n",
            " block2a_project_conv (Conv  (None, 56, 56, 24)           2304      ['block2a_se_excite[0][0]']   \n",
            " 2D)                                                                                              \n",
            "                                                                                                  \n",
            " block2a_project_bn (BatchN  (None, 56, 56, 24)           96        ['block2a_project_conv[0][0]']\n",
            " ormalization)                                                                                    \n",
            "                                                                                                  \n",
            " block2b_expand_conv (Conv2  (None, 56, 56, 144)          3456      ['block2a_project_bn[0][0]']  \n",
            " D)                                                                                               \n",
            "                                                                                                  \n",
            " block2b_expand_bn (BatchNo  (None, 56, 56, 144)          576       ['block2b_expand_conv[0][0]'] \n",
            " rmalization)                                                                                     \n",
            "                                                                                                  \n",
            " block2b_expand_activation   (None, 56, 56, 144)          0         ['block2b_expand_bn[0][0]']   \n",
            " (Activation)                                                                                     \n",
            "                                                                                                  \n",
            " block2b_dwconv (DepthwiseC  (None, 56, 56, 144)          1296      ['block2b_expand_activation[0]\n",
            " onv2D)                                                             [0]']                         \n",
            "                                                                                                  \n",
            " block2b_bn (BatchNormaliza  (None, 56, 56, 144)          576       ['block2b_dwconv[0][0]']      \n",
            " tion)                                                                                            \n",
            "                                                                                                  \n",
            " block2b_activation (Activa  (None, 56, 56, 144)          0         ['block2b_bn[0][0]']          \n",
            " tion)                                                                                            \n",
            "                                                                                                  \n",
            " block2b_se_squeeze (Global  (None, 144)                  0         ['block2b_activation[0][0]']  \n",
            " AveragePooling2D)                                                                                \n",
            "                                                                                                  \n",
            " block2b_se_reshape (Reshap  (None, 1, 1, 144)            0         ['block2b_se_squeeze[0][0]']  \n",
            " e)                                                                                               \n",
            "                                                                                                  \n",
            " block2b_se_reduce (Conv2D)  (None, 1, 1, 6)              870       ['block2b_se_reshape[0][0]']  \n",
            "                                                                                                  \n",
            " block2b_se_expand (Conv2D)  (None, 1, 1, 144)            1008      ['block2b_se_reduce[0][0]']   \n",
            "                                                                                                  \n",
            " block2b_se_excite (Multipl  (None, 56, 56, 144)          0         ['block2b_activation[0][0]',  \n",
            " y)                                                                  'block2b_se_expand[0][0]']   \n",
            "                                                                                                  \n",
            " block2b_project_conv (Conv  (None, 56, 56, 24)           3456      ['block2b_se_excite[0][0]']   \n",
            " 2D)                                                                                              \n",
            "                                                                                                  \n",
            " block2b_project_bn (BatchN  (None, 56, 56, 24)           96        ['block2b_project_conv[0][0]']\n",
            " ormalization)                                                                                    \n",
            "                                                                                                  \n",
            " block2b_drop (Dropout)      (None, 56, 56, 24)           0         ['block2b_project_bn[0][0]']  \n",
            "                                                                                                  \n",
            " block2b_add (Add)           (None, 56, 56, 24)           0         ['block2b_drop[0][0]',        \n",
            "                                                                     'block2a_project_bn[0][0]']  \n",
            "                                                                                                  \n",
            " block3a_expand_conv (Conv2  (None, 56, 56, 144)          3456      ['block2b_add[0][0]']         \n",
            " D)                                                                                               \n",
            "                                                                                                  \n",
            " block3a_expand_bn (BatchNo  (None, 56, 56, 144)          576       ['block3a_expand_conv[0][0]'] \n",
            " rmalization)                                                                                     \n",
            "                                                                                                  \n",
            " block3a_expand_activation   (None, 56, 56, 144)          0         ['block3a_expand_bn[0][0]']   \n",
            " (Activation)                                                                                     \n",
            "                                                                                                  \n",
            " block3a_dwconv_pad (ZeroPa  (None, 59, 59, 144)          0         ['block3a_expand_activation[0]\n",
            " dding2D)                                                           [0]']                         \n",
            "                                                                                                  \n",
            " block3a_dwconv (DepthwiseC  (None, 28, 28, 144)          3600      ['block3a_dwconv_pad[0][0]']  \n",
            " onv2D)                                                                                           \n",
            "                                                                                                  \n",
            " block3a_bn (BatchNormaliza  (None, 28, 28, 144)          576       ['block3a_dwconv[0][0]']      \n",
            " tion)                                                                                            \n",
            "                                                                                                  \n",
            " block3a_activation (Activa  (None, 28, 28, 144)          0         ['block3a_bn[0][0]']          \n",
            " tion)                                                                                            \n",
            "                                                                                                  \n",
            " block3a_se_squeeze (Global  (None, 144)                  0         ['block3a_activation[0][0]']  \n",
            " AveragePooling2D)                                                                                \n",
            "                                                                                                  \n",
            " block3a_se_reshape (Reshap  (None, 1, 1, 144)            0         ['block3a_se_squeeze[0][0]']  \n",
            " e)                                                                                               \n",
            "                                                                                                  \n",
            " block3a_se_reduce (Conv2D)  (None, 1, 1, 6)              870       ['block3a_se_reshape[0][0]']  \n",
            "                                                                                                  \n",
            " block3a_se_expand (Conv2D)  (None, 1, 1, 144)            1008      ['block3a_se_reduce[0][0]']   \n",
            "                                                                                                  \n",
            " block3a_se_excite (Multipl  (None, 28, 28, 144)          0         ['block3a_activation[0][0]',  \n",
            " y)                                                                  'block3a_se_expand[0][0]']   \n",
            "                                                                                                  \n",
            " block3a_project_conv (Conv  (None, 28, 28, 40)           5760      ['block3a_se_excite[0][0]']   \n",
            " 2D)                                                                                              \n",
            "                                                                                                  \n",
            " block3a_project_bn (BatchN  (None, 28, 28, 40)           160       ['block3a_project_conv[0][0]']\n",
            " ormalization)                                                                                    \n",
            "                                                                                                  \n",
            " block3b_expand_conv (Conv2  (None, 28, 28, 240)          9600      ['block3a_project_bn[0][0]']  \n",
            " D)                                                                                               \n",
            "                                                                                                  \n",
            " block3b_expand_bn (BatchNo  (None, 28, 28, 240)          960       ['block3b_expand_conv[0][0]'] \n",
            " rmalization)                                                                                     \n",
            "                                                                                                  \n",
            " block3b_expand_activation   (None, 28, 28, 240)          0         ['block3b_expand_bn[0][0]']   \n",
            " (Activation)                                                                                     \n",
            "                                                                                                  \n",
            " block3b_dwconv (DepthwiseC  (None, 28, 28, 240)          6000      ['block3b_expand_activation[0]\n",
            " onv2D)                                                             [0]']                         \n",
            "                                                                                                  \n",
            " block3b_bn (BatchNormaliza  (None, 28, 28, 240)          960       ['block3b_dwconv[0][0]']      \n",
            " tion)                                                                                            \n",
            "                                                                                                  \n",
            " block3b_activation (Activa  (None, 28, 28, 240)          0         ['block3b_bn[0][0]']          \n",
            " tion)                                                                                            \n",
            "                                                                                                  \n",
            " block3b_se_squeeze (Global  (None, 240)                  0         ['block3b_activation[0][0]']  \n",
            " AveragePooling2D)                                                                                \n",
            "                                                                                                  \n",
            " block3b_se_reshape (Reshap  (None, 1, 1, 240)            0         ['block3b_se_squeeze[0][0]']  \n",
            " e)                                                                                               \n",
            "                                                                                                  \n",
            " block3b_se_reduce (Conv2D)  (None, 1, 1, 10)             2410      ['block3b_se_reshape[0][0]']  \n",
            "                                                                                                  \n",
            " block3b_se_expand (Conv2D)  (None, 1, 1, 240)            2640      ['block3b_se_reduce[0][0]']   \n",
            "                                                                                                  \n",
            " block3b_se_excite (Multipl  (None, 28, 28, 240)          0         ['block3b_activation[0][0]',  \n",
            " y)                                                                  'block3b_se_expand[0][0]']   \n",
            "                                                                                                  \n",
            " block3b_project_conv (Conv  (None, 28, 28, 40)           9600      ['block3b_se_excite[0][0]']   \n",
            " 2D)                                                                                              \n",
            "                                                                                                  \n",
            " block3b_project_bn (BatchN  (None, 28, 28, 40)           160       ['block3b_project_conv[0][0]']\n",
            " ormalization)                                                                                    \n",
            "                                                                                                  \n",
            " block3b_drop (Dropout)      (None, 28, 28, 40)           0         ['block3b_project_bn[0][0]']  \n",
            "                                                                                                  \n",
            " block3b_add (Add)           (None, 28, 28, 40)           0         ['block3b_drop[0][0]',        \n",
            "                                                                     'block3a_project_bn[0][0]']  \n",
            "                                                                                                  \n",
            " block4a_expand_conv (Conv2  (None, 28, 28, 240)          9600      ['block3b_add[0][0]']         \n",
            " D)                                                                                               \n",
            "                                                                                                  \n",
            " block4a_expand_bn (BatchNo  (None, 28, 28, 240)          960       ['block4a_expand_conv[0][0]'] \n",
            " rmalization)                                                                                     \n",
            "                                                                                                  \n",
            " block4a_expand_activation   (None, 28, 28, 240)          0         ['block4a_expand_bn[0][0]']   \n",
            " (Activation)                                                                                     \n",
            "                                                                                                  \n",
            " block4a_dwconv_pad (ZeroPa  (None, 29, 29, 240)          0         ['block4a_expand_activation[0]\n",
            " dding2D)                                                           [0]']                         \n",
            "                                                                                                  \n",
            " block4a_dwconv (DepthwiseC  (None, 14, 14, 240)          2160      ['block4a_dwconv_pad[0][0]']  \n",
            " onv2D)                                                                                           \n",
            "                                                                                                  \n",
            " block4a_bn (BatchNormaliza  (None, 14, 14, 240)          960       ['block4a_dwconv[0][0]']      \n",
            " tion)                                                                                            \n",
            "                                                                                                  \n",
            " block4a_activation (Activa  (None, 14, 14, 240)          0         ['block4a_bn[0][0]']          \n",
            " tion)                                                                                            \n",
            "                                                                                                  \n",
            " block4a_se_squeeze (Global  (None, 240)                  0         ['block4a_activation[0][0]']  \n",
            " AveragePooling2D)                                                                                \n",
            "                                                                                                  \n",
            " block4a_se_reshape (Reshap  (None, 1, 1, 240)            0         ['block4a_se_squeeze[0][0]']  \n",
            " e)                                                                                               \n",
            "                                                                                                  \n",
            " block4a_se_reduce (Conv2D)  (None, 1, 1, 10)             2410      ['block4a_se_reshape[0][0]']  \n",
            "                                                                                                  \n",
            " block4a_se_expand (Conv2D)  (None, 1, 1, 240)            2640      ['block4a_se_reduce[0][0]']   \n",
            "                                                                                                  \n",
            " block4a_se_excite (Multipl  (None, 14, 14, 240)          0         ['block4a_activation[0][0]',  \n",
            " y)                                                                  'block4a_se_expand[0][0]']   \n",
            "                                                                                                  \n",
            " block4a_project_conv (Conv  (None, 14, 14, 80)           19200     ['block4a_se_excite[0][0]']   \n",
            " 2D)                                                                                              \n",
            "                                                                                                  \n",
            " block4a_project_bn (BatchN  (None, 14, 14, 80)           320       ['block4a_project_conv[0][0]']\n",
            " ormalization)                                                                                    \n",
            "                                                                                                  \n",
            " block4b_expand_conv (Conv2  (None, 14, 14, 480)          38400     ['block4a_project_bn[0][0]']  \n",
            " D)                                                                                               \n",
            "                                                                                                  \n",
            " block4b_expand_bn (BatchNo  (None, 14, 14, 480)          1920      ['block4b_expand_conv[0][0]'] \n",
            " rmalization)                                                                                     \n",
            "                                                                                                  \n",
            " block4b_expand_activation   (None, 14, 14, 480)          0         ['block4b_expand_bn[0][0]']   \n",
            " (Activation)                                                                                     \n",
            "                                                                                                  \n",
            " block4b_dwconv (DepthwiseC  (None, 14, 14, 480)          4320      ['block4b_expand_activation[0]\n",
            " onv2D)                                                             [0]']                         \n",
            "                                                                                                  \n",
            " block4b_bn (BatchNormaliza  (None, 14, 14, 480)          1920      ['block4b_dwconv[0][0]']      \n",
            " tion)                                                                                            \n",
            "                                                                                                  \n",
            " block4b_activation (Activa  (None, 14, 14, 480)          0         ['block4b_bn[0][0]']          \n",
            " tion)                                                                                            \n",
            "                                                                                                  \n",
            " block4b_se_squeeze (Global  (None, 480)                  0         ['block4b_activation[0][0]']  \n",
            " AveragePooling2D)                                                                                \n",
            "                                                                                                  \n",
            " block4b_se_reshape (Reshap  (None, 1, 1, 480)            0         ['block4b_se_squeeze[0][0]']  \n",
            " e)                                                                                               \n",
            "                                                                                                  \n",
            " block4b_se_reduce (Conv2D)  (None, 1, 1, 20)             9620      ['block4b_se_reshape[0][0]']  \n",
            "                                                                                                  \n",
            " block4b_se_expand (Conv2D)  (None, 1, 1, 480)            10080     ['block4b_se_reduce[0][0]']   \n",
            "                                                                                                  \n",
            " block4b_se_excite (Multipl  (None, 14, 14, 480)          0         ['block4b_activation[0][0]',  \n",
            " y)                                                                  'block4b_se_expand[0][0]']   \n",
            "                                                                                                  \n",
            " block4b_project_conv (Conv  (None, 14, 14, 80)           38400     ['block4b_se_excite[0][0]']   \n",
            " 2D)                                                                                              \n",
            "                                                                                                  \n",
            " block4b_project_bn (BatchN  (None, 14, 14, 80)           320       ['block4b_project_conv[0][0]']\n",
            " ormalization)                                                                                    \n",
            "                                                                                                  \n",
            " block4b_drop (Dropout)      (None, 14, 14, 80)           0         ['block4b_project_bn[0][0]']  \n",
            "                                                                                                  \n",
            " block4b_add (Add)           (None, 14, 14, 80)           0         ['block4b_drop[0][0]',        \n",
            "                                                                     'block4a_project_bn[0][0]']  \n",
            "                                                                                                  \n",
            " block4c_expand_conv (Conv2  (None, 14, 14, 480)          38400     ['block4b_add[0][0]']         \n",
            " D)                                                                                               \n",
            "                                                                                                  \n",
            " block4c_expand_bn (BatchNo  (None, 14, 14, 480)          1920      ['block4c_expand_conv[0][0]'] \n",
            " rmalization)                                                                                     \n",
            "                                                                                                  \n",
            " block4c_expand_activation   (None, 14, 14, 480)          0         ['block4c_expand_bn[0][0]']   \n",
            " (Activation)                                                                                     \n",
            "                                                                                                  \n",
            " block4c_dwconv (DepthwiseC  (None, 14, 14, 480)          4320      ['block4c_expand_activation[0]\n",
            " onv2D)                                                             [0]']                         \n",
            "                                                                                                  \n",
            " block4c_bn (BatchNormaliza  (None, 14, 14, 480)          1920      ['block4c_dwconv[0][0]']      \n",
            " tion)                                                                                            \n",
            "                                                                                                  \n",
            " block4c_activation (Activa  (None, 14, 14, 480)          0         ['block4c_bn[0][0]']          \n",
            " tion)                                                                                            \n",
            "                                                                                                  \n",
            " block4c_se_squeeze (Global  (None, 480)                  0         ['block4c_activation[0][0]']  \n",
            " AveragePooling2D)                                                                                \n",
            "                                                                                                  \n",
            " block4c_se_reshape (Reshap  (None, 1, 1, 480)            0         ['block4c_se_squeeze[0][0]']  \n",
            " e)                                                                                               \n",
            "                                                                                                  \n",
            " block4c_se_reduce (Conv2D)  (None, 1, 1, 20)             9620      ['block4c_se_reshape[0][0]']  \n",
            "                                                                                                  \n",
            " block4c_se_expand (Conv2D)  (None, 1, 1, 480)            10080     ['block4c_se_reduce[0][0]']   \n",
            "                                                                                                  \n",
            " block4c_se_excite (Multipl  (None, 14, 14, 480)          0         ['block4c_activation[0][0]',  \n",
            " y)                                                                  'block4c_se_expand[0][0]']   \n",
            "                                                                                                  \n",
            " block4c_project_conv (Conv  (None, 14, 14, 80)           38400     ['block4c_se_excite[0][0]']   \n",
            " 2D)                                                                                              \n",
            "                                                                                                  \n",
            " block4c_project_bn (BatchN  (None, 14, 14, 80)           320       ['block4c_project_conv[0][0]']\n",
            " ormalization)                                                                                    \n",
            "                                                                                                  \n",
            " block4c_drop (Dropout)      (None, 14, 14, 80)           0         ['block4c_project_bn[0][0]']  \n",
            "                                                                                                  \n",
            " block4c_add (Add)           (None, 14, 14, 80)           0         ['block4c_drop[0][0]',        \n",
            "                                                                     'block4b_add[0][0]']         \n",
            "                                                                                                  \n",
            " block5a_expand_conv (Conv2  (None, 14, 14, 480)          38400     ['block4c_add[0][0]']         \n",
            " D)                                                                                               \n",
            "                                                                                                  \n",
            " block5a_expand_bn (BatchNo  (None, 14, 14, 480)          1920      ['block5a_expand_conv[0][0]'] \n",
            " rmalization)                                                                                     \n",
            "                                                                                                  \n",
            " block5a_expand_activation   (None, 14, 14, 480)          0         ['block5a_expand_bn[0][0]']   \n",
            " (Activation)                                                                                     \n",
            "                                                                                                  \n",
            " block5a_dwconv (DepthwiseC  (None, 14, 14, 480)          12000     ['block5a_expand_activation[0]\n",
            " onv2D)                                                             [0]']                         \n",
            "                                                                                                  \n",
            " block5a_bn (BatchNormaliza  (None, 14, 14, 480)          1920      ['block5a_dwconv[0][0]']      \n",
            " tion)                                                                                            \n",
            "                                                                                                  \n",
            " block5a_activation (Activa  (None, 14, 14, 480)          0         ['block5a_bn[0][0]']          \n",
            " tion)                                                                                            \n",
            "                                                                                                  \n",
            " block5a_se_squeeze (Global  (None, 480)                  0         ['block5a_activation[0][0]']  \n",
            " AveragePooling2D)                                                                                \n",
            "                                                                                                  \n",
            " block5a_se_reshape (Reshap  (None, 1, 1, 480)            0         ['block5a_se_squeeze[0][0]']  \n",
            " e)                                                                                               \n",
            "                                                                                                  \n",
            " block5a_se_reduce (Conv2D)  (None, 1, 1, 20)             9620      ['block5a_se_reshape[0][0]']  \n",
            "                                                                                                  \n",
            " block5a_se_expand (Conv2D)  (None, 1, 1, 480)            10080     ['block5a_se_reduce[0][0]']   \n",
            "                                                                                                  \n",
            " block5a_se_excite (Multipl  (None, 14, 14, 480)          0         ['block5a_activation[0][0]',  \n",
            " y)                                                                  'block5a_se_expand[0][0]']   \n",
            "                                                                                                  \n",
            " block5a_project_conv (Conv  (None, 14, 14, 112)          53760     ['block5a_se_excite[0][0]']   \n",
            " 2D)                                                                                              \n",
            "                                                                                                  \n",
            " block5a_project_bn (BatchN  (None, 14, 14, 112)          448       ['block5a_project_conv[0][0]']\n",
            " ormalization)                                                                                    \n",
            "                                                                                                  \n",
            " block5b_expand_conv (Conv2  (None, 14, 14, 672)          75264     ['block5a_project_bn[0][0]']  \n",
            " D)                                                                                               \n",
            "                                                                                                  \n",
            " block5b_expand_bn (BatchNo  (None, 14, 14, 672)          2688      ['block5b_expand_conv[0][0]'] \n",
            " rmalization)                                                                                     \n",
            "                                                                                                  \n",
            " block5b_expand_activation   (None, 14, 14, 672)          0         ['block5b_expand_bn[0][0]']   \n",
            " (Activation)                                                                                     \n",
            "                                                                                                  \n",
            " block5b_dwconv (DepthwiseC  (None, 14, 14, 672)          16800     ['block5b_expand_activation[0]\n",
            " onv2D)                                                             [0]']                         \n",
            "                                                                                                  \n",
            " block5b_bn (BatchNormaliza  (None, 14, 14, 672)          2688      ['block5b_dwconv[0][0]']      \n",
            " tion)                                                                                            \n",
            "                                                                                                  \n",
            " block5b_activation (Activa  (None, 14, 14, 672)          0         ['block5b_bn[0][0]']          \n",
            " tion)                                                                                            \n",
            "                                                                                                  \n",
            " block5b_se_squeeze (Global  (None, 672)                  0         ['block5b_activation[0][0]']  \n",
            " AveragePooling2D)                                                                                \n",
            "                                                                                                  \n",
            " block5b_se_reshape (Reshap  (None, 1, 1, 672)            0         ['block5b_se_squeeze[0][0]']  \n",
            " e)                                                                                               \n",
            "                                                                                                  \n",
            " block5b_se_reduce (Conv2D)  (None, 1, 1, 28)             18844     ['block5b_se_reshape[0][0]']  \n",
            "                                                                                                  \n",
            " block5b_se_expand (Conv2D)  (None, 1, 1, 672)            19488     ['block5b_se_reduce[0][0]']   \n",
            "                                                                                                  \n",
            " block5b_se_excite (Multipl  (None, 14, 14, 672)          0         ['block5b_activation[0][0]',  \n",
            " y)                                                                  'block5b_se_expand[0][0]']   \n",
            "                                                                                                  \n",
            " block5b_project_conv (Conv  (None, 14, 14, 112)          75264     ['block5b_se_excite[0][0]']   \n",
            " 2D)                                                                                              \n",
            "                                                                                                  \n",
            " block5b_project_bn (BatchN  (None, 14, 14, 112)          448       ['block5b_project_conv[0][0]']\n",
            " ormalization)                                                                                    \n",
            "                                                                                                  \n",
            " block5b_drop (Dropout)      (None, 14, 14, 112)          0         ['block5b_project_bn[0][0]']  \n",
            "                                                                                                  \n",
            " block5b_add (Add)           (None, 14, 14, 112)          0         ['block5b_drop[0][0]',        \n",
            "                                                                     'block5a_project_bn[0][0]']  \n",
            "                                                                                                  \n",
            " block5c_expand_conv (Conv2  (None, 14, 14, 672)          75264     ['block5b_add[0][0]']         \n",
            " D)                                                                                               \n",
            "                                                                                                  \n",
            " block5c_expand_bn (BatchNo  (None, 14, 14, 672)          2688      ['block5c_expand_conv[0][0]'] \n",
            " rmalization)                                                                                     \n",
            "                                                                                                  \n",
            " block5c_expand_activation   (None, 14, 14, 672)          0         ['block5c_expand_bn[0][0]']   \n",
            " (Activation)                                                                                     \n",
            "                                                                                                  \n",
            " block5c_dwconv (DepthwiseC  (None, 14, 14, 672)          16800     ['block5c_expand_activation[0]\n",
            " onv2D)                                                             [0]']                         \n",
            "                                                                                                  \n",
            " block5c_bn (BatchNormaliza  (None, 14, 14, 672)          2688      ['block5c_dwconv[0][0]']      \n",
            " tion)                                                                                            \n",
            "                                                                                                  \n",
            " block5c_activation (Activa  (None, 14, 14, 672)          0         ['block5c_bn[0][0]']          \n",
            " tion)                                                                                            \n",
            "                                                                                                  \n",
            " block5c_se_squeeze (Global  (None, 672)                  0         ['block5c_activation[0][0]']  \n",
            " AveragePooling2D)                                                                                \n",
            "                                                                                                  \n",
            " block5c_se_reshape (Reshap  (None, 1, 1, 672)            0         ['block5c_se_squeeze[0][0]']  \n",
            " e)                                                                                               \n",
            "                                                                                                  \n",
            " block5c_se_reduce (Conv2D)  (None, 1, 1, 28)             18844     ['block5c_se_reshape[0][0]']  \n",
            "                                                                                                  \n",
            " block5c_se_expand (Conv2D)  (None, 1, 1, 672)            19488     ['block5c_se_reduce[0][0]']   \n",
            "                                                                                                  \n",
            " block5c_se_excite (Multipl  (None, 14, 14, 672)          0         ['block5c_activation[0][0]',  \n",
            " y)                                                                  'block5c_se_expand[0][0]']   \n",
            "                                                                                                  \n",
            " block5c_project_conv (Conv  (None, 14, 14, 112)          75264     ['block5c_se_excite[0][0]']   \n",
            " 2D)                                                                                              \n",
            "                                                                                                  \n",
            " block5c_project_bn (BatchN  (None, 14, 14, 112)          448       ['block5c_project_conv[0][0]']\n",
            " ormalization)                                                                                    \n",
            "                                                                                                  \n",
            " block5c_drop (Dropout)      (None, 14, 14, 112)          0         ['block5c_project_bn[0][0]']  \n",
            "                                                                                                  \n",
            " block5c_add (Add)           (None, 14, 14, 112)          0         ['block5c_drop[0][0]',        \n",
            "                                                                     'block5b_add[0][0]']         \n",
            "                                                                                                  \n",
            " block6a_expand_conv (Conv2  (None, 14, 14, 672)          75264     ['block5c_add[0][0]']         \n",
            " D)                                                                                               \n",
            "                                                                                                  \n",
            " block6a_expand_bn (BatchNo  (None, 14, 14, 672)          2688      ['block6a_expand_conv[0][0]'] \n",
            " rmalization)                                                                                     \n",
            "                                                                                                  \n",
            " block6a_expand_activation   (None, 14, 14, 672)          0         ['block6a_expand_bn[0][0]']   \n",
            " (Activation)                                                                                     \n",
            "                                                                                                  \n",
            " block6a_dwconv_pad (ZeroPa  (None, 17, 17, 672)          0         ['block6a_expand_activation[0]\n",
            " dding2D)                                                           [0]']                         \n",
            "                                                                                                  \n",
            " block6a_dwconv (DepthwiseC  (None, 7, 7, 672)            16800     ['block6a_dwconv_pad[0][0]']  \n",
            " onv2D)                                                                                           \n",
            "                                                                                                  \n",
            " block6a_bn (BatchNormaliza  (None, 7, 7, 672)            2688      ['block6a_dwconv[0][0]']      \n",
            " tion)                                                                                            \n",
            "                                                                                                  \n",
            " block6a_activation (Activa  (None, 7, 7, 672)            0         ['block6a_bn[0][0]']          \n",
            " tion)                                                                                            \n",
            "                                                                                                  \n",
            " block6a_se_squeeze (Global  (None, 672)                  0         ['block6a_activation[0][0]']  \n",
            " AveragePooling2D)                                                                                \n",
            "                                                                                                  \n",
            " block6a_se_reshape (Reshap  (None, 1, 1, 672)            0         ['block6a_se_squeeze[0][0]']  \n",
            " e)                                                                                               \n",
            "                                                                                                  \n",
            " block6a_se_reduce (Conv2D)  (None, 1, 1, 28)             18844     ['block6a_se_reshape[0][0]']  \n",
            "                                                                                                  \n",
            " block6a_se_expand (Conv2D)  (None, 1, 1, 672)            19488     ['block6a_se_reduce[0][0]']   \n",
            "                                                                                                  \n",
            " block6a_se_excite (Multipl  (None, 7, 7, 672)            0         ['block6a_activation[0][0]',  \n",
            " y)                                                                  'block6a_se_expand[0][0]']   \n",
            "                                                                                                  \n",
            " block6a_project_conv (Conv  (None, 7, 7, 192)            129024    ['block6a_se_excite[0][0]']   \n",
            " 2D)                                                                                              \n",
            "                                                                                                  \n",
            " block6a_project_bn (BatchN  (None, 7, 7, 192)            768       ['block6a_project_conv[0][0]']\n",
            " ormalization)                                                                                    \n",
            "                                                                                                  \n",
            " block6b_expand_conv (Conv2  (None, 7, 7, 1152)           221184    ['block6a_project_bn[0][0]']  \n",
            " D)                                                                                               \n",
            "                                                                                                  \n",
            " block6b_expand_bn (BatchNo  (None, 7, 7, 1152)           4608      ['block6b_expand_conv[0][0]'] \n",
            " rmalization)                                                                                     \n",
            "                                                                                                  \n",
            " block6b_expand_activation   (None, 7, 7, 1152)           0         ['block6b_expand_bn[0][0]']   \n",
            " (Activation)                                                                                     \n",
            "                                                                                                  \n",
            " block6b_dwconv (DepthwiseC  (None, 7, 7, 1152)           28800     ['block6b_expand_activation[0]\n",
            " onv2D)                                                             [0]']                         \n",
            "                                                                                                  \n",
            " block6b_bn (BatchNormaliza  (None, 7, 7, 1152)           4608      ['block6b_dwconv[0][0]']      \n",
            " tion)                                                                                            \n",
            "                                                                                                  \n",
            " block6b_activation (Activa  (None, 7, 7, 1152)           0         ['block6b_bn[0][0]']          \n",
            " tion)                                                                                            \n",
            "                                                                                                  \n",
            " block6b_se_squeeze (Global  (None, 1152)                 0         ['block6b_activation[0][0]']  \n",
            " AveragePooling2D)                                                                                \n",
            "                                                                                                  \n",
            " block6b_se_reshape (Reshap  (None, 1, 1, 1152)           0         ['block6b_se_squeeze[0][0]']  \n",
            " e)                                                                                               \n",
            "                                                                                                  \n",
            " block6b_se_reduce (Conv2D)  (None, 1, 1, 48)             55344     ['block6b_se_reshape[0][0]']  \n",
            "                                                                                                  \n",
            " block6b_se_expand (Conv2D)  (None, 1, 1, 1152)           56448     ['block6b_se_reduce[0][0]']   \n",
            "                                                                                                  \n",
            " block6b_se_excite (Multipl  (None, 7, 7, 1152)           0         ['block6b_activation[0][0]',  \n",
            " y)                                                                  'block6b_se_expand[0][0]']   \n",
            "                                                                                                  \n",
            " block6b_project_conv (Conv  (None, 7, 7, 192)            221184    ['block6b_se_excite[0][0]']   \n",
            " 2D)                                                                                              \n",
            "                                                                                                  \n",
            " block6b_project_bn (BatchN  (None, 7, 7, 192)            768       ['block6b_project_conv[0][0]']\n",
            " ormalization)                                                                                    \n",
            "                                                                                                  \n",
            " block6b_drop (Dropout)      (None, 7, 7, 192)            0         ['block6b_project_bn[0][0]']  \n",
            "                                                                                                  \n",
            " block6b_add (Add)           (None, 7, 7, 192)            0         ['block6b_drop[0][0]',        \n",
            "                                                                     'block6a_project_bn[0][0]']  \n",
            "                                                                                                  \n",
            " block6c_expand_conv (Conv2  (None, 7, 7, 1152)           221184    ['block6b_add[0][0]']         \n",
            " D)                                                                                               \n",
            "                                                                                                  \n",
            " block6c_expand_bn (BatchNo  (None, 7, 7, 1152)           4608      ['block6c_expand_conv[0][0]'] \n",
            " rmalization)                                                                                     \n",
            "                                                                                                  \n",
            " block6c_expand_activation   (None, 7, 7, 1152)           0         ['block6c_expand_bn[0][0]']   \n",
            " (Activation)                                                                                     \n",
            "                                                                                                  \n",
            " block6c_dwconv (DepthwiseC  (None, 7, 7, 1152)           28800     ['block6c_expand_activation[0]\n",
            " onv2D)                                                             [0]']                         \n",
            "                                                                                                  \n",
            " block6c_bn (BatchNormaliza  (None, 7, 7, 1152)           4608      ['block6c_dwconv[0][0]']      \n",
            " tion)                                                                                            \n",
            "                                                                                                  \n",
            " block6c_activation (Activa  (None, 7, 7, 1152)           0         ['block6c_bn[0][0]']          \n",
            " tion)                                                                                            \n",
            "                                                                                                  \n",
            " block6c_se_squeeze (Global  (None, 1152)                 0         ['block6c_activation[0][0]']  \n",
            " AveragePooling2D)                                                                                \n",
            "                                                                                                  \n",
            " block6c_se_reshape (Reshap  (None, 1, 1, 1152)           0         ['block6c_se_squeeze[0][0]']  \n",
            " e)                                                                                               \n",
            "                                                                                                  \n",
            " block6c_se_reduce (Conv2D)  (None, 1, 1, 48)             55344     ['block6c_se_reshape[0][0]']  \n",
            "                                                                                                  \n",
            " block6c_se_expand (Conv2D)  (None, 1, 1, 1152)           56448     ['block6c_se_reduce[0][0]']   \n",
            "                                                                                                  \n",
            " block6c_se_excite (Multipl  (None, 7, 7, 1152)           0         ['block6c_activation[0][0]',  \n",
            " y)                                                                  'block6c_se_expand[0][0]']   \n",
            "                                                                                                  \n",
            " block6c_project_conv (Conv  (None, 7, 7, 192)            221184    ['block6c_se_excite[0][0]']   \n",
            " 2D)                                                                                              \n",
            "                                                                                                  \n",
            " block6c_project_bn (BatchN  (None, 7, 7, 192)            768       ['block6c_project_conv[0][0]']\n",
            " ormalization)                                                                                    \n",
            "                                                                                                  \n",
            " block6c_drop (Dropout)      (None, 7, 7, 192)            0         ['block6c_project_bn[0][0]']  \n",
            "                                                                                                  \n",
            " block6c_add (Add)           (None, 7, 7, 192)            0         ['block6c_drop[0][0]',        \n",
            "                                                                     'block6b_add[0][0]']         \n",
            "                                                                                                  \n",
            " block6d_expand_conv (Conv2  (None, 7, 7, 1152)           221184    ['block6c_add[0][0]']         \n",
            " D)                                                                                               \n",
            "                                                                                                  \n",
            " block6d_expand_bn (BatchNo  (None, 7, 7, 1152)           4608      ['block6d_expand_conv[0][0]'] \n",
            " rmalization)                                                                                     \n",
            "                                                                                                  \n",
            " block6d_expand_activation   (None, 7, 7, 1152)           0         ['block6d_expand_bn[0][0]']   \n",
            " (Activation)                                                                                     \n",
            "                                                                                                  \n",
            " block6d_dwconv (DepthwiseC  (None, 7, 7, 1152)           28800     ['block6d_expand_activation[0]\n",
            " onv2D)                                                             [0]']                         \n",
            "                                                                                                  \n",
            " block6d_bn (BatchNormaliza  (None, 7, 7, 1152)           4608      ['block6d_dwconv[0][0]']      \n",
            " tion)                                                                                            \n",
            "                                                                                                  \n",
            " block6d_activation (Activa  (None, 7, 7, 1152)           0         ['block6d_bn[0][0]']          \n",
            " tion)                                                                                            \n",
            "                                                                                                  \n",
            " block6d_se_squeeze (Global  (None, 1152)                 0         ['block6d_activation[0][0]']  \n",
            " AveragePooling2D)                                                                                \n",
            "                                                                                                  \n",
            " block6d_se_reshape (Reshap  (None, 1, 1, 1152)           0         ['block6d_se_squeeze[0][0]']  \n",
            " e)                                                                                               \n",
            "                                                                                                  \n",
            " block6d_se_reduce (Conv2D)  (None, 1, 1, 48)             55344     ['block6d_se_reshape[0][0]']  \n",
            "                                                                                                  \n",
            " block6d_se_expand (Conv2D)  (None, 1, 1, 1152)           56448     ['block6d_se_reduce[0][0]']   \n",
            "                                                                                                  \n",
            " block6d_se_excite (Multipl  (None, 7, 7, 1152)           0         ['block6d_activation[0][0]',  \n",
            " y)                                                                  'block6d_se_expand[0][0]']   \n",
            "                                                                                                  \n",
            " block6d_project_conv (Conv  (None, 7, 7, 192)            221184    ['block6d_se_excite[0][0]']   \n",
            " 2D)                                                                                              \n",
            "                                                                                                  \n",
            " block6d_project_bn (BatchN  (None, 7, 7, 192)            768       ['block6d_project_conv[0][0]']\n",
            " ormalization)                                                                                    \n",
            "                                                                                                  \n",
            " block6d_drop (Dropout)      (None, 7, 7, 192)            0         ['block6d_project_bn[0][0]']  \n",
            "                                                                                                  \n",
            " block6d_add (Add)           (None, 7, 7, 192)            0         ['block6d_drop[0][0]',        \n",
            "                                                                     'block6c_add[0][0]']         \n",
            "                                                                                                  \n",
            " block7a_expand_conv (Conv2  (None, 7, 7, 1152)           221184    ['block6d_add[0][0]']         \n",
            " D)                                                                                               \n",
            "                                                                                                  \n",
            " block7a_expand_bn (BatchNo  (None, 7, 7, 1152)           4608      ['block7a_expand_conv[0][0]'] \n",
            " rmalization)                                                                                     \n",
            "                                                                                                  \n",
            " block7a_expand_activation   (None, 7, 7, 1152)           0         ['block7a_expand_bn[0][0]']   \n",
            " (Activation)                                                                                     \n",
            "                                                                                                  \n",
            " block7a_dwconv (DepthwiseC  (None, 7, 7, 1152)           10368     ['block7a_expand_activation[0]\n",
            " onv2D)                                                             [0]']                         \n",
            "                                                                                                  \n",
            " block7a_bn (BatchNormaliza  (None, 7, 7, 1152)           4608      ['block7a_dwconv[0][0]']      \n",
            " tion)                                                                                            \n",
            "                                                                                                  \n",
            " block7a_activation (Activa  (None, 7, 7, 1152)           0         ['block7a_bn[0][0]']          \n",
            " tion)                                                                                            \n",
            "                                                                                                  \n",
            " block7a_se_squeeze (Global  (None, 1152)                 0         ['block7a_activation[0][0]']  \n",
            " AveragePooling2D)                                                                                \n",
            "                                                                                                  \n",
            " block7a_se_reshape (Reshap  (None, 1, 1, 1152)           0         ['block7a_se_squeeze[0][0]']  \n",
            " e)                                                                                               \n",
            "                                                                                                  \n",
            " block7a_se_reduce (Conv2D)  (None, 1, 1, 48)             55344     ['block7a_se_reshape[0][0]']  \n",
            "                                                                                                  \n",
            " block7a_se_expand (Conv2D)  (None, 1, 1, 1152)           56448     ['block7a_se_reduce[0][0]']   \n",
            "                                                                                                  \n",
            " block7a_se_excite (Multipl  (None, 7, 7, 1152)           0         ['block7a_activation[0][0]',  \n",
            " y)                                                                  'block7a_se_expand[0][0]']   \n",
            "                                                                                                  \n",
            " block7a_project_conv (Conv  (None, 7, 7, 320)            368640    ['block7a_se_excite[0][0]']   \n",
            " 2D)                                                                                              \n",
            "                                                                                                  \n",
            " block7a_project_bn (BatchN  (None, 7, 7, 320)            1280      ['block7a_project_conv[0][0]']\n",
            " ormalization)                                                                                    \n",
            "                                                                                                  \n",
            " top_conv (Conv2D)           (None, 7, 7, 1280)           409600    ['block7a_project_bn[0][0]']  \n",
            "                                                                                                  \n",
            " top_bn (BatchNormalization  (None, 7, 7, 1280)           5120      ['top_conv[0][0]']            \n",
            " )                                                                                                \n",
            "                                                                                                  \n",
            " top_activation (Activation  (None, 7, 7, 1280)           0         ['top_bn[0][0]']              \n",
            " )                                                                                                \n",
            "                                                                                                  \n",
            " global_average_pooling2d (  (None, 1280)                 0         ['top_activation[0][0]']      \n",
            " GlobalAveragePooling2D)                                                                          \n",
            "                                                                                                  \n",
            " dense (Dense)               (None, 256)                  327936    ['global_average_pooling2d[0][\n",
            "                                                                    0]']                          \n",
            "                                                                                                  \n",
            " dropout (Dropout)           (None, 256)                  0         ['dense[0][0]']               \n",
            "                                                                                                  \n",
            " dense_1 (Dense)             (None, 5)                    1285      ['dropout[0][0]']             \n",
            "                                                                                                  \n",
            "==================================================================================================\n",
            "Total params: 4378792 (16.70 MB)\n",
            "Trainable params: 329221 (1.26 MB)\n",
            "Non-trainable params: 4049571 (15.45 MB)\n",
            "__________________________________________________________________________________________________\n"
          ]
        }
      ]
    },
    {
      "cell_type": "code",
      "source": [
        "# Определение коллбека для ранней остановки\n",
        "early_stopping = EarlyStopping(monitor='val_loss', patience=10, restore_best_weights=True)\n",
        "\n",
        "# Запуск обучения модели\n",
        "history = model.fit(\n",
        "    X_train, y_train,\n",
        "    validation_data=(X_test, y_test),\n",
        "    epochs=50,\n",
        "    batch_size=32,\n",
        "    callbacks=[early_stopping]\n",
        ")"
      ],
      "metadata": {
        "colab": {
          "base_uri": "https://localhost:8080/"
        },
        "id": "QiAamkD2p0Jt",
        "outputId": "1fb42e38-5759-4602-a83c-d858d0aad24f"
      },
      "execution_count": 44,
      "outputs": [
        {
          "output_type": "stream",
          "name": "stdout",
          "text": [
            "Epoch 1/50\n",
            "6/6 [==============================] - 26s 3s/step - loss: 1.3505 - accuracy: 0.5607 - val_loss: 1.3307 - val_accuracy: 0.5682\n",
            "Epoch 2/50\n",
            "6/6 [==============================] - 20s 4s/step - loss: 1.2856 - accuracy: 0.5723 - val_loss: 1.2949 - val_accuracy: 0.5682\n",
            "Epoch 3/50\n",
            "6/6 [==============================] - 17s 3s/step - loss: 1.3292 - accuracy: 0.5838 - val_loss: 1.2814 - val_accuracy: 0.5682\n",
            "Epoch 4/50\n",
            "6/6 [==============================] - 15s 2s/step - loss: 1.3254 - accuracy: 0.5896 - val_loss: 1.3209 - val_accuracy: 0.5682\n",
            "Epoch 5/50\n",
            "6/6 [==============================] - 17s 3s/step - loss: 1.2736 - accuracy: 0.5896 - val_loss: 1.3383 - val_accuracy: 0.5682\n",
            "Epoch 6/50\n",
            "6/6 [==============================] - 15s 3s/step - loss: 1.2470 - accuracy: 0.5896 - val_loss: 1.3067 - val_accuracy: 0.5682\n",
            "Epoch 7/50\n",
            "6/6 [==============================] - 17s 3s/step - loss: 1.2517 - accuracy: 0.5896 - val_loss: 1.2970 - val_accuracy: 0.5682\n",
            "Epoch 8/50\n",
            "6/6 [==============================] - 17s 3s/step - loss: 1.2606 - accuracy: 0.5896 - val_loss: 1.3138 - val_accuracy: 0.5682\n",
            "Epoch 9/50\n",
            "6/6 [==============================] - 17s 3s/step - loss: 1.2564 - accuracy: 0.5896 - val_loss: 1.2942 - val_accuracy: 0.5682\n",
            "Epoch 10/50\n",
            "6/6 [==============================] - 17s 3s/step - loss: 1.2994 - accuracy: 0.5896 - val_loss: 1.3073 - val_accuracy: 0.5682\n",
            "Epoch 11/50\n",
            "6/6 [==============================] - 14s 2s/step - loss: 1.2405 - accuracy: 0.5896 - val_loss: 1.3257 - val_accuracy: 0.5682\n",
            "Epoch 12/50\n",
            "6/6 [==============================] - 14s 2s/step - loss: 1.2785 - accuracy: 0.5838 - val_loss: 1.3563 - val_accuracy: 0.5682\n",
            "Epoch 13/50\n",
            "6/6 [==============================] - 14s 2s/step - loss: 1.2629 - accuracy: 0.5896 - val_loss: 1.2868 - val_accuracy: 0.5682\n"
          ]
        }
      ]
    },
    {
      "cell_type": "code",
      "source": [
        "# Функция для отрисовки истории обучения\n",
        "def plot_history(history):\n",
        "    plt.figure(figsize=(12, 6))\n",
        "\n",
        "    plt.subplot(1, 2, 1)\n",
        "    plt.plot(history.history['loss'], label='Training Loss')\n",
        "    plt.plot(history.history['val_loss'], label='Validation Loss')\n",
        "    plt.title('Loss Over Time')\n",
        "    plt.legend()\n",
        "\n",
        "    plt.subplot(1, 2, 2)\n",
        "    plt.plot(history.history['accuracy'], label='Training Accuracy')\n",
        "    plt.plot(history.history['val_accuracy'], label='Validation Accuracy')\n",
        "    plt.title('Accuracy Over Time')\n",
        "    plt.legend()\n",
        "\n",
        "    plt.show()\n",
        "\n",
        "# Отрисовка истории обучения\n",
        "plot_history(history)"
      ],
      "metadata": {
        "colab": {
          "base_uri": "https://localhost:8080/",
          "height": 545
        },
        "id": "EuOZlPr4r936",
        "outputId": "ee394fd6-c3b4-4d44-de65-0babd53f20f0"
      },
      "execution_count": 46,
      "outputs": [
        {
          "output_type": "display_data",
          "data": {
            "text/plain": [
              "<Figure size 1200x600 with 2 Axes>"
            ],
            "image/png": "[encoded data removed]"
          },
          "metadata": {}
        }
      ]
    },
    {
      "cell_type": "code",
      "source": [
        "test_loss, test_accuracy = model.evaluate(X_test, y_test)\n",
        "print(f\"Test Loss: {test_loss}\")\n",
        "print(f\"Test Accuracy: {test_accuracy}\")"
      ],
      "metadata": {
        "colab": {
          "base_uri": "https://localhost:8080/"
        },
        "id": "ubggb_mBvQw1",
        "outputId": "59303adc-dda2-42a1-ecd0-1c7026618e50"
      },
      "execution_count": 47,
      "outputs": [
        {
          "output_type": "stream",
          "name": "stdout",
          "text": [
            "2/2 [==============================] - 6s 2s/step - loss: 1.2814 - accuracy: 0.5682\n",
            "Test Loss: 1.2814141511917114\n",
            "Test Accuracy: 0.5681818127632141\n"
          ]
        }
      ]
    },
    {
      "cell_type": "code",
      "source": [
        "predictions = model.predict(images)\n",
        "predicted_class = np.argmax(predictions, axis=1)"
      ],
      "metadata": {
        "colab": {
          "base_uri": "https://localhost:8080/"
        },
        "id": "2_nthnHVx09c",
        "outputId": "8f7ba424-2580-4892-fddb-00aec2ce2dfb"
      },
      "execution_count": 49,
      "outputs": [
        {
          "output_type": "stream",
          "name": "stdout",
          "text": [
            "7/7 [==============================] - 17s 2s/step\n"
          ]
        }
      ]
    },
    {
      "cell_type": "code",
      "source": [
        "# Определение EarlyStopping колбэка\n",
        "early_stopping = EarlyStopping(\n",
        "    monitor='val_loss',\n",
        "    patience=5,\n",
        "    restore_best_weights=True\n",
        ")"
      ],
      "metadata": {
        "id": "ykIM1eC0x55i"
      },
      "execution_count": 50,
      "outputs": []
    },
    {
      "cell_type": "code",
      "source": [
        "# Запуск процесса обучения\n",
        "history = model.fit(\n",
        "    X_train, y_train,\n",
        "    validation_data=(X_test, y_test),\n",
        "    epochs=30,\n",
        "    batch_size=32,\n",
        "    callbacks=[early_stopping]\n",
        ")\n",
        "\n",
        "val_loss, val_accuracy = model.evaluate(X_test, y_test)\n",
        "print(f'Validation loss: {val_loss}, Validation accuracy: {val_accuracy}')"
      ],
      "metadata": {
        "colab": {
          "base_uri": "https://localhost:8080/"
        },
        "id": "Hr50lF3t1umL",
        "outputId": "5b232696-f666-4a46-8c3f-9b5c80fe4646"
      },
      "execution_count": 52,
      "outputs": [
        {
          "output_type": "stream",
          "name": "stdout",
          "text": [
            "Epoch 1/30\n",
            "6/6 [==============================] - 16s 3s/step - loss: 1.2649 - accuracy: 0.5896 - val_loss: 1.2854 - val_accuracy: 0.5682\n",
            "Epoch 2/30\n",
            "6/6 [==============================] - 17s 3s/step - loss: 1.2823 - accuracy: 0.5896 - val_loss: 1.3083 - val_accuracy: 0.5682\n",
            "Epoch 3/30\n",
            "6/6 [==============================] - 15s 3s/step - loss: 1.2898 - accuracy: 0.6069 - val_loss: 1.3204 - val_accuracy: 0.5682\n",
            "Epoch 4/30\n",
            "6/6 [==============================] - 19s 3s/step - loss: 1.3130 - accuracy: 0.5896 - val_loss: 1.3212 - val_accuracy: 0.5682\n",
            "Epoch 5/30\n",
            "6/6 [==============================] - 17s 3s/step - loss: 1.2901 - accuracy: 0.5896 - val_loss: 1.3118 - val_accuracy: 0.5682\n",
            "Epoch 6/30\n",
            "6/6 [==============================] - 17s 3s/step - loss: 1.2475 - accuracy: 0.5896 - val_loss: 1.2863 - val_accuracy: 0.5682\n",
            "2/2 [==============================] - 4s 630ms/step - loss: 1.2854 - accuracy: 0.5682\n",
            "Validation loss: 1.2853740453720093, Validation accuracy: 0.5681818127632141\n"
          ]
        }
      ]
    },
    {
      "cell_type": "code",
      "source": [
        "# Пример разморозки последних N слоев\n",
        "for layer in model.layers[-5:]:\n",
        "    layer.trainable = True"
      ],
      "metadata": {
        "id": "lwg19GJU1xGA"
      },
      "execution_count": 54,
      "outputs": []
    },
    {
      "cell_type": "code",
      "source": [
        "# Перекомпиляция модели с новым оптимизатором и возможно измененной скоростью обучения\n",
        "model.compile(optimizer=Adam(lr=0.0001), loss='categorical_crossentropy', metrics=['accuracy'])\n",
        "\n",
        "# Продолжение обучения модели\n",
        "model.fit(X_train, y_train, validation_data=(X_test, y_test), epochs=10, batch_size=32)"
      ],
      "metadata": {
        "colab": {
          "base_uri": "https://localhost:8080/"
        },
        "id": "rJkC5xYV3eeT",
        "outputId": "9564f052-5049-43df-95e6-ad947d9d6fe3"
      },
      "execution_count": 56,
      "outputs": [
        {
          "output_type": "stream",
          "name": "stderr",
          "text": [
            "WARNING:absl:`lr` is deprecated in Keras optimizer, please use `learning_rate` or use the legacy optimizer, e.g.,tf.keras.optimizers.legacy.Adam.\n"
          ]
        },
        {
          "output_type": "stream",
          "name": "stdout",
          "text": [
            "Epoch 1/10\n",
            "6/6 [==============================] - 30s 3s/step - loss: 1.3354 - accuracy: 0.5896 - val_loss: 1.3375 - val_accuracy: 0.5682\n",
            "Epoch 2/10\n",
            "6/6 [==============================] - 15s 3s/step - loss: 1.3363 - accuracy: 0.5549 - val_loss: 1.3122 - val_accuracy: 0.5682\n",
            "Epoch 3/10\n",
            "6/6 [==============================] - 18s 3s/step - loss: 1.2802 - accuracy: 0.5896 - val_loss: 1.3011 - val_accuracy: 0.5682\n",
            "Epoch 4/10\n",
            "6/6 [==============================] - 17s 3s/step - loss: 1.2281 - accuracy: 0.5896 - val_loss: 1.2968 - val_accuracy: 0.5682\n",
            "Epoch 5/10\n",
            "6/6 [==============================] - 21s 4s/step - loss: 1.2766 - accuracy: 0.5896 - val_loss: 1.3038 - val_accuracy: 0.5682\n",
            "Epoch 6/10\n",
            "6/6 [==============================] - 18s 3s/step - loss: 1.2806 - accuracy: 0.5896 - val_loss: 1.3044 - val_accuracy: 0.5682\n",
            "Epoch 7/10\n",
            "6/6 [==============================] - 15s 3s/step - loss: 1.2689 - accuracy: 0.5896 - val_loss: 1.3214 - val_accuracy: 0.5682\n",
            "Epoch 8/10\n",
            "6/6 [==============================] - 18s 3s/step - loss: 1.2477 - accuracy: 0.5896 - val_loss: 1.3092 - val_accuracy: 0.5682\n",
            "Epoch 9/10\n",
            "6/6 [==============================] - 19s 3s/step - loss: 1.2673 - accuracy: 0.5896 - val_loss: 1.3115 - val_accuracy: 0.5682\n",
            "Epoch 10/10\n",
            "6/6 [==============================] - 17s 3s/step - loss: 1.2431 - accuracy: 0.5896 - val_loss: 1.3057 - val_accuracy: 0.5682\n"
          ]
        },
        {
          "output_type": "execute_result",
          "data": {
            "text/plain": [
              "<keras.src.callbacks.History at 0x7c26f8128820>"
            ]
          },
          "metadata": {},
          "execution_count": 56
        }
      ]
    },
    {
      "cell_type": "code",
      "source": [
        "# Callback для снижения скорости обучения\n",
        "reduce_lr = ReduceLROnPlateau(monitor='val_loss', factor=0.2, patience=5, min_lr=0.00001)\n",
        "\n",
        "# Callback для сохранения лучшей модели\n",
        "checkpoint = ModelCheckpoint('best_model.h5', monitor='val_accuracy', save_best_only=True)\n",
        "\n",
        "# Повторное обучение с новыми параметрами и колбэками\n",
        "model.fit(X_train, y_train,\n",
        "          validation_data=(X_test, y_test),\n",
        "          epochs=20,\n",
        "          batch_size=64,\n",
        "          callbacks=[reduce_lr, checkpoint])"
      ],
      "metadata": {
        "colab": {
          "base_uri": "https://localhost:8080/"
        },
        "id": "AGnbQZl34csw",
        "outputId": "d323029e-dcbe-4155-d8cf-19c0e524b80e"
      },
      "execution_count": 59,
      "outputs": [
        {
          "output_type": "stream",
          "name": "stdout",
          "text": [
            "Epoch 1/20\n",
            "3/3 [==============================] - ETA: 0s - loss: 1.3036 - accuracy: 0.5896"
          ]
        },
        {
          "output_type": "stream",
          "name": "stderr",
          "text": [
            "/usr/local/lib/python3.10/dist-packages/keras/src/engine/training.py:3103: UserWarning: You are saving your model as an HDF5 file via `model.save()`. This file format is considered legacy. We recommend using instead the native Keras format, e.g. `model.save('my_model.keras')`.\n",
            "  saving_api.save_model(\n"
          ]
        },
        {
          "output_type": "stream",
          "name": "stdout",
          "text": [
            "\b\b\b\b\b\b\b\b\b\b\b\b\b\b\b\b\b\b\b\b\b\b\b\b\b\b\b\b\b\b\b\b\b\b\b\b\b\b\b\b\b\b\b\b\b\b\b\b\b\b\b\b\b\b\b\b\b\b\b\b\b\b\b\b\b\b\b\b\b\b\b\b\b\b\b\b\b\b\b\b\r3/3 [==============================] - 18s 6s/step - loss: 1.3036 - accuracy: 0.5896 - val_loss: 1.3126 - val_accuracy: 0.5682 - lr: 0.0010\n",
            "Epoch 2/20\n",
            "3/3 [==============================] - 18s 6s/step - loss: 1.2530 - accuracy: 0.5896 - val_loss: 1.3139 - val_accuracy: 0.5682 - lr: 0.0010\n",
            "Epoch 3/20\n",
            "3/3 [==============================] - 16s 6s/step - loss: 1.2406 - accuracy: 0.5896 - val_loss: 1.3006 - val_accuracy: 0.5682 - lr: 0.0010\n",
            "Epoch 4/20\n",
            "3/3 [==============================] - 15s 6s/step - loss: 1.2467 - accuracy: 0.5896 - val_loss: 1.2971 - val_accuracy: 0.5682 - lr: 0.0010\n",
            "Epoch 5/20\n",
            "3/3 [==============================] - 18s 7s/step - loss: 1.2572 - accuracy: 0.5896 - val_loss: 1.2960 - val_accuracy: 0.5682 - lr: 0.0010\n",
            "Epoch 6/20\n",
            "3/3 [==============================] - 18s 6s/step - loss: 1.2312 - accuracy: 0.5896 - val_loss: 1.3014 - val_accuracy: 0.5682 - lr: 0.0010\n",
            "Epoch 7/20\n",
            "3/3 [==============================] - 19s 7s/step - loss: 1.2433 - accuracy: 0.5896 - val_loss: 1.3096 - val_accuracy: 0.5682 - lr: 0.0010\n",
            "Epoch 8/20\n",
            "3/3 [==============================] - 18s 6s/step - loss: 1.2762 - accuracy: 0.5896 - val_loss: 1.3078 - val_accuracy: 0.5682 - lr: 0.0010\n",
            "Epoch 9/20\n",
            "3/3 [==============================] - 18s 7s/step - loss: 1.2256 - accuracy: 0.5896 - val_loss: 1.3111 - val_accuracy: 0.5682 - lr: 0.0010\n",
            "Epoch 10/20\n",
            "3/3 [==============================] - 19s 6s/step - loss: 1.2256 - accuracy: 0.5896 - val_loss: 1.3174 - val_accuracy: 0.5682 - lr: 0.0010\n",
            "Epoch 11/20\n",
            "3/3 [==============================] - 18s 7s/step - loss: 1.2344 - accuracy: 0.5896 - val_loss: 1.3184 - val_accuracy: 0.5682 - lr: 2.0000e-04\n",
            "Epoch 12/20\n",
            "3/3 [==============================] - 16s 6s/step - loss: 1.2912 - accuracy: 0.5896 - val_loss: 1.3173 - val_accuracy: 0.5682 - lr: 2.0000e-04\n",
            "Epoch 13/20\n",
            "3/3 [==============================] - 18s 6s/step - loss: 1.2371 - accuracy: 0.5896 - val_loss: 1.3160 - val_accuracy: 0.5682 - lr: 2.0000e-04\n",
            "Epoch 14/20\n",
            "3/3 [==============================] - 20s 7s/step - loss: 1.2532 - accuracy: 0.5896 - val_loss: 1.3141 - val_accuracy: 0.5682 - lr: 2.0000e-04\n",
            "Epoch 15/20\n",
            "3/3 [==============================] - 19s 6s/step - loss: 1.2798 - accuracy: 0.5896 - val_loss: 1.3119 - val_accuracy: 0.5682 - lr: 2.0000e-04\n",
            "Epoch 16/20\n",
            "3/3 [==============================] - 16s 6s/step - loss: 1.2720 - accuracy: 0.5896 - val_loss: 1.3113 - val_accuracy: 0.5682 - lr: 4.0000e-05\n",
            "Epoch 17/20\n",
            "3/3 [==============================] - 18s 7s/step - loss: 1.2581 - accuracy: 0.5896 - val_loss: 1.3110 - val_accuracy: 0.5682 - lr: 4.0000e-05\n",
            "Epoch 18/20\n",
            "3/3 [==============================] - 18s 6s/step - loss: 1.2386 - accuracy: 0.5896 - val_loss: 1.3107 - val_accuracy: 0.5682 - lr: 4.0000e-05\n",
            "Epoch 19/20\n",
            "3/3 [==============================] - 18s 7s/step - loss: 1.2405 - accuracy: 0.5896 - val_loss: 1.3106 - val_accuracy: 0.5682 - lr: 4.0000e-05\n",
            "Epoch 20/20\n",
            "3/3 [==============================] - 16s 6s/step - loss: 1.2570 - accuracy: 0.5896 - val_loss: 1.3105 - val_accuracy: 0.5682 - lr: 4.0000e-05\n"
          ]
        },
        {
          "output_type": "execute_result",
          "data": {
            "text/plain": [
              "<keras.src.callbacks.History at 0x7c26dedca350>"
            ]
          },
          "metadata": {},
          "execution_count": 59
        }
      ]
    },
    {
      "cell_type": "code",
      "source": [
        "# Оценка модели на тестовом наборе данных\n",
        "test_loss, test_accuracy = model.evaluate(X_test, y_test)\n",
        "print(f'Test loss: {test_loss}, Test accuracy: {test_accuracy}')"
      ],
      "metadata": {
        "colab": {
          "base_uri": "https://localhost:8080/"
        },
        "id": "jVFT1TSy5S_p",
        "outputId": "48f97bac-b99e-4485-a445-12840be94c71"
      },
      "execution_count": 61,
      "outputs": [
        {
          "output_type": "stream",
          "name": "stdout",
          "text": [
            "2/2 [==============================] - 5s 702ms/step - loss: 1.3105 - accuracy: 0.5682\n",
            "Test loss: 1.3104870319366455, Test accuracy: 0.5681818127632141\n"
          ]
        }
      ]
    },
    {
      "cell_type": "code",
      "source": [
        "history = model.fit(X_train, y_train, epochs=10, batch_size=32, validation_data=(X_test, y_test))\n",
        "\n",
        "# Сохраняем оценку производительности для сравнения\n",
        "original_val_accuracy = model.evaluate(X_test, y_test)[1]\n",
        "\n",
        "print(f'Validation accuracy with original labels: {original_val_accuracy}')"
      ],
      "metadata": {
        "colab": {
          "base_uri": "https://localhost:8080/"
        },
        "id": "IpabvOPc62pA",
        "outputId": "c837daaa-3b49-48b4-bae3-90d003bfdab2"
      },
      "execution_count": 72,
      "outputs": [
        {
          "output_type": "stream",
          "name": "stdout",
          "text": [
            "Epoch 1/10\n",
            "6/6 [==============================] - 15s 3s/step - loss: 1.2488 - accuracy: 0.5896 - val_loss: 1.3098 - val_accuracy: 0.5682\n",
            "Epoch 2/10\n",
            "6/6 [==============================] - 17s 3s/step - loss: 1.2248 - accuracy: 0.5896 - val_loss: 1.3097 - val_accuracy: 0.5682\n",
            "Epoch 3/10\n",
            "6/6 [==============================] - 14s 2s/step - loss: 1.2579 - accuracy: 0.5896 - val_loss: 1.3098 - val_accuracy: 0.5682\n",
            "Epoch 4/10\n",
            "6/6 [==============================] - 14s 2s/step - loss: 1.2472 - accuracy: 0.5896 - val_loss: 1.3100 - val_accuracy: 0.5682\n",
            "Epoch 5/10\n",
            "6/6 [==============================] - 17s 3s/step - loss: 1.2698 - accuracy: 0.5896 - val_loss: 1.3101 - val_accuracy: 0.5682\n",
            "Epoch 6/10\n",
            "6/6 [==============================] - 15s 3s/step - loss: 1.2521 - accuracy: 0.5896 - val_loss: 1.3103 - val_accuracy: 0.5682\n",
            "Epoch 7/10\n",
            "6/6 [==============================] - 17s 3s/step - loss: 1.2556 - accuracy: 0.5896 - val_loss: 1.3102 - val_accuracy: 0.5682\n",
            "Epoch 8/10\n",
            "6/6 [==============================] - 17s 3s/step - loss: 1.2507 - accuracy: 0.5896 - val_loss: 1.3103 - val_accuracy: 0.5682\n",
            "Epoch 9/10\n",
            "6/6 [==============================] - 14s 2s/step - loss: 1.2502 - accuracy: 0.5896 - val_loss: 1.3102 - val_accuracy: 0.5682\n",
            "Epoch 10/10\n",
            "6/6 [==============================] - 14s 2s/step - loss: 1.2699 - accuracy: 0.5896 - val_loss: 1.3101 - val_accuracy: 0.5682\n",
            "2/2 [==============================] - 3s 642ms/step - loss: 1.3101 - accuracy: 0.5682\n",
            "Validation accuracy with original labels: 0.5681818127632141\n"
          ]
        }
      ]
    },
    {
      "cell_type": "code",
      "source": [
        "def manipulate_labels(y_train, manipulation_level):\n",
        "    \"\"\"\n",
        "    Manipulate labels in the training set.\n",
        "\n",
        "    Parameters:\n",
        "    y_train (array): Original labels.\n",
        "    manipulation_level (float): Level of manipulation, e.g., 0.05 for 5% manipulation.\n",
        "\n",
        "    Returns:\n",
        "    y_manipulated (array): Manipulated labels.\n",
        "    \"\"\"\n",
        "    # Copy the original labels\n",
        "    y_manipulated = np.copy(y_train)\n",
        "\n",
        "    # Determine the number of labels to manipulate\n",
        "    num_samples = len(y_train)\n",
        "    num_manipulate = int(manipulation_level * num_samples)\n",
        "\n",
        "    # Randomly select indices to manipulate\n",
        "    manipulate_indices = np.random.choice(num_samples, size=num_manipulate, replace=False)\n",
        "\n",
        "    # Manipulate the labels\n",
        "    for idx in manipulate_indices:\n",
        "        original_label = y_train[idx]\n",
        "        possible_labels = [label for label in np.unique(y_train) if not np.array_equal(label, original_label)]\n",
        "        y_manipulated[idx] = np.random.choice(possible_labels)\n",
        "\n",
        "    return y_manipulated\n",
        "\n",
        "# Define manipulation levels\n",
        "manipulation_levels = [0.05, 0.1, 0.15, 0.2]  # Manipulation levels from 5% to 20%\n",
        "\n",
        "# Loop through manipulation levels\n",
        "for manipulation_level in manipulation_levels:\n",
        "    # Manipulate labels\n",
        "    y_train_manipulated = manipulate_labels(y_train, manipulation_level)\n",
        "\n",
        "    # Retrain the model with manipulated labels\n",
        "    history_manipulated = model.fit(X_train, y_train_manipulated, epochs=10, batch_size=32, validation_data=(X_test, y_test), verbose=0)\n",
        "\n",
        "    # Evaluate the model with manipulated labels\n",
        "    loss, accuracy = model.evaluate(X_test, y_test, verbose=0)\n",
        "\n",
        "    print(f'Manipulation level: {manipulation_level * 100}%, Validation accuracy: {accuracy}')\n"
      ],
      "metadata": {
        "colab": {
          "base_uri": "https://localhost:8080/"
        },
        "id": "UfUfmIqf9wWR",
        "outputId": "092719ce-20f0-4da6-f2d7-98e424687d2b"
      },
      "execution_count": 77,
      "outputs": [
        {
          "output_type": "stream",
          "name": "stdout",
          "text": [
            "Manipulation level: 5.0%, Validation accuracy: 0.5681818127632141\n",
            "Manipulation level: 10.0%, Validation accuracy: 0.5681818127632141\n",
            "Manipulation level: 15.0%, Validation accuracy: 0.5681818127632141\n",
            "Manipulation level: 20.0%, Validation accuracy: 0.5681818127632141\n"
          ]
        }
      ]
    },
    {
      "cell_type": "code",
      "source": [],
      "metadata": {
        "id": "pwE9k14aAOtx"
      },
      "execution_count": 68,
      "outputs": []
    }
  ]
}