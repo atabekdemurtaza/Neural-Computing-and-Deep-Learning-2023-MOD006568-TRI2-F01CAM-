{
  "nbformat": 4,
  "nbformat_minor": 0,
  "metadata": {
    "colab": {
      "provenance": [],
      "gpuType": "T4"
    },
    "kernelspec": {
      "name": "python3",
      "display_name": "Python 3"
    },
    "language_info": {
      "name": "python"
    },
    "accelerator": "GPU"
  },
  "cells": [
    {
      "cell_type": "code",
      "execution_count": 1,
      "metadata": {
        "id": "0uoO9stGUolp"
      },
      "outputs": [],
      "source": [
        "# Pandas and Numpy for data structures and util fucntions\n",
        "import scipy as sp\n",
        "import numpy as np\n",
        "import pandas as pd\n",
        "from numpy.random import rand\n",
        "pd.options.display.max_colwidth = 600\n",
        "\n",
        "# Scikit Imports\n",
        "from sklearn import preprocessing\n",
        "from sklearn.metrics import roc_curve, auc, precision_recall_curve\n",
        "from sklearn.model_selection import train_test_split"
      ]
    },
    {
      "cell_type": "code",
      "source": [
        "import cnn_utils as utils\n",
        "from model_evaluation_utils import get_metrics"
      ],
      "metadata": {
        "id": "xMLKrhyyVBc-"
      },
      "execution_count": 2,
      "outputs": []
    },
    {
      "cell_type": "code",
      "source": [
        "# Matplot Imports\n",
        "import matplotlib.pyplot as plt\n",
        "params = {'legend.fontsize': 'x-large',\n",
        "          'figure.figsize': (15, 5),\n",
        "          'axes.labelsize': 'x-large',\n",
        "          'axes.titlesize':'x-large',\n",
        "          'xtick.labelsize':'x-large',\n",
        "          'ytick.labelsize':'x-large'}\n",
        "\n",
        "plt.rcParams.update(params)\n",
        "%matplotlib inline\n",
        "\n",
        "# pandas display data frames as tables\n",
        "from IPython.display import display, HTML\n",
        "\n",
        "import warnings\n",
        "warnings.filterwarnings('ignore')"
      ],
      "metadata": {
        "id": "b9yuLBL-VH6r"
      },
      "execution_count": 3,
      "outputs": []
    },
    {
      "cell_type": "code",
      "source": [
        "import tensorflow as tf\n",
        "from keras import callbacks\n",
        "from keras import optimizers\n",
        "from keras.datasets import cifar10\n",
        "from tensorflow.keras.models import Model\n",
        "from keras.applications import vgg16 as vgg\n",
        "from keras.layers import Dropout, Flatten, Dense, GlobalAveragePooling2D,BatchNormalization\n",
        "from keras.preprocessing.image import ImageDataGenerator\n",
        "from keras.utils import to_categorical"
      ],
      "metadata": {
        "id": "HgBb4xqQVKRB"
      },
      "execution_count": 4,
      "outputs": []
    },
    {
      "cell_type": "code",
      "source": [
        "BATCH_SIZE = 32\n",
        "EPOCHS = 40\n",
        "NUM_CLASSES = 10\n",
        "LEARNING_RATE = 1e-4\n",
        "MOMENTUM = 0.9"
      ],
      "metadata": {
        "id": "7yNatpE-VLwF"
      },
      "execution_count": 5,
      "outputs": []
    },
    {
      "cell_type": "code",
      "source": [
        "(X_train, y_train), (X_test, y_test) = cifar10.load_data()"
      ],
      "metadata": {
        "colab": {
          "base_uri": "https://localhost:8080/"
        },
        "id": "8QDlcbvbVNNn",
        "outputId": "e1308408-68ab-40d9-f5f4-afcd90edcfb8"
      },
      "execution_count": 6,
      "outputs": [
        {
          "output_type": "stream",
          "name": "stdout",
          "text": [
            "Downloading data from https://www.cs.toronto.edu/~kriz/cifar-10-python.tar.gz\n",
            "170498071/170498071 [==============================] - 2s 0us/step\n"
          ]
        }
      ]
    },
    {
      "cell_type": "code",
      "source": [
        "X_train, X_val, y_train, y_val = train_test_split(X_train,\n",
        "                                                  y_train,\n",
        "                                                  test_size=0.15,\n",
        "                                                  stratify=np.array(y_train),\n",
        "                                                  random_state=42)"
      ],
      "metadata": {
        "id": "nqqPjzJpVObh"
      },
      "execution_count": 7,
      "outputs": []
    },
    {
      "cell_type": "code",
      "source": [
        "Y_train = to_categorical(y_train, NUM_CLASSES)\n",
        "Y_val = to_categorical(y_val, NUM_CLASSES)\n",
        "Y_test = to_categorical(y_test, NUM_CLASSES)"
      ],
      "metadata": {
        "id": "oWAnHH6jVQm4"
      },
      "execution_count": 8,
      "outputs": []
    },
    {
      "cell_type": "code",
      "source": [
        "#!python -m pip install -U scikit-image\n",
        "from skimage.transform import resize\n",
        "\n",
        "X_train = np.array([resize(x, (48, 48)) for x in X_train])\n",
        "X_val = np.array([resize(x, (48, 48)) for x in X_val])\n",
        "X_test = np.array([resize(x, (48, 48)) for x in X_test])"
      ],
      "metadata": {
        "id": "VRQIVZ3oVR17"
      },
      "execution_count": 9,
      "outputs": []
    },
    {
      "cell_type": "code",
      "source": [
        "base_model = vgg.VGG16(weights='imagenet',\n",
        "                       include_top=False,\n",
        "                       input_shape=(48, 48, 3))"
      ],
      "metadata": {
        "colab": {
          "base_uri": "https://localhost:8080/"
        },
        "id": "0CALUZPYVSyq",
        "outputId": "ff529ed7-6582-47e5-a4bb-587093697dd3"
      },
      "execution_count": 10,
      "outputs": [
        {
          "output_type": "stream",
          "name": "stdout",
          "text": [
            "Downloading data from https://storage.googleapis.com/tensorflow/keras-applications/vgg16/vgg16_weights_tf_dim_ordering_tf_kernels_notop.h5\n",
            "58889256/58889256 [==============================] - 1s 0us/step\n"
          ]
        }
      ]
    },
    {
      "cell_type": "code",
      "source": [
        "# Extract the last layer from third block of vgg16 model\n",
        "last = base_model.get_layer('block3_pool').output"
      ],
      "metadata": {
        "id": "6JKNvsPSVxz4"
      },
      "execution_count": 11,
      "outputs": []
    },
    {
      "cell_type": "code",
      "source": [
        "# Add classification layers on top of it\n",
        "x = GlobalAveragePooling2D()(last)\n",
        "x= BatchNormalization()(x)\n",
        "x = Dense(256, activation='relu')(x)\n",
        "x = Dense(256, activation='relu')(x)\n",
        "x = Dropout(0.6)(x)\n",
        "pred = Dense(NUM_CLASSES, activation='softmax')(x)\n",
        "model = Model(base_model.input, pred)"
      ],
      "metadata": {
        "id": "hYehpwYwVzhZ"
      },
      "execution_count": 12,
      "outputs": []
    },
    {
      "cell_type": "code",
      "source": [
        "for layer in base_model.layers:\n",
        "     layer.trainable = False"
      ],
      "metadata": {
        "id": "ReqSpgzUV06h"
      },
      "execution_count": 13,
      "outputs": []
    },
    {
      "cell_type": "code",
      "source": [
        "model.compile(loss='binary_crossentropy',\n",
        "              optimizer=optimizers.Adam(lr=LEARNING_RATE),\n",
        "              metrics=['accuracy'])"
      ],
      "metadata": {
        "colab": {
          "base_uri": "https://localhost:8080/"
        },
        "id": "yq645XeBV2Ya",
        "outputId": "a811ba94-f219-4772-f67c-eef7b4b79572"
      },
      "execution_count": 14,
      "outputs": [
        {
          "output_type": "stream",
          "name": "stderr",
          "text": [
            "WARNING:absl:`lr` is deprecated in Keras optimizer, please use `learning_rate` or use the legacy optimizer, e.g.,tf.keras.optimizers.legacy.Adam.\n"
          ]
        }
      ]
    },
    {
      "cell_type": "code",
      "source": [
        "model.summary()"
      ],
      "metadata": {
        "colab": {
          "base_uri": "https://localhost:8080/"
        },
        "id": "sl8O7BkqV36r",
        "outputId": "354cc5c1-6e6f-44cd-f3ff-b2cb2ed8146c"
      },
      "execution_count": 15,
      "outputs": [
        {
          "output_type": "stream",
          "name": "stdout",
          "text": [
            "Model: \"model\"\n",
            "_________________________________________________________________\n",
            " Layer (type)                Output Shape              Param #   \n",
            "=================================================================\n",
            " input_1 (InputLayer)        [(None, 48, 48, 3)]       0         \n",
            "                                                                 \n",
            " block1_conv1 (Conv2D)       (None, 48, 48, 64)        1792      \n",
            "                                                                 \n",
            " block1_conv2 (Conv2D)       (None, 48, 48, 64)        36928     \n",
            "                                                                 \n",
            " block1_pool (MaxPooling2D)  (None, 24, 24, 64)        0         \n",
            "                                                                 \n",
            " block2_conv1 (Conv2D)       (None, 24, 24, 128)       73856     \n",
            "                                                                 \n",
            " block2_conv2 (Conv2D)       (None, 24, 24, 128)       147584    \n",
            "                                                                 \n",
            " block2_pool (MaxPooling2D)  (None, 12, 12, 128)       0         \n",
            "                                                                 \n",
            " block3_conv1 (Conv2D)       (None, 12, 12, 256)       295168    \n",
            "                                                                 \n",
            " block3_conv2 (Conv2D)       (None, 12, 12, 256)       590080    \n",
            "                                                                 \n",
            " block3_conv3 (Conv2D)       (None, 12, 12, 256)       590080    \n",
            "                                                                 \n",
            " block3_pool (MaxPooling2D)  (None, 6, 6, 256)         0         \n",
            "                                                                 \n",
            " global_average_pooling2d (  (None, 256)               0         \n",
            " GlobalAveragePooling2D)                                         \n",
            "                                                                 \n",
            " batch_normalization (Batch  (None, 256)               1024      \n",
            " Normalization)                                                  \n",
            "                                                                 \n",
            " dense (Dense)               (None, 256)               65792     \n",
            "                                                                 \n",
            " dense_1 (Dense)             (None, 256)               65792     \n",
            "                                                                 \n",
            " dropout (Dropout)           (None, 256)               0         \n",
            "                                                                 \n",
            " dense_2 (Dense)             (None, 10)                2570      \n",
            "                                                                 \n",
            "=================================================================\n",
            "Total params: 1870666 (7.14 MB)\n",
            "Trainable params: 134666 (526.04 KB)\n",
            "Non-trainable params: 1736000 (6.62 MB)\n",
            "_________________________________________________________________\n"
          ]
        }
      ]
    },
    {
      "cell_type": "code",
      "source": [
        "# prepare data augmentation configuration\n",
        "train_datagen = ImageDataGenerator(\n",
        "    rescale=1. / 255,\n",
        "    horizontal_flip=False)"
      ],
      "metadata": {
        "id": "Zg_cEZAxV5Fu"
      },
      "execution_count": 16,
      "outputs": []
    },
    {
      "cell_type": "code",
      "source": [
        "train_datagen.fit(X_train)\n",
        "train_generator = train_datagen.flow(X_train,\n",
        "                                     Y_train,\n",
        "                                     batch_size=BATCH_SIZE)"
      ],
      "metadata": {
        "id": "nMKYxaUAV7ES"
      },
      "execution_count": 17,
      "outputs": []
    },
    {
      "cell_type": "code",
      "source": [
        "val_datagen = ImageDataGenerator(rescale=1. / 255,\n",
        "    horizontal_flip=False)\n",
        "\n",
        "val_datagen.fit(X_val)\n",
        "val_generator = val_datagen.flow(X_val,\n",
        "                                 Y_val,\n",
        "                                 batch_size=BATCH_SIZE)"
      ],
      "metadata": {
        "id": "AslK-7vUV98j"
      },
      "execution_count": 18,
      "outputs": []
    },
    {
      "cell_type": "code",
      "source": [
        "train_steps_per_epoch = X_train.shape[0] // BATCH_SIZE\n",
        "val_steps_per_epoch = X_val.shape[0] // BATCH_SIZE\n",
        "\n",
        "history = model.fit_generator(train_generator,\n",
        "                              steps_per_epoch=train_steps_per_epoch,\n",
        "                              validation_data=val_generator,\n",
        "                              validation_steps=val_steps_per_epoch,\n",
        "                              epochs=EPOCHS,\n",
        "                              verbose=1)"
      ],
      "metadata": {
        "colab": {
          "base_uri": "https://localhost:8080/"
        },
        "id": "Hbgwvr7hV_nO",
        "outputId": "c4ba2b65-39c5-4f73-9931-b9dfc85beffc"
      },
      "execution_count": 19,
      "outputs": [
        {
          "output_type": "stream",
          "name": "stdout",
          "text": [
            "Epoch 1/40\n",
            "1328/1328 [==============================] - 20s 10ms/step - loss: 0.2351 - accuracy: 0.4707 - val_loss: 0.1898 - val_accuracy: 0.5739\n",
            "Epoch 2/40\n",
            "1328/1328 [==============================] - 12s 9ms/step - loss: 0.1961 - accuracy: 0.5683 - val_loss: 0.1780 - val_accuracy: 0.6042\n",
            "Epoch 3/40\n",
            "1328/1328 [==============================] - 12s 9ms/step - loss: 0.1845 - accuracy: 0.5976 - val_loss: 0.1689 - val_accuracy: 0.6274\n",
            "Epoch 4/40\n",
            "1328/1328 [==============================] - 12s 9ms/step - loss: 0.1760 - accuracy: 0.6171 - val_loss: 0.1649 - val_accuracy: 0.6418\n",
            "Epoch 5/40\n",
            "1328/1328 [==============================] - 14s 10ms/step - loss: 0.1700 - accuracy: 0.6337 - val_loss: 0.1612 - val_accuracy: 0.6429\n",
            "Epoch 6/40\n",
            "1328/1328 [==============================] - 12s 9ms/step - loss: 0.1651 - accuracy: 0.6475 - val_loss: 0.1575 - val_accuracy: 0.6545\n",
            "Epoch 7/40\n",
            "1328/1328 [==============================] - 12s 9ms/step - loss: 0.1608 - accuracy: 0.6561 - val_loss: 0.1565 - val_accuracy: 0.6500\n",
            "Epoch 8/40\n",
            "1328/1328 [==============================] - 13s 10ms/step - loss: 0.1569 - accuracy: 0.6658 - val_loss: 0.1553 - val_accuracy: 0.6604\n",
            "Epoch 9/40\n",
            "1328/1328 [==============================] - 12s 9ms/step - loss: 0.1533 - accuracy: 0.6760 - val_loss: 0.1550 - val_accuracy: 0.6619\n",
            "Epoch 10/40\n",
            "1328/1328 [==============================] - 12s 9ms/step - loss: 0.1500 - accuracy: 0.6807 - val_loss: 0.1535 - val_accuracy: 0.6660\n",
            "Epoch 11/40\n",
            "1328/1328 [==============================] - 12s 9ms/step - loss: 0.1473 - accuracy: 0.6878 - val_loss: 0.1553 - val_accuracy: 0.6577\n",
            "Epoch 12/40\n",
            "1328/1328 [==============================] - 12s 9ms/step - loss: 0.1440 - accuracy: 0.6991 - val_loss: 0.1531 - val_accuracy: 0.6717\n",
            "Epoch 13/40\n",
            "1328/1328 [==============================] - 13s 10ms/step - loss: 0.1416 - accuracy: 0.7014 - val_loss: 0.1553 - val_accuracy: 0.6659\n",
            "Epoch 14/40\n",
            "1328/1328 [==============================] - 12s 9ms/step - loss: 0.1393 - accuracy: 0.7089 - val_loss: 0.1561 - val_accuracy: 0.6697\n",
            "Epoch 15/40\n",
            "1328/1328 [==============================] - 13s 10ms/step - loss: 0.1366 - accuracy: 0.7129 - val_loss: 0.1562 - val_accuracy: 0.6672\n",
            "Epoch 16/40\n",
            "1328/1328 [==============================] - 12s 9ms/step - loss: 0.1352 - accuracy: 0.7177 - val_loss: 0.1566 - val_accuracy: 0.6696\n",
            "Epoch 17/40\n",
            "1328/1328 [==============================] - 12s 9ms/step - loss: 0.1323 - accuracy: 0.7234 - val_loss: 0.1539 - val_accuracy: 0.6704\n",
            "Epoch 18/40\n",
            "1328/1328 [==============================] - 12s 9ms/step - loss: 0.1311 - accuracy: 0.7286 - val_loss: 0.1568 - val_accuracy: 0.6636\n",
            "Epoch 19/40\n",
            "1328/1328 [==============================] - 12s 9ms/step - loss: 0.1298 - accuracy: 0.7314 - val_loss: 0.1557 - val_accuracy: 0.6707\n",
            "Epoch 20/40\n",
            "1328/1328 [==============================] - 13s 10ms/step - loss: 0.1267 - accuracy: 0.7373 - val_loss: 0.1563 - val_accuracy: 0.6753\n",
            "Epoch 21/40\n",
            "1328/1328 [==============================] - 12s 9ms/step - loss: 0.1263 - accuracy: 0.7383 - val_loss: 0.1579 - val_accuracy: 0.6724\n",
            "Epoch 22/40\n",
            "1328/1328 [==============================] - 13s 10ms/step - loss: 0.1249 - accuracy: 0.7430 - val_loss: 0.1577 - val_accuracy: 0.6708\n",
            "Epoch 23/40\n",
            "1328/1328 [==============================] - 13s 10ms/step - loss: 0.1225 - accuracy: 0.7471 - val_loss: 0.1571 - val_accuracy: 0.6771\n",
            "Epoch 24/40\n",
            "1328/1328 [==============================] - 13s 10ms/step - loss: 0.1217 - accuracy: 0.7497 - val_loss: 0.1637 - val_accuracy: 0.6629\n",
            "Epoch 25/40\n",
            "1328/1328 [==============================] - 13s 10ms/step - loss: 0.1207 - accuracy: 0.7528 - val_loss: 0.1578 - val_accuracy: 0.6724\n",
            "Epoch 26/40\n",
            "1328/1328 [==============================] - 13s 10ms/step - loss: 0.1191 - accuracy: 0.7560 - val_loss: 0.1623 - val_accuracy: 0.6671\n",
            "Epoch 27/40\n",
            "1328/1328 [==============================] - 13s 10ms/step - loss: 0.1185 - accuracy: 0.7557 - val_loss: 0.1596 - val_accuracy: 0.6761\n",
            "Epoch 28/40\n",
            "1328/1328 [==============================] - 13s 10ms/step - loss: 0.1167 - accuracy: 0.7609 - val_loss: 0.1625 - val_accuracy: 0.6681\n",
            "Epoch 29/40\n",
            "1328/1328 [==============================] - 13s 10ms/step - loss: 0.1160 - accuracy: 0.7606 - val_loss: 0.1644 - val_accuracy: 0.6731\n",
            "Epoch 30/40\n",
            "1328/1328 [==============================] - 13s 10ms/step - loss: 0.1151 - accuracy: 0.7656 - val_loss: 0.1628 - val_accuracy: 0.6684\n",
            "Epoch 31/40\n",
            "1328/1328 [==============================] - 12s 9ms/step - loss: 0.1147 - accuracy: 0.7646 - val_loss: 0.1653 - val_accuracy: 0.6711\n",
            "Epoch 32/40\n",
            "1328/1328 [==============================] - 12s 9ms/step - loss: 0.1121 - accuracy: 0.7721 - val_loss: 0.1661 - val_accuracy: 0.6753\n",
            "Epoch 33/40\n",
            "1328/1328 [==============================] - 12s 9ms/step - loss: 0.1118 - accuracy: 0.7711 - val_loss: 0.1722 - val_accuracy: 0.6624\n",
            "Epoch 34/40\n",
            "1328/1328 [==============================] - 13s 10ms/step - loss: 0.1105 - accuracy: 0.7767 - val_loss: 0.1669 - val_accuracy: 0.6721\n",
            "Epoch 35/40\n",
            "1328/1328 [==============================] - 12s 9ms/step - loss: 0.1106 - accuracy: 0.7737 - val_loss: 0.1671 - val_accuracy: 0.6745\n",
            "Epoch 36/40\n",
            "1328/1328 [==============================] - 13s 10ms/step - loss: 0.1094 - accuracy: 0.7770 - val_loss: 0.1658 - val_accuracy: 0.6786\n",
            "Epoch 37/40\n",
            "1328/1328 [==============================] - 13s 10ms/step - loss: 0.1084 - accuracy: 0.7803 - val_loss: 0.1650 - val_accuracy: 0.6763\n",
            "Epoch 38/40\n",
            "1328/1328 [==============================] - 12s 9ms/step - loss: 0.1077 - accuracy: 0.7844 - val_loss: 0.1673 - val_accuracy: 0.6743\n",
            "Epoch 39/40\n",
            "1328/1328 [==============================] - 13s 10ms/step - loss: 0.1067 - accuracy: 0.7841 - val_loss: 0.1727 - val_accuracy: 0.6661\n",
            "Epoch 40/40\n",
            "1328/1328 [==============================] - 13s 10ms/step - loss: 0.1071 - accuracy: 0.7839 - val_loss: 0.1737 - val_accuracy: 0.6675\n"
          ]
        }
      ]
    },
    {
      "cell_type": "code",
      "source": [
        "f, (ax1, ax2) = plt.subplots(1, 2, figsize=(15, 5))\n",
        "t = f.suptitle('Deep Neural Net Performance', fontsize=12)\n",
        "f.subplots_adjust(top=0.85, wspace=0.3)\n",
        "\n",
        "epochs = list(range(1,EPOCHS+1))\n",
        "# ax1.plot(epochs, history.history['acc'], label='Train Accuracy')\n",
        "# ax1.plot(epochs, history.history['val_acc'], label='Validation Accuracy')\n",
        "ax1.set_xticks(epochs)\n",
        "ax1.set_ylabel('Accuracy Value')\n",
        "ax1.set_xlabel('Epoch')\n",
        "ax1.set_title('Accuracy')\n",
        "l1 = ax1.legend(loc=\"best\")\n",
        "\n",
        "ax2.plot(epochs, history.history['loss'], label='Train Loss')\n",
        "ax2.plot(epochs, history.history['val_loss'], label='Validation Loss')\n",
        "ax2.set_xticks(epochs)\n",
        "ax2.set_ylabel('Loss Value')\n",
        "ax2.set_xlabel('Epoch')\n",
        "ax2.set_title('Loss')\n",
        "l2 = ax2.legend(loc=\"best\")"
      ],
      "metadata": {
        "colab": {
          "base_uri": "https://localhost:8080/",
          "height": 327
        },
        "id": "ZA-ngaOXWBoA",
        "outputId": "282094a1-306f-4e25-bec0-2e294a28f9ea"
      },
      "execution_count": 22,
      "outputs": [
        {
          "output_type": "stream",
          "name": "stderr",
          "text": [
            "WARNING:matplotlib.legend:No artists with labels found to put in legend.  Note that artists whose label start with an underscore are ignored when legend() is called with no argument.\n"
          ]
        },
        {
          "output_type": "display_data",
          "data": {
            "text/plain": [
              "<Figure size 1500x500 with 2 Axes>"
            ],
            "image/png": "[encoded data removed]"
          },
          "metadata": {}
        }
      ]
    },
    {
      "cell_type": "code",
      "source": [
        "predictions = model.predict(X_test/255.)"
      ],
      "metadata": {
        "colab": {
          "base_uri": "https://localhost:8080/"
        },
        "id": "FAgVYVTlYi7p",
        "outputId": "cf078b92-ab8e-4c5b-ca2d-4dc6b2b729aa"
      },
      "execution_count": 23,
      "outputs": [
        {
          "output_type": "stream",
          "name": "stdout",
          "text": [
            "313/313 [==============================] - 2s 6ms/step\n"
          ]
        }
      ]
    },
    {
      "cell_type": "code",
      "source": [
        "test_labels = list(y_test.squeeze())\n",
        "predictions = list(predictions.argmax(axis=1))"
      ],
      "metadata": {
        "id": "4bEbfCFEY-5f"
      },
      "execution_count": 24,
      "outputs": []
    },
    {
      "cell_type": "code",
      "source": [
        "get_metrics(true_labels=y_test,\n",
        "                predicted_labels=predictions)"
      ],
      "metadata": {
        "colab": {
          "base_uri": "https://localhost:8080/"
        },
        "id": "CtMDUjIeZAXZ",
        "outputId": "7206da19-d204-4674-f0e1-8fb66dd0a834"
      },
      "execution_count": 25,
      "outputs": [
        {
          "output_type": "stream",
          "name": "stdout",
          "text": [
            "Accuracy: 0.6761\n",
            "Precision: 0.6835\n",
            "Recall: 0.6761\n",
            "F1 Score: 0.678\n"
          ]
        }
      ]
    },
    {
      "cell_type": "code",
      "source": [
        "label_dict = {0:'airplane',\n",
        "             1:'automobile',\n",
        "             2:'bird',\n",
        "             3:'cat',\n",
        "             4:'deer',\n",
        "             5:'dog',\n",
        "             6:'frog',\n",
        "             7:'horse',\n",
        "             8:'ship',\n",
        "             9:'truck'}"
      ],
      "metadata": {
        "id": "vsS-KFchZCCV"
      },
      "execution_count": 26,
      "outputs": []
    },
    {
      "cell_type": "code",
      "source": [
        "# utils.plot_predictions(model=model,dataset=X_test/255.,\n",
        "#                        dataset_labels=Y_test,\n",
        "#                        label_dict=label_dict,\n",
        "#                        batch_size=16,\n",
        "#                        grid_height=4,\n",
        "#                        grid_width=4)"
      ],
      "metadata": {
        "id": "nh6_yYZCZDrA"
      },
      "execution_count": 28,
      "outputs": []
    },
    {
      "cell_type": "code",
      "source": [],
      "metadata": {
        "id": "KT_tH26cZFQG"
      },
      "execution_count": null,
      "outputs": []
    }
  ]
}