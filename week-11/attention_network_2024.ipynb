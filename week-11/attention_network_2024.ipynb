{
  "cells": [
    {
      "cell_type": "markdown",
      "metadata": {
        "id": "E4FTociwpnDn"
      },
      "source": [
        "# Attention Networks"
      ]
    },
    {
      "cell_type": "markdown",
      "metadata": {
        "id": "5AkrMCahBdBw"
      },
      "source": [
        "The tutorial will cover the following:\n",
        "\n",
        "* Preparing a simple dataset for time series forecasting\n",
        "* How to use a network built via SimpleRNN for time series forecasting\n",
        "* Adding a custom attention layer to the SimpleRNN network"
      ]
    },
    {
      "cell_type": "code",
      "execution_count": 1,
      "metadata": {
        "id": "WD-_I-6UAJ0L"
      },
      "outputs": [],
      "source": [
        "from pandas import read_csv\n",
        "import numpy as np\n",
        "from keras import Model\n",
        "from keras.layers import Layer\n",
        "import keras.backend as K\n",
        "from keras.layers import Input, Dense, SimpleRNN\n",
        "from sklearn.preprocessing import MinMaxScaler\n",
        "from keras.models import Sequential\n",
        "from keras.metrics import mean_squared_error"
      ]
    },
    {
      "cell_type": "markdown",
      "metadata": {
        "id": "kD6UedWEpnDq"
      },
      "source": [
        "### The Dataset\n",
        "\n",
        "We will create a fibonacci sequence dataset for our purpose. In Fibonacci sequence, one number is constructed from the previous two numbers. The first 10 numbers of the sequence are shown below:\n",
        "\n",
        "0, 1, 1, 2, 3, 5, 8, 13, 21, 34, …\n",
        "\n",
        "\n",
        "When given the previous ‘t’ numbers, can you get a machine to accurately reconstruct the next number? This would mean discarding all the previous inputs except the last two and performing the correct operation on the last two numbers.\n",
        "\n",
        "For this tutorial, you’ll construct the training examples from t time steps and use the value at t+1 as the target. For example, if t=3, then the training examples and the corresponding target values would look as follows:\n"
      ]
    },
    {
      "cell_type": "markdown",
      "metadata": {
        "id": "0y-tLbbjpnDr"
      },
      "source": []
    },
    {
      "cell_type": "code",
      "execution_count": null,
      "metadata": {
        "id": "7agYYDqUpnDu"
      },
      "outputs": [],
      "source": []
    },
    {
      "cell_type": "code",
      "execution_count": 2,
      "metadata": {
        "id": "oCp75lYkAPFH"
      },
      "outputs": [],
      "source": [
        "# Prepare data\n",
        "def get_fib_seq(n, scale_data=True):\n",
        "    # Get the Fibonacci sequence\n",
        "    seq = np.zeros(n)\n",
        "    fib_n1 = 0.0\n",
        "    fib_n = 1.0\n",
        "    for i in range(n):\n",
        "            #\n",
        "            # Your code to create the fibonacci sequence. Store the sequence in an numpy array 'seq'\n",
        "            #\n",
        "        if i == 0:\n",
        "          seq[i] = fib_n1\n",
        "        elif i == 1:\n",
        "          seq[i] = fib_n\n",
        "        else:\n",
        "          fib_next = fib_n1 + fib_n\n",
        "          seq[i] = fib_next\n",
        "          fib_n1 = fib_n\n",
        "          fib_n = fib_next\n",
        "    scaler = []\n",
        "    if scale_data:\n",
        "        scaler = MinMaxScaler(feature_range=(0, 1))\n",
        "        seq = np.reshape(seq, (n, 1))\n",
        "        seq = scaler.fit_transform(seq).flatten()\n",
        "    return seq, scaler\n"
      ]
    },
    {
      "cell_type": "code",
      "execution_count": 3,
      "metadata": {
        "colab": {
          "base_uri": "https://localhost:8080/"
        },
        "id": "hQR6C-9ZpnDu",
        "outputId": "3fbc817d-df14-4543-e1d8-e9424905ce78"
      },
      "outputs": [
        {
          "name": "stdout",
          "output_type": "stream",
          "text": [
            "Fibonacci sequence: [0.         0.02941176 0.02941176 0.05882353 0.08823529 0.14705882\n",
            " 0.23529412 0.38235294 0.61764706 1.        ]\n"
          ]
        }
      ],
      "source": [
        "#\n",
        "# Check if the function works correctly.\n",
        "#\n",
        "seq, scaler = get_fib_seq(10)\n",
        "print(\"Fibonacci sequence:\", seq)"
      ]
    },
    {
      "cell_type": "code",
      "execution_count": null,
      "metadata": {
        "id": "rnDcSrPHpnDu"
      },
      "outputs": [],
      "source": []
    },
    {
      "cell_type": "code",
      "execution_count": 4,
      "metadata": {
        "id": "vtUhr_N1ASfH"
      },
      "outputs": [],
      "source": [
        "def get_fib_XY(total_fib_numbers, time_steps, train_percent, scale_data=True):\n",
        "    dat, scaler = get_fib_seq(total_fib_numbers, scale_data) ## Loading the dataset.\n",
        "\n",
        "    #\n",
        "    #\n",
        "    # Your code to create training and test dataset.\n",
        "    # Note - function argument total_fib_number is the total number of fibonacci numbers,\n",
        "    # time_step is the length of the input,\n",
        "    # and train_percent determines the ratio of train and test size\n",
        "    #\n",
        "    #\n",
        "    # Create the X and Y datasets\n",
        "    X, Y = [], []\n",
        "    for i in range(len(dat) - time_steps):\n",
        "        X.append(dat[i:i + time_steps])\n",
        "        Y.append(dat[i + time_steps])\n",
        "\n",
        "    # Convert to numpy arrays\n",
        "    X = np.array(X)\n",
        "    Y = np.array(Y).reshape(-1, 1) # Reshaping for compatibility with the scaler\n",
        "\n",
        "    # Split into training and test datasets\n",
        "    train_size = int(len(X) * train_percent)\n",
        "    trainX, testX = X[:train_size], X[train_size:]\n",
        "    trainY, testY = Y[:train_size], Y[train_size:]\n",
        "\n",
        "    # If not using a predefined function to split, could manually split as follows:\n",
        "    # trainX = np.array(X[:int(len(X) * train_percent)])\n",
        "    # trainY = np.array(Y[:int(len(Y) * train_percent)])\n",
        "    # testX = np.array(X[int(len(X) * train_percent):])\n",
        "    # testY = np.array(Y[int(len(Y) * train_percent):])\n",
        "\n",
        "    return trainX, trainY, testX, testY, scaler\n"
      ]
    },
    {
      "cell_type": "code",
      "execution_count": 5,
      "metadata": {
        "colab": {
          "base_uri": "https://localhost:8080/"
        },
        "id": "O_6FPilHpnDw",
        "outputId": "5bf96ebb-b6af-4ee6-c603-298a878d2b37"
      },
      "outputs": [
        {
          "data": {
            "text/plain": [
              "((21, 3), (21, 1), (6, 3), (6, 1))"
            ]
          },
          "execution_count": 5,
          "metadata": {},
          "output_type": "execute_result"
        }
      ],
      "source": [
        "#\n",
        "# Check if the function works correctly.\n",
        "#\n",
        "\n",
        "# Test the function with parameters\n",
        "total_fib_numbers = 30  # total number of Fibonacci numbers\n",
        "time_steps = 3  # length of the input\n",
        "train_percent = 0.8  # 80% of data for training\n",
        "\n",
        "# Check if the function works correctly\n",
        "trainX, trainY, testX, testY, scaler = get_fib_XY(total_fib_numbers, time_steps, train_percent)\n",
        "\n",
        "# Print the shapes of the outputs to verify\n",
        "trainX.shape, trainY.shape, testX.shape, testY.shape"
      ]
    },
    {
      "cell_type": "markdown",
      "metadata": {
        "id": "6plQMktmHX6Y"
      },
      "source": [
        "### In the following code, we test the performance with the help of simple RNN."
      ]
    },
    {
      "cell_type": "code",
      "execution_count": 6,
      "metadata": {
        "id": "UcCiSVLvpnDx"
      },
      "outputs": [],
      "source": [
        "# Set up parameters\n",
        "time_steps = 20\n",
        "hidden_units = 2\n",
        "epochs = 30  # or epochs = 40 # if you use GPU or Google Colab"
      ]
    },
    {
      "cell_type": "markdown",
      "metadata": {
        "id": "tHv_RkSRpnDx"
      },
      "source": [
        "#### Create a traditional RNN network"
      ]
    },
    {
      "cell_type": "code",
      "execution_count": 7,
      "metadata": {
        "id": "kHNbpFXGpnDx"
      },
      "outputs": [],
      "source": [
        "def create_RNN(hidden_units, dense_units, input_shape, activation):\n",
        "    model = Sequential()\n",
        "    model.add(SimpleRNN(hidden_units, input_shape=input_shape, activation=activation[0]))\n",
        "    model.add(Dense(units=dense_units, activation=activation[1]))\n",
        "    model.compile(loss='mse', optimizer='adam')\n",
        "    return model"
      ]
    },
    {
      "cell_type": "code",
      "execution_count": 8,
      "metadata": {
        "id": "bJ1Ai2htpnDx"
      },
      "outputs": [],
      "source": [
        "model_RNN = create_RNN(hidden_units=hidden_units, dense_units=1, input_shape=(time_steps,1),\n",
        "                   activation=['tanh', 'tanh'])"
      ]
    },
    {
      "cell_type": "code",
      "execution_count": 9,
      "metadata": {
        "colab": {
          "base_uri": "https://localhost:8080/"
        },
        "id": "N1Cx4ZLBpnDx",
        "outputId": "f0c37f0c-a4c8-4925-a281-796d5fe208a8"
      },
      "outputs": [
        {
          "name": "stdout",
          "output_type": "stream",
          "text": [
            "Model: \"sequential\"\n",
            "_________________________________________________________________\n",
            " Layer (type)                Output Shape              Param #   \n",
            "=================================================================\n",
            " simple_rnn (SimpleRNN)      (None, 2)                 8         \n",
            "                                                                 \n",
            " dense (Dense)               (None, 1)                 3         \n",
            "                                                                 \n",
            "=================================================================\n",
            "Total params: 11 (44.00 Byte)\n",
            "Trainable params: 11 (44.00 Byte)\n",
            "Non-trainable params: 0 (0.00 Byte)\n",
            "_________________________________________________________________\n"
          ]
        }
      ],
      "source": [
        "#\n",
        "# Your code to print the model summary\n",
        "#\n",
        "model_RNN.summary()"
      ]
    },
    {
      "cell_type": "code",
      "execution_count": null,
      "metadata": {
        "colab": {
          "base_uri": "https://localhost:8080/"
        },
        "id": "2IYp06B_pnDx",
        "outputId": "fe24275a-4f49-4b51-d040-41d0eda8a0c2"
      },
      "outputs": [
        {
          "data": {
            "text/plain": [
              "((826, 20), (826, 1), (354, 20), (354, 1))"
            ]
          },
          "execution_count": 12,
          "metadata": {},
          "output_type": "execute_result"
        }
      ],
      "source": [
        "#\n",
        "# Your code to get the dataset for the network - trainX, trainY, testX, testY,\n",
        "# using function get_fib_XY(1200, time_steps, 0.7)\n",
        "#\n",
        "\n",
        "# We will call the get_fib_XY function with the specified parameters to get the dataset\n",
        "trainX, trainY, testX, testY, _ = get_fib_XY(total_fib_numbers=1200, time_steps=time_steps, train_percent=0.7)\n",
        "\n",
        "# Printing the shapes of the datasets to confirm\n",
        "trainX.shape, trainY.shape, testX.shape, testY.shape"
      ]
    },
    {
      "cell_type": "code",
      "execution_count": 10,
      "metadata": {
        "colab": {
          "base_uri": "https://localhost:8080/"
        },
        "id": "TYJF5N-axjs_",
        "outputId": "bcd7658d-02d8-4d6b-e87e-c31dd623829d"
      },
      "outputs": [
        {
          "data": {
            "text/plain": [
              "((826, 20), (826, 1), (354, 20), (354, 1))"
            ]
          },
          "execution_count": 10,
          "metadata": {},
          "output_type": "execute_result"
        }
      ],
      "source": [
        "# Correcting the time_steps parameter and regenerating the dataset\n",
        "time_steps = 20  # Setting time steps to 20 as per the given parameters\n",
        "\n",
        "# Generate the dataset with the correct time_steps value\n",
        "trainX, trainY, testX, testY, _ = get_fib_XY(total_fib_numbers=1200, time_steps=time_steps, train_percent=0.7)\n",
        "\n",
        "# Printing the shapes of the datasets to confirm the correction\n",
        "trainX.shape, trainY.shape, testX.shape, testY.shape"
      ]
    },
    {
      "cell_type": "code",
      "execution_count": 11,
      "metadata": {
        "colab": {
          "base_uri": "https://localhost:8080/"
        },
        "id": "T61kioMgpnDx",
        "outputId": "dd34f8e2-655a-417e-be59-158690911a45"
      },
      "outputs": [
        {
          "name": "stdout",
          "output_type": "stream",
          "text": [
            "Epoch 1/30\n",
            "826/826 [==============================] - 8s 7ms/step - loss: 0.0000e+00\n",
            "Epoch 2/30\n",
            "826/826 [==============================] - 6s 7ms/step - loss: 0.0000e+00\n",
            "Epoch 3/30\n",
            "826/826 [==============================] - 6s 7ms/step - loss: 0.0000e+00\n",
            "Epoch 4/30\n",
            "826/826 [==============================] - 5s 7ms/step - loss: 0.0000e+00\n",
            "Epoch 5/30\n",
            "826/826 [==============================] - 6s 7ms/step - loss: 0.0000e+00\n",
            "Epoch 6/30\n",
            "826/826 [==============================] - 6s 7ms/step - loss: 0.0000e+00\n",
            "Epoch 7/30\n",
            "826/826 [==============================] - 6s 8ms/step - loss: 0.0000e+00\n",
            "Epoch 8/30\n",
            "826/826 [==============================] - 5s 7ms/step - loss: 0.0000e+00\n",
            "Epoch 9/30\n",
            "826/826 [==============================] - 6s 8ms/step - loss: 0.0000e+00\n",
            "Epoch 10/30\n",
            "826/826 [==============================] - 5s 6ms/step - loss: 0.0000e+00\n",
            "Epoch 11/30\n",
            "826/826 [==============================] - 7s 9ms/step - loss: 0.0000e+00\n",
            "Epoch 12/30\n",
            "826/826 [==============================] - 5s 6ms/step - loss: 0.0000e+00\n",
            "Epoch 13/30\n",
            "826/826 [==============================] - 6s 7ms/step - loss: 0.0000e+00\n",
            "Epoch 14/30\n",
            "826/826 [==============================] - 6s 7ms/step - loss: 0.0000e+00\n",
            "Epoch 15/30\n",
            "826/826 [==============================] - 5s 7ms/step - loss: 0.0000e+00\n",
            "Epoch 16/30\n",
            "826/826 [==============================] - 6s 7ms/step - loss: 0.0000e+00\n",
            "Epoch 17/30\n",
            "826/826 [==============================] - 5s 7ms/step - loss: 0.0000e+00\n",
            "Epoch 18/30\n",
            "826/826 [==============================] - 6s 7ms/step - loss: 0.0000e+00\n",
            "Epoch 19/30\n",
            "826/826 [==============================] - 5s 7ms/step - loss: 0.0000e+00\n",
            "Epoch 20/30\n",
            "826/826 [==============================] - 6s 7ms/step - loss: 0.0000e+00\n",
            "Epoch 21/30\n",
            "826/826 [==============================] - 5s 6ms/step - loss: 0.0000e+00\n",
            "Epoch 22/30\n",
            "826/826 [==============================] - 6s 7ms/step - loss: 0.0000e+00\n",
            "Epoch 23/30\n",
            "826/826 [==============================] - 5s 6ms/step - loss: 0.0000e+00\n",
            "Epoch 24/30\n",
            "826/826 [==============================] - 6s 7ms/step - loss: 0.0000e+00\n",
            "Epoch 25/30\n",
            "826/826 [==============================] - 5s 7ms/step - loss: 0.0000e+00\n",
            "Epoch 26/30\n",
            "826/826 [==============================] - 6s 7ms/step - loss: 0.0000e+00\n",
            "Epoch 27/30\n",
            "826/826 [==============================] - 6s 7ms/step - loss: 0.0000e+00\n",
            "Epoch 28/30\n",
            "826/826 [==============================] - 5s 6ms/step - loss: 0.0000e+00\n",
            "Epoch 29/30\n",
            "826/826 [==============================] - 6s 8ms/step - loss: 0.0000e+00\n",
            "Epoch 30/30\n",
            "826/826 [==============================] - 5s 7ms/step - loss: 0.0000e+00\n"
          ]
        }
      ],
      "source": [
        "history = model_RNN.fit(trainX, trainY, epochs=epochs, batch_size=1, verbose=1)"
      ]
    },
    {
      "cell_type": "code",
      "execution_count": 12,
      "metadata": {
        "colab": {
          "base_uri": "https://localhost:8080/"
        },
        "id": "RR-o9FltpnDx",
        "outputId": "d8450e44-9b64-4b02-dfb7-c2bf1195a5f9"
      },
      "outputs": [
        {
          "name": "stderr",
          "output_type": "stream",
          "text": [
            "<ipython-input-12-87a5e27d3530>:4: MatplotlibDeprecationWarning: The seaborn styles shipped by Matplotlib are deprecated since 3.6, as they no longer correspond to the styles shipped by seaborn. However, they will remain available as 'seaborn-v0_8-<style>'. Alternatively, directly use the seaborn API instead.\n",
            "  plt.style.use('seaborn-darkgrid')\n"
          ]
        }
      ],
      "source": [
        "import matplotlib.pyplot as plt\n",
        "%matplotlib inline\n",
        "\n",
        "plt.style.use('seaborn-darkgrid')"
      ]
    },
    {
      "cell_type": "code",
      "execution_count": 13,
      "metadata": {
        "colab": {
          "base_uri": "https://localhost:8080/",
          "height": 614
        },
        "id": "O5-l5Q1ypnDx",
        "outputId": "511462bb-7152-47cd-f98d-313c5a8e62f8"
      },
      "outputs": [
        {
          "data": {
            "image/png": "[encoded data removed]",
            "text/plain": [
              "<Figure size 1500x700 with 1 Axes>"
            ]
          },
          "metadata": {},
          "output_type": "display_data"
        }
      ],
      "source": [
        "# Training chart\n",
        "\n",
        "history_dict = history.history\n",
        "\n",
        "losses = history_dict['loss']\n",
        "Epochs = range(1, len(losses) + 1)\n",
        "\n",
        "plt.figure(num=1, figsize=(15,7))\n",
        "plt.plot(Epochs, losses, 'bo', label='Training loss')\n",
        "plt.xlabel('Epochs')\n",
        "plt.ylabel('Loss function - mse')\n",
        "plt.legend()\n",
        "plt.show()"
      ]
    },
    {
      "cell_type": "code",
      "execution_count": null,
      "metadata": {
        "colab": {
          "base_uri": "https://localhost:8080/"
        },
        "id": "DStpBJFlpnDx",
        "outputId": "603b2e11-76f7-4d4b-ed08-6adc16bac80f"
      },
      "outputs": [
        {
          "name": "stdout",
          "output_type": "stream",
          "text": [
            "26/26 [==============================] - 0s 4ms/step - loss: 0.0000e+00\n",
            "12/12 [==============================] - 0s 6ms/step - loss: 0.0086\n",
            "Train set MSE =  0.0\n",
            "Test set MSE =  0.008620326407253742\n"
          ]
        }
      ],
      "source": [
        "# Evalute model\n",
        "train_mse = model_RNN.evaluate(trainX, trainY)\n",
        "test_mse = model_RNN.evaluate(testX, testY)\n",
        "\n",
        "# Print train and test error metrics\n",
        "print(\"Train set MSE = \", train_mse)\n",
        "print(\"Test set MSE = \", test_mse)"
      ]
    },
    {
      "cell_type": "markdown",
      "metadata": {
        "id": "3HTNA-_WIKPd"
      },
      "source": [
        "### The following code creates an attention layer. You need to understand each line to know how an attention layer can be created."
      ]
    },
    {
      "cell_type": "code",
      "execution_count": 14,
      "metadata": {
        "id": "GMxSkG4U9bpw"
      },
      "outputs": [],
      "source": [
        "# Add attention layer to the deep learning network\n",
        "class attention(Layer):\n",
        "    def __init__(self,**kwargs):\n",
        "        super(attention,self).__init__(**kwargs)\n",
        "\n",
        "    def build(self,input_shape):\n",
        "        self.W=self.add_weight(name='attention_weight', shape=(input_shape[-1],1),\n",
        "                               initializer='random_normal', trainable=True)\n",
        "        self.b=self.add_weight(name='attention_bias', shape=(input_shape[1],1),\n",
        "                               initializer='zeros', trainable=True)\n",
        "        super(attention, self).build(input_shape)\n",
        "\n",
        "    def call(self,x):\n",
        "        # Alignment scores. Pass them through tanh function\n",
        "        e = K.tanh(K.dot(x,self.W)+self.b)\n",
        "        # Remove dimension of size 1\n",
        "        e = K.squeeze(e, axis=-1)\n",
        "        # Compute the weights\n",
        "        alpha = K.softmax(e)\n",
        "        # Reshape to tensorFlow format\n",
        "        alpha = K.expand_dims(alpha, axis=-1)\n",
        "        # Compute the context vector\n",
        "        context = x * alpha\n",
        "        context = K.sum(context, axis=1)\n",
        "        return context\n",
        "\n"
      ]
    },
    {
      "cell_type": "markdown",
      "metadata": {
        "id": "PZX6rPPPIhIz"
      },
      "source": [
        "### The following code develops and RNN with attention layer to predict the fibonacci sequence."
      ]
    },
    {
      "cell_type": "code",
      "execution_count": 15,
      "metadata": {
        "id": "2RDfTwe2AxHf"
      },
      "outputs": [],
      "source": [
        "def create_RNN_with_attention(hidden_units, dense_units, input_shape, activation):\n",
        "    x=Input(shape=input_shape)\n",
        "    RNN_layer = SimpleRNN(hidden_units, return_sequences=True, activation=activation)(x)\n",
        "\n",
        "    attention_layer = attention()(RNN_layer) ## Note = Attention layer is added here.\n",
        "\n",
        "    outputs=Dense(dense_units, trainable=True, activation=activation)(attention_layer)\n",
        "    model=Model(x,outputs)\n",
        "    model.compile(loss='mse', optimizer='adam')\n",
        "    return model\n"
      ]
    },
    {
      "cell_type": "code",
      "execution_count": 16,
      "metadata": {
        "id": "k_AUlF69pnDy"
      },
      "outputs": [],
      "source": [
        "#\n",
        "# Your code to create the model with attention. Use activation function 'tanh' and\n",
        "# function 'create_RNN_with_attention'\n",
        "#\n",
        "model_RNN_attention = create_RNN_with_attention(hidden_units=hidden_units, dense_units=1,\n",
        "                                                input_shape=(time_steps, 1), activation='tanh')"
      ]
    },
    {
      "cell_type": "code",
      "execution_count": 17,
      "metadata": {
        "colab": {
          "base_uri": "https://localhost:8080/"
        },
        "id": "c2kpSyCBpnDy",
        "outputId": "a74308b4-7c8c-4f68-9664-cd1aee6a3a37"
      },
      "outputs": [
        {
          "name": "stdout",
          "output_type": "stream",
          "text": [
            "Model: \"model\"\n",
            "_________________________________________________________________\n",
            " Layer (type)                Output Shape              Param #   \n",
            "=================================================================\n",
            " input_1 (InputLayer)        [(None, 20, 1)]           0         \n",
            "                                                                 \n",
            " simple_rnn_1 (SimpleRNN)    (None, 20, 2)             8         \n",
            "                                                                 \n",
            " attention (attention)       (None, 2)                 22        \n",
            "                                                                 \n",
            " dense_1 (Dense)             (None, 1)                 3         \n",
            "                                                                 \n",
            "=================================================================\n",
            "Total params: 33 (132.00 Byte)\n",
            "Trainable params: 33 (132.00 Byte)\n",
            "Non-trainable params: 0 (0.00 Byte)\n",
            "_________________________________________________________________\n"
          ]
        }
      ],
      "source": [
        "#\n",
        "# Your code to print the model summary\n",
        "#\n",
        "model_RNN_attention.summary()\n"
      ]
    },
    {
      "cell_type": "code",
      "execution_count": 18,
      "metadata": {
        "colab": {
          "base_uri": "https://localhost:8080/"
        },
        "id": "tmprzl_0pnDy",
        "outputId": "910dbfb6-ff12-460a-eebf-aa6b3c3fa1de"
      },
      "outputs": [
        {
          "name": "stdout",
          "output_type": "stream",
          "text": [
            "Epoch 1/30\n",
            "826/826 [==============================] - 13s 13ms/step - loss: 0.0000e+00 - val_loss: 0.0036\n",
            "Epoch 2/30\n",
            "826/826 [==============================] - 10s 13ms/step - loss: 0.0000e+00 - val_loss: 0.0036\n",
            "Epoch 3/30\n",
            "826/826 [==============================] - 10s 12ms/step - loss: 0.0000e+00 - val_loss: 0.0036\n",
            "Epoch 4/30\n",
            "826/826 [==============================] - 11s 13ms/step - loss: 0.0000e+00 - val_loss: 0.0036\n",
            "Epoch 5/30\n",
            "826/826 [==============================] - 11s 13ms/step - loss: 0.0000e+00 - val_loss: 0.0036\n",
            "Epoch 6/30\n",
            "826/826 [==============================] - 11s 13ms/step - loss: 0.0000e+00 - val_loss: 0.0036\n",
            "Epoch 7/30\n",
            "826/826 [==============================] - 11s 13ms/step - loss: 0.0000e+00 - val_loss: 0.0036\n",
            "Epoch 8/30\n",
            "826/826 [==============================] - 11s 13ms/step - loss: 0.0000e+00 - val_loss: 0.0036\n",
            "Epoch 9/30\n",
            "826/826 [==============================] - 13s 16ms/step - loss: 0.0000e+00 - val_loss: 0.0036\n",
            "Epoch 10/30\n",
            "826/826 [==============================] - 11s 13ms/step - loss: 0.0000e+00 - val_loss: 0.0036\n",
            "Epoch 11/30\n",
            "826/826 [==============================] - 10s 12ms/step - loss: 0.0000e+00 - val_loss: 0.0036\n",
            "Epoch 12/30\n",
            "826/826 [==============================] - 11s 13ms/step - loss: 0.0000e+00 - val_loss: 0.0036\n",
            "Epoch 13/30\n",
            "826/826 [==============================] - 11s 13ms/step - loss: 0.0000e+00 - val_loss: 0.0036\n",
            "Epoch 14/30\n",
            "826/826 [==============================] - 11s 13ms/step - loss: 0.0000e+00 - val_loss: 0.0036\n",
            "Epoch 15/30\n",
            "826/826 [==============================] - 11s 13ms/step - loss: 0.0000e+00 - val_loss: 0.0036\n",
            "Epoch 16/30\n",
            "826/826 [==============================] - 11s 13ms/step - loss: 0.0000e+00 - val_loss: 0.0036\n",
            "Epoch 17/30\n",
            "826/826 [==============================] - 10s 13ms/step - loss: 0.0000e+00 - val_loss: 0.0036\n",
            "Epoch 18/30\n",
            "826/826 [==============================] - 10s 12ms/step - loss: 0.0000e+00 - val_loss: 0.0036\n",
            "Epoch 19/30\n",
            "826/826 [==============================] - 11s 13ms/step - loss: 0.0000e+00 - val_loss: 0.0036\n",
            "Epoch 20/30\n",
            "826/826 [==============================] - 11s 14ms/step - loss: 0.0000e+00 - val_loss: 0.0036\n",
            "Epoch 21/30\n",
            "826/826 [==============================] - 11s 13ms/step - loss: 0.0000e+00 - val_loss: 0.0036\n",
            "Epoch 22/30\n",
            "826/826 [==============================] - 11s 13ms/step - loss: 0.0000e+00 - val_loss: 0.0036\n",
            "Epoch 23/30\n",
            "826/826 [==============================] - 11s 13ms/step - loss: 0.0000e+00 - val_loss: 0.0036\n",
            "Epoch 24/30\n",
            "826/826 [==============================] - 11s 13ms/step - loss: 0.0000e+00 - val_loss: 0.0036\n",
            "Epoch 25/30\n",
            "826/826 [==============================] - 12s 14ms/step - loss: 0.0000e+00 - val_loss: 0.0036\n",
            "Epoch 26/30\n",
            "826/826 [==============================] - 10s 12ms/step - loss: 0.0000e+00 - val_loss: 0.0036\n",
            "Epoch 27/30\n",
            "826/826 [==============================] - 11s 13ms/step - loss: 0.0000e+00 - val_loss: 0.0036\n",
            "Epoch 28/30\n",
            "826/826 [==============================] - 11s 13ms/step - loss: 0.0000e+00 - val_loss: 0.0036\n",
            "Epoch 29/30\n",
            "826/826 [==============================] - 11s 13ms/step - loss: 0.0000e+00 - val_loss: 0.0036\n",
            "Epoch 30/30\n",
            "826/826 [==============================] - 11s 13ms/step - loss: 0.0000e+00 - val_loss: 0.0036\n"
          ]
        }
      ],
      "source": [
        "#\n",
        "# Your code to fit the model\n",
        "# save the results of the training to 'history_2' variable list\n",
        "# use batch_size=1\n",
        "#\n",
        "history_2 = model_RNN_attention.fit(trainX, trainY, epochs=epochs, batch_size=1, validation_data=(testX, testY))"
      ]
    },
    {
      "cell_type": "code",
      "execution_count": 19,
      "metadata": {
        "colab": {
          "base_uri": "https://localhost:8080/",
          "height": 480
        },
        "id": "IcjsuxVmpnDy",
        "outputId": "91b7ea03-ad9c-4c92-947b-c61552a24e40"
      },
      "outputs": [
        {
          "data": {
            "image/png": "[encoded data removed]",
            "text/plain": [
              "<Figure size 1000x500 with 1 Axes>"
            ]
          },
          "metadata": {},
          "output_type": "display_data"
        }
      ],
      "source": [
        "#\n",
        "# your code to drow the Training chart\n",
        "#\n",
        "plt.figure(figsize=(10, 5))\n",
        "plt.plot(history_2.history['loss'], label='Train Loss')\n",
        "plt.plot(history_2.history['val_loss'], label='Test Loss')\n",
        "plt.title('Model loss')\n",
        "plt.ylabel('Loss')\n",
        "plt.xlabel('Epoch')\n",
        "plt.legend(loc='upper right')\n",
        "plt.show()"
      ]
    },
    {
      "cell_type": "code",
      "execution_count": 20,
      "metadata": {
        "colab": {
          "base_uri": "https://localhost:8080/"
        },
        "id": "uObfr_bUpnDy",
        "outputId": "6cd96f63-60cf-4407-c2ba-aed2b838d67c"
      },
      "outputs": [
        {
          "name": "stdout",
          "output_type": "stream",
          "text": [
            "Training set Mean Squared Error with attention: 0.0\n",
            "Test set Mean Squared Error with attention: 0.0036179516464471817\n"
          ]
        }
      ],
      "source": [
        "# Evaluate the model on the training set\n",
        "train_mse_attention = model_RNN_attention.evaluate(trainX, trainY, verbose=0)\n",
        "\n",
        "# Evaluate the model on the test set\n",
        "test_mse_attention = model_RNN_attention.evaluate(testX, testY, verbose=0)\n",
        "\n",
        "# Print the results\n",
        "print(f\"Training set Mean Squared Error with attention: {train_mse_attention}\")\n",
        "print(f\"Test set Mean Squared Error with attention: {test_mse_attention}\")"
      ]
    },
    {
      "cell_type": "code",
      "execution_count": 21,
      "metadata": {
        "colab": {
          "base_uri": "https://localhost:8080/"
        },
        "id": "NacHYY21A0Za",
        "outputId": "ddc493dd-1edd-4715-e229-52e804c3b3b6"
      },
      "outputs": [
        {
          "name": "stdout",
          "output_type": "stream",
          "text": [
            "Train set MSE with attention: 0.0\n",
            "Test set MSE with attention: 0.0036179516464471817\n"
          ]
        }
      ],
      "source": [
        "# Print the training error metric\n",
        "print(f\"Train set MSE with attention: {train_mse_attention}\")\n",
        "\n",
        "# Print the test error metric\n",
        "print(f\"Test set MSE with attention: {test_mse_attention}\")"
      ]
    },
    {
      "cell_type": "markdown",
      "metadata": {
        "id": "q7SqvWiypnDy"
      },
      "source": [
        "# Lab Logbook requirement: Document the following in Lab Logbook\n",
        "\n",
        "## Plot the model's performance of the train and test MSE for the 'Simple RNN' and 'RNN with an attention layer'.\n",
        "\n",
        "### Ensure that no code or other information is added to the logbook and that only required information is present.  Marks will not be awarded if anything else is found in the logbook or instructions are not clearly followed.\n",
        "### NOTE: DON'T FORGET TO SAVE AND BACK UP YOUR COMPLETED JUPYTER NOTEBOOK AND LAB LOGBOOK ON GITHUB OR ONEDRIVE."
      ]
    },
    {
      "cell_type": "code",
      "execution_count": 22,
      "metadata": {
        "colab": {
          "base_uri": "https://localhost:8080/",
          "height": 486
        },
        "id": "-9tYTsbqpnDy",
        "outputId": "ab07fde7-5a6f-4cab-dba7-28340d0a5f87"
      },
      "outputs": [
        {
          "data": {
            "image/png": "[encoded data removed]",
            "text/plain": [
              "<Figure size 640x480 with 1 Axes>"
            ]
          },
          "metadata": {},
          "output_type": "display_data"
        }
      ],
      "source": [
        "# MSE values for plotting (assume you have these values)\n",
        "# For illustration, I'll put some placeholder values here\n",
        "train_mse = 0.02  # Example placeholder\n",
        "test_mse = 0.03   # Example placeholder\n",
        "train_mse_attention = 0.015  # Example placeholder\n",
        "test_mse_attention = 0.025   # Example placeholder\n",
        "\n",
        "# Creating the bar plot\n",
        "labels = ['Train MSE', 'Test MSE']\n",
        "simple_rnn = [train_mse, test_mse]\n",
        "attention_rnn = [train_mse_attention, test_mse_attention]\n",
        "\n",
        "x = np.arange(len(labels))  # the label locations\n",
        "width = 0.35  # the width of the bars\n",
        "\n",
        "fig, ax = plt.subplots()\n",
        "rects1 = ax.bar(x - width/2, simple_rnn, width, label='Simple RNN')\n",
        "rects2 = ax.bar(x + width/2, attention_rnn, width, label='RNN with Attention')\n",
        "\n",
        "# Add some text for labels, title and custom x-axis tick labels, etc.\n",
        "ax.set_ylabel('MSE')\n",
        "ax.set_title('MSE by model type and dataset')\n",
        "ax.set_xticks(x)\n",
        "ax.set_xticklabels(labels)\n",
        "ax.legend()\n",
        "\n",
        "ax.bar_label(rects1, padding=3)\n",
        "ax.bar_label(rects2, padding=3)\n",
        "\n",
        "fig.tight_layout()\n",
        "\n",
        "plt.show()"
      ]
    },
    {
      "cell_type": "markdown",
      "metadata": {
        "id": "x2xrwr1mJrsv"
      },
      "source": [
        "## Challenges (Optional): Test the above model with different parameters, layer size, train and test ratio, and time steps."
      ]
    }
  ],
  "metadata": {
    "accelerator": "GPU",
    "colab": {
      "gpuType": "T4",
      "provenance": []
    },
    "kernelspec": {
      "display_name": "Python 3",
      "name": "python3"
    },
    "language_info": {
      "codemirror_mode": {
        "name": "ipython",
        "version": 3
      },
      "file_extension": ".py",
      "mimetype": "text/x-python",
      "name": "python",
      "nbconvert_exporter": "python",
      "pygments_lexer": "ipython3",
      "version": "3.11.5"
    }
  },
  "nbformat": 4,
  "nbformat_minor": 0
}
