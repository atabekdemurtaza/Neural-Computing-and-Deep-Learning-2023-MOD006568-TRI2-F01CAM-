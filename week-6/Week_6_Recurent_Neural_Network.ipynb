{
  "cells": [
    {
      "cell_type": "markdown",
      "metadata": {
        "id": "eAXZw-BOklA-"
      },
      "source": [
        "\n",
        "\n",
        "# RNN for Time Series\n",
        "\n",
        "RNNs are used for sequence modeling. This tutorial will look at a time series data to be modeled and predicted using RNNs."
      ]
    },
    {
      "cell_type": "code",
      "execution_count": 45,
      "metadata": {
        "id": "WO9ntPgRklBA"
      },
      "outputs": [],
      "source": [
        "import pandas as pd\n",
        "import numpy as np\n",
        "\n",
        "%matplotlib inline\n",
        "import matplotlib.pyplot as plt\n"
      ]
    },
    {
      "cell_type": "markdown",
      "metadata": {
        "id": "T6HAjQBuklBA"
      },
      "source": [
        "## Data\n",
        "\n",
        "We will use retail data for time-series modeling.\n",
        "\n",
        "Link to the dataset:\n",
        " https://fred.stlouisfed.org/series/MRTSSM448USN\n",
        "\n",
        "Information about the Advance Monthly Retail Sales Survey can be found on the Census website at:\n",
        "https://www.census.gov/retail/marts/about_the_surveys.html\n",
        "\n",
        "Release: Advance Monthly Sales for Retail and Food Services  \n",
        "Units:  Millions of Dollars, Not Seasonally Adjusted\n",
        "Frequency:  Monthly\n",
        "\n",
        "Suggested Citation:\n",
        "U.S. Census Bureau, Advance Retail Sales: Clothing and Clothing Accessory Stores [RSCCASN], retrieved from FRED, Federal Reserve Bank of St. Louis; https://fred.stlouisfed.org/series/RSCCASN, November 16, 2019.\n",
        "\n",
        "https://fred.stlouisfed.org/series/RSCCASN"
      ]
    },
    {
      "cell_type": "markdown",
      "metadata": {
        "id": "j0afncMwmJiA"
      },
      "source": [
        "# Read data first -  Use index_col = 'DATE' and 'parse_dates = True' as a parameter."
      ]
    },
    {
      "cell_type": "code",
      "execution_count": 57,
      "metadata": {
        "id": "PWy0RE0iklBB"
      },
      "outputs": [],
      "source": [
        "df = pd.read_csv('RSCCASN.csv',index_col='DATE',parse_dates=True)"
      ]
    },
    {
      "cell_type": "markdown",
      "metadata": {
        "id": "20ILbN0TmrOJ"
      },
      "source": [
        "Does the sales column has any name?\n",
        "\n",
        "If no, set the name of the colum as 'Sales'."
      ]
    },
    {
      "cell_type": "code",
      "execution_count": 58,
      "metadata": {
        "id": "PZIxSODNklBC",
        "outputId": "df9769df-5e72-4354-923b-b5a3d8777cfb",
        "colab": {
          "base_uri": "https://localhost:8080/",
          "height": 237
        }
      },
      "outputs": [
        {
          "output_type": "execute_result",
          "data": {
            "text/plain": [
              "            RSCCASN\n",
              "DATE               \n",
              "1992-01-01   6938.0\n",
              "1992-02-01   7524.0\n",
              "1992-03-01   8475.0\n",
              "1992-04-01   9401.0\n",
              "1992-05-01   9558.0"
            ],
            "text/html": [
              "\n",
              "  <div id=\"df-34ce5e28-bac0-458d-b2e7-c8aefc5e8abb\" class=\"colab-df-container\">\n",
              "    <div>\n",
              "<style scoped>\n",
              "    .dataframe tbody tr th:only-of-type {\n",
              "        vertical-align: middle;\n",
              "    }\n",
              "\n",
              "    .dataframe tbody tr th {\n",
              "        vertical-align: top;\n",
              "    }\n",
              "\n",
              "    .dataframe thead th {\n",
              "        text-align: right;\n",
              "    }\n",
              "</style>\n",
              "<table border=\"1\" class=\"dataframe\">\n",
              "  <thead>\n",
              "    <tr style=\"text-align: right;\">\n",
              "      <th></th>\n",
              "      <th>RSCCASN</th>\n",
              "    </tr>\n",
              "    <tr>\n",
              "      <th>DATE</th>\n",
              "      <th></th>\n",
              "    </tr>\n",
              "  </thead>\n",
              "  <tbody>\n",
              "    <tr>\n",
              "      <th>1992-01-01</th>\n",
              "      <td>6938.0</td>\n",
              "    </tr>\n",
              "    <tr>\n",
              "      <th>1992-02-01</th>\n",
              "      <td>7524.0</td>\n",
              "    </tr>\n",
              "    <tr>\n",
              "      <th>1992-03-01</th>\n",
              "      <td>8475.0</td>\n",
              "    </tr>\n",
              "    <tr>\n",
              "      <th>1992-04-01</th>\n",
              "      <td>9401.0</td>\n",
              "    </tr>\n",
              "    <tr>\n",
              "      <th>1992-05-01</th>\n",
              "      <td>9558.0</td>\n",
              "    </tr>\n",
              "  </tbody>\n",
              "</table>\n",
              "</div>\n",
              "    <div class=\"colab-df-buttons\">\n",
              "\n",
              "  <div class=\"colab-df-container\">\n",
              "    <button class=\"colab-df-convert\" onclick=\"convertToInteractive('df-34ce5e28-bac0-458d-b2e7-c8aefc5e8abb')\"\n",
              "            title=\"Convert this dataframe to an interactive table.\"\n",
              "            style=\"display:none;\">\n",
              "\n",
              "  <svg xmlns=\"http://www.w3.org/2000/svg\" height=\"24px\" viewBox=\"0 -960 960 960\">\n",
              "    <path d=\"M120-120v-720h720v720H120Zm60-500h600v-160H180v160Zm220 220h160v-160H400v160Zm0 220h160v-160H400v160ZM180-400h160v-160H180v160Zm440 0h160v-160H620v160ZM180-180h160v-160H180v160Zm440 0h160v-160H620v160Z\"/>\n",
              "  </svg>\n",
              "    </button>\n",
              "\n",
              "  <style>\n",
              "    .colab-df-container {\n",
              "      display:flex;\n",
              "      gap: 12px;\n",
              "    }\n",
              "\n",
              "    .colab-df-convert {\n",
              "      background-color: #E8F0FE;\n",
              "      border: none;\n",
              "      border-radius: 50%;\n",
              "      cursor: pointer;\n",
              "      display: none;\n",
              "      fill: #1967D2;\n",
              "      height: 32px;\n",
              "      padding: 0 0 0 0;\n",
              "      width: 32px;\n",
              "    }\n",
              "\n",
              "    .colab-df-convert:hover {\n",
              "      background-color: #E2EBFA;\n",
              "      box-shadow: 0px 1px 2px rgba(60, 64, 67, 0.3), 0px 1px 3px 1px rgba(60, 64, 67, 0.15);\n",
              "      fill: #174EA6;\n",
              "    }\n",
              "\n",
              "    .colab-df-buttons div {\n",
              "      margin-bottom: 4px;\n",
              "    }\n",
              "\n",
              "    [theme=dark] .colab-df-convert {\n",
              "      background-color: #3B4455;\n",
              "      fill: #D2E3FC;\n",
              "    }\n",
              "\n",
              "    [theme=dark] .colab-df-convert:hover {\n",
              "      background-color: #434B5C;\n",
              "      box-shadow: 0px 1px 3px 1px rgba(0, 0, 0, 0.15);\n",
              "      filter: drop-shadow(0px 1px 2px rgba(0, 0, 0, 0.3));\n",
              "      fill: #FFFFFF;\n",
              "    }\n",
              "  </style>\n",
              "\n",
              "    <script>\n",
              "      const buttonEl =\n",
              "        document.querySelector('#df-34ce5e28-bac0-458d-b2e7-c8aefc5e8abb button.colab-df-convert');\n",
              "      buttonEl.style.display =\n",
              "        google.colab.kernel.accessAllowed ? 'block' : 'none';\n",
              "\n",
              "      async function convertToInteractive(key) {\n",
              "        const element = document.querySelector('#df-34ce5e28-bac0-458d-b2e7-c8aefc5e8abb');\n",
              "        const dataTable =\n",
              "          await google.colab.kernel.invokeFunction('convertToInteractive',\n",
              "                                                    [key], {});\n",
              "        if (!dataTable) return;\n",
              "\n",
              "        const docLinkHtml = 'Like what you see? Visit the ' +\n",
              "          '<a target=\"_blank\" href=https://colab.research.google.com/notebooks/data_table.ipynb>data table notebook</a>'\n",
              "          + ' to learn more about interactive tables.';\n",
              "        element.innerHTML = '';\n",
              "        dataTable['output_type'] = 'display_data';\n",
              "        await google.colab.output.renderOutput(dataTable, element);\n",
              "        const docLink = document.createElement('div');\n",
              "        docLink.innerHTML = docLinkHtml;\n",
              "        element.appendChild(docLink);\n",
              "      }\n",
              "    </script>\n",
              "  </div>\n",
              "\n",
              "\n",
              "<div id=\"df-cbe26de3-2113-4f09-a7ae-c8ec1dbd1aa4\">\n",
              "  <button class=\"colab-df-quickchart\" onclick=\"quickchart('df-cbe26de3-2113-4f09-a7ae-c8ec1dbd1aa4')\"\n",
              "            title=\"Suggest charts\"\n",
              "            style=\"display:none;\">\n",
              "\n",
              "<svg xmlns=\"http://www.w3.org/2000/svg\" height=\"24px\"viewBox=\"0 0 24 24\"\n",
              "     width=\"24px\">\n",
              "    <g>\n",
              "        <path d=\"M19 3H5c-1.1 0-2 .9-2 2v14c0 1.1.9 2 2 2h14c1.1 0 2-.9 2-2V5c0-1.1-.9-2-2-2zM9 17H7v-7h2v7zm4 0h-2V7h2v10zm4 0h-2v-4h2v4z\"/>\n",
              "    </g>\n",
              "</svg>\n",
              "  </button>\n",
              "\n",
              "<style>\n",
              "  .colab-df-quickchart {\n",
              "      --bg-color: #E8F0FE;\n",
              "      --fill-color: #1967D2;\n",
              "      --hover-bg-color: #E2EBFA;\n",
              "      --hover-fill-color: #174EA6;\n",
              "      --disabled-fill-color: #AAA;\n",
              "      --disabled-bg-color: #DDD;\n",
              "  }\n",
              "\n",
              "  [theme=dark] .colab-df-quickchart {\n",
              "      --bg-color: #3B4455;\n",
              "      --fill-color: #D2E3FC;\n",
              "      --hover-bg-color: #434B5C;\n",
              "      --hover-fill-color: #FFFFFF;\n",
              "      --disabled-bg-color: #3B4455;\n",
              "      --disabled-fill-color: #666;\n",
              "  }\n",
              "\n",
              "  .colab-df-quickchart {\n",
              "    background-color: var(--bg-color);\n",
              "    border: none;\n",
              "    border-radius: 50%;\n",
              "    cursor: pointer;\n",
              "    display: none;\n",
              "    fill: var(--fill-color);\n",
              "    height: 32px;\n",
              "    padding: 0;\n",
              "    width: 32px;\n",
              "  }\n",
              "\n",
              "  .colab-df-quickchart:hover {\n",
              "    background-color: var(--hover-bg-color);\n",
              "    box-shadow: 0 1px 2px rgba(60, 64, 67, 0.3), 0 1px 3px 1px rgba(60, 64, 67, 0.15);\n",
              "    fill: var(--button-hover-fill-color);\n",
              "  }\n",
              "\n",
              "  .colab-df-quickchart-complete:disabled,\n",
              "  .colab-df-quickchart-complete:disabled:hover {\n",
              "    background-color: var(--disabled-bg-color);\n",
              "    fill: var(--disabled-fill-color);\n",
              "    box-shadow: none;\n",
              "  }\n",
              "\n",
              "  .colab-df-spinner {\n",
              "    border: 2px solid var(--fill-color);\n",
              "    border-color: transparent;\n",
              "    border-bottom-color: var(--fill-color);\n",
              "    animation:\n",
              "      spin 1s steps(1) infinite;\n",
              "  }\n",
              "\n",
              "  @keyframes spin {\n",
              "    0% {\n",
              "      border-color: transparent;\n",
              "      border-bottom-color: var(--fill-color);\n",
              "      border-left-color: var(--fill-color);\n",
              "    }\n",
              "    20% {\n",
              "      border-color: transparent;\n",
              "      border-left-color: var(--fill-color);\n",
              "      border-top-color: var(--fill-color);\n",
              "    }\n",
              "    30% {\n",
              "      border-color: transparent;\n",
              "      border-left-color: var(--fill-color);\n",
              "      border-top-color: var(--fill-color);\n",
              "      border-right-color: var(--fill-color);\n",
              "    }\n",
              "    40% {\n",
              "      border-color: transparent;\n",
              "      border-right-color: var(--fill-color);\n",
              "      border-top-color: var(--fill-color);\n",
              "    }\n",
              "    60% {\n",
              "      border-color: transparent;\n",
              "      border-right-color: var(--fill-color);\n",
              "    }\n",
              "    80% {\n",
              "      border-color: transparent;\n",
              "      border-right-color: var(--fill-color);\n",
              "      border-bottom-color: var(--fill-color);\n",
              "    }\n",
              "    90% {\n",
              "      border-color: transparent;\n",
              "      border-bottom-color: var(--fill-color);\n",
              "    }\n",
              "  }\n",
              "</style>\n",
              "\n",
              "  <script>\n",
              "    async function quickchart(key) {\n",
              "      const quickchartButtonEl =\n",
              "        document.querySelector('#' + key + ' button');\n",
              "      quickchartButtonEl.disabled = true;  // To prevent multiple clicks.\n",
              "      quickchartButtonEl.classList.add('colab-df-spinner');\n",
              "      try {\n",
              "        const charts = await google.colab.kernel.invokeFunction(\n",
              "            'suggestCharts', [key], {});\n",
              "      } catch (error) {\n",
              "        console.error('Error during call to suggestCharts:', error);\n",
              "      }\n",
              "      quickchartButtonEl.classList.remove('colab-df-spinner');\n",
              "      quickchartButtonEl.classList.add('colab-df-quickchart-complete');\n",
              "    }\n",
              "    (() => {\n",
              "      let quickchartButtonEl =\n",
              "        document.querySelector('#df-cbe26de3-2113-4f09-a7ae-c8ec1dbd1aa4 button');\n",
              "      quickchartButtonEl.style.display =\n",
              "        google.colab.kernel.accessAllowed ? 'block' : 'none';\n",
              "    })();\n",
              "  </script>\n",
              "</div>\n",
              "    </div>\n",
              "  </div>\n"
            ],
            "application/vnd.google.colaboratory.intrinsic+json": {
              "type": "dataframe",
              "variable_name": "df",
              "summary": "{\n  \"name\": \"df\",\n  \"rows\": 386,\n  \"fields\": [\n    {\n      \"column\": \"DATE\",\n      \"properties\": {\n        \"dtype\": \"date\",\n        \"min\": \"1992-01-01 00:00:00\",\n        \"max\": \"2024-02-01 00:00:00\",\n        \"num_unique_values\": 386,\n        \"samples\": [\n          \"2020-01-01 00:00:00\",\n          \"2017-08-01 00:00:00\",\n          \"1999-07-01 00:00:00\"\n        ],\n        \"semantic_type\": \"\",\n        \"description\": \"\"\n      }\n    },\n    {\n      \"column\": \"RSCCASN\",\n      \"properties\": {\n        \"dtype\": \"number\",\n        \"std\": 6075.312927137761,\n        \"min\": 2752.0,\n        \"max\": 41187.0,\n        \"num_unique_values\": 381,\n        \"samples\": [\n          19867.0,\n          19084.0,\n          20002.0\n        ],\n        \"semantic_type\": \"\",\n        \"description\": \"\"\n      }\n    }\n  ]\n}"
            }
          },
          "metadata": {},
          "execution_count": 58
        }
      ],
      "source": [
        "df.head()"
      ]
    },
    {
      "cell_type": "code",
      "source": [
        "# Set name of column as 'Sales'. Use - df.columns\n",
        "\n",
        "df.columns = ['Sales']\n",
        "\n",
        "df.head()"
      ],
      "metadata": {
        "id": "SZ5piO4Fnx9y",
        "outputId": "d76ef61d-2cf3-4312-ae8f-da7da89e194d",
        "colab": {
          "base_uri": "https://localhost:8080/",
          "height": 237
        }
      },
      "execution_count": 59,
      "outputs": [
        {
          "output_type": "execute_result",
          "data": {
            "text/plain": [
              "             Sales\n",
              "DATE              \n",
              "1992-01-01  6938.0\n",
              "1992-02-01  7524.0\n",
              "1992-03-01  8475.0\n",
              "1992-04-01  9401.0\n",
              "1992-05-01  9558.0"
            ],
            "text/html": [
              "\n",
              "  <div id=\"df-4142b7e4-9a1c-40e1-ba14-6563499f4bc0\" class=\"colab-df-container\">\n",
              "    <div>\n",
              "<style scoped>\n",
              "    .dataframe tbody tr th:only-of-type {\n",
              "        vertical-align: middle;\n",
              "    }\n",
              "\n",
              "    .dataframe tbody tr th {\n",
              "        vertical-align: top;\n",
              "    }\n",
              "\n",
              "    .dataframe thead th {\n",
              "        text-align: right;\n",
              "    }\n",
              "</style>\n",
              "<table border=\"1\" class=\"dataframe\">\n",
              "  <thead>\n",
              "    <tr style=\"text-align: right;\">\n",
              "      <th></th>\n",
              "      <th>Sales</th>\n",
              "    </tr>\n",
              "    <tr>\n",
              "      <th>DATE</th>\n",
              "      <th></th>\n",
              "    </tr>\n",
              "  </thead>\n",
              "  <tbody>\n",
              "    <tr>\n",
              "      <th>1992-01-01</th>\n",
              "      <td>6938.0</td>\n",
              "    </tr>\n",
              "    <tr>\n",
              "      <th>1992-02-01</th>\n",
              "      <td>7524.0</td>\n",
              "    </tr>\n",
              "    <tr>\n",
              "      <th>1992-03-01</th>\n",
              "      <td>8475.0</td>\n",
              "    </tr>\n",
              "    <tr>\n",
              "      <th>1992-04-01</th>\n",
              "      <td>9401.0</td>\n",
              "    </tr>\n",
              "    <tr>\n",
              "      <th>1992-05-01</th>\n",
              "      <td>9558.0</td>\n",
              "    </tr>\n",
              "  </tbody>\n",
              "</table>\n",
              "</div>\n",
              "    <div class=\"colab-df-buttons\">\n",
              "\n",
              "  <div class=\"colab-df-container\">\n",
              "    <button class=\"colab-df-convert\" onclick=\"convertToInteractive('df-4142b7e4-9a1c-40e1-ba14-6563499f4bc0')\"\n",
              "            title=\"Convert this dataframe to an interactive table.\"\n",
              "            style=\"display:none;\">\n",
              "\n",
              "  <svg xmlns=\"http://www.w3.org/2000/svg\" height=\"24px\" viewBox=\"0 -960 960 960\">\n",
              "    <path d=\"M120-120v-720h720v720H120Zm60-500h600v-160H180v160Zm220 220h160v-160H400v160Zm0 220h160v-160H400v160ZM180-400h160v-160H180v160Zm440 0h160v-160H620v160ZM180-180h160v-160H180v160Zm440 0h160v-160H620v160Z\"/>\n",
              "  </svg>\n",
              "    </button>\n",
              "\n",
              "  <style>\n",
              "    .colab-df-container {\n",
              "      display:flex;\n",
              "      gap: 12px;\n",
              "    }\n",
              "\n",
              "    .colab-df-convert {\n",
              "      background-color: #E8F0FE;\n",
              "      border: none;\n",
              "      border-radius: 50%;\n",
              "      cursor: pointer;\n",
              "      display: none;\n",
              "      fill: #1967D2;\n",
              "      height: 32px;\n",
              "      padding: 0 0 0 0;\n",
              "      width: 32px;\n",
              "    }\n",
              "\n",
              "    .colab-df-convert:hover {\n",
              "      background-color: #E2EBFA;\n",
              "      box-shadow: 0px 1px 2px rgba(60, 64, 67, 0.3), 0px 1px 3px 1px rgba(60, 64, 67, 0.15);\n",
              "      fill: #174EA6;\n",
              "    }\n",
              "\n",
              "    .colab-df-buttons div {\n",
              "      margin-bottom: 4px;\n",
              "    }\n",
              "\n",
              "    [theme=dark] .colab-df-convert {\n",
              "      background-color: #3B4455;\n",
              "      fill: #D2E3FC;\n",
              "    }\n",
              "\n",
              "    [theme=dark] .colab-df-convert:hover {\n",
              "      background-color: #434B5C;\n",
              "      box-shadow: 0px 1px 3px 1px rgba(0, 0, 0, 0.15);\n",
              "      filter: drop-shadow(0px 1px 2px rgba(0, 0, 0, 0.3));\n",
              "      fill: #FFFFFF;\n",
              "    }\n",
              "  </style>\n",
              "\n",
              "    <script>\n",
              "      const buttonEl =\n",
              "        document.querySelector('#df-4142b7e4-9a1c-40e1-ba14-6563499f4bc0 button.colab-df-convert');\n",
              "      buttonEl.style.display =\n",
              "        google.colab.kernel.accessAllowed ? 'block' : 'none';\n",
              "\n",
              "      async function convertToInteractive(key) {\n",
              "        const element = document.querySelector('#df-4142b7e4-9a1c-40e1-ba14-6563499f4bc0');\n",
              "        const dataTable =\n",
              "          await google.colab.kernel.invokeFunction('convertToInteractive',\n",
              "                                                    [key], {});\n",
              "        if (!dataTable) return;\n",
              "\n",
              "        const docLinkHtml = 'Like what you see? Visit the ' +\n",
              "          '<a target=\"_blank\" href=https://colab.research.google.com/notebooks/data_table.ipynb>data table notebook</a>'\n",
              "          + ' to learn more about interactive tables.';\n",
              "        element.innerHTML = '';\n",
              "        dataTable['output_type'] = 'display_data';\n",
              "        await google.colab.output.renderOutput(dataTable, element);\n",
              "        const docLink = document.createElement('div');\n",
              "        docLink.innerHTML = docLinkHtml;\n",
              "        element.appendChild(docLink);\n",
              "      }\n",
              "    </script>\n",
              "  </div>\n",
              "\n",
              "\n",
              "<div id=\"df-12552b42-ac11-44ae-bced-4add94febf8c\">\n",
              "  <button class=\"colab-df-quickchart\" onclick=\"quickchart('df-12552b42-ac11-44ae-bced-4add94febf8c')\"\n",
              "            title=\"Suggest charts\"\n",
              "            style=\"display:none;\">\n",
              "\n",
              "<svg xmlns=\"http://www.w3.org/2000/svg\" height=\"24px\"viewBox=\"0 0 24 24\"\n",
              "     width=\"24px\">\n",
              "    <g>\n",
              "        <path d=\"M19 3H5c-1.1 0-2 .9-2 2v14c0 1.1.9 2 2 2h14c1.1 0 2-.9 2-2V5c0-1.1-.9-2-2-2zM9 17H7v-7h2v7zm4 0h-2V7h2v10zm4 0h-2v-4h2v4z\"/>\n",
              "    </g>\n",
              "</svg>\n",
              "  </button>\n",
              "\n",
              "<style>\n",
              "  .colab-df-quickchart {\n",
              "      --bg-color: #E8F0FE;\n",
              "      --fill-color: #1967D2;\n",
              "      --hover-bg-color: #E2EBFA;\n",
              "      --hover-fill-color: #174EA6;\n",
              "      --disabled-fill-color: #AAA;\n",
              "      --disabled-bg-color: #DDD;\n",
              "  }\n",
              "\n",
              "  [theme=dark] .colab-df-quickchart {\n",
              "      --bg-color: #3B4455;\n",
              "      --fill-color: #D2E3FC;\n",
              "      --hover-bg-color: #434B5C;\n",
              "      --hover-fill-color: #FFFFFF;\n",
              "      --disabled-bg-color: #3B4455;\n",
              "      --disabled-fill-color: #666;\n",
              "  }\n",
              "\n",
              "  .colab-df-quickchart {\n",
              "    background-color: var(--bg-color);\n",
              "    border: none;\n",
              "    border-radius: 50%;\n",
              "    cursor: pointer;\n",
              "    display: none;\n",
              "    fill: var(--fill-color);\n",
              "    height: 32px;\n",
              "    padding: 0;\n",
              "    width: 32px;\n",
              "  }\n",
              "\n",
              "  .colab-df-quickchart:hover {\n",
              "    background-color: var(--hover-bg-color);\n",
              "    box-shadow: 0 1px 2px rgba(60, 64, 67, 0.3), 0 1px 3px 1px rgba(60, 64, 67, 0.15);\n",
              "    fill: var(--button-hover-fill-color);\n",
              "  }\n",
              "\n",
              "  .colab-df-quickchart-complete:disabled,\n",
              "  .colab-df-quickchart-complete:disabled:hover {\n",
              "    background-color: var(--disabled-bg-color);\n",
              "    fill: var(--disabled-fill-color);\n",
              "    box-shadow: none;\n",
              "  }\n",
              "\n",
              "  .colab-df-spinner {\n",
              "    border: 2px solid var(--fill-color);\n",
              "    border-color: transparent;\n",
              "    border-bottom-color: var(--fill-color);\n",
              "    animation:\n",
              "      spin 1s steps(1) infinite;\n",
              "  }\n",
              "\n",
              "  @keyframes spin {\n",
              "    0% {\n",
              "      border-color: transparent;\n",
              "      border-bottom-color: var(--fill-color);\n",
              "      border-left-color: var(--fill-color);\n",
              "    }\n",
              "    20% {\n",
              "      border-color: transparent;\n",
              "      border-left-color: var(--fill-color);\n",
              "      border-top-color: var(--fill-color);\n",
              "    }\n",
              "    30% {\n",
              "      border-color: transparent;\n",
              "      border-left-color: var(--fill-color);\n",
              "      border-top-color: var(--fill-color);\n",
              "      border-right-color: var(--fill-color);\n",
              "    }\n",
              "    40% {\n",
              "      border-color: transparent;\n",
              "      border-right-color: var(--fill-color);\n",
              "      border-top-color: var(--fill-color);\n",
              "    }\n",
              "    60% {\n",
              "      border-color: transparent;\n",
              "      border-right-color: var(--fill-color);\n",
              "    }\n",
              "    80% {\n",
              "      border-color: transparent;\n",
              "      border-right-color: var(--fill-color);\n",
              "      border-bottom-color: var(--fill-color);\n",
              "    }\n",
              "    90% {\n",
              "      border-color: transparent;\n",
              "      border-bottom-color: var(--fill-color);\n",
              "    }\n",
              "  }\n",
              "</style>\n",
              "\n",
              "  <script>\n",
              "    async function quickchart(key) {\n",
              "      const quickchartButtonEl =\n",
              "        document.querySelector('#' + key + ' button');\n",
              "      quickchartButtonEl.disabled = true;  // To prevent multiple clicks.\n",
              "      quickchartButtonEl.classList.add('colab-df-spinner');\n",
              "      try {\n",
              "        const charts = await google.colab.kernel.invokeFunction(\n",
              "            'suggestCharts', [key], {});\n",
              "      } catch (error) {\n",
              "        console.error('Error during call to suggestCharts:', error);\n",
              "      }\n",
              "      quickchartButtonEl.classList.remove('colab-df-spinner');\n",
              "      quickchartButtonEl.classList.add('colab-df-quickchart-complete');\n",
              "    }\n",
              "    (() => {\n",
              "      let quickchartButtonEl =\n",
              "        document.querySelector('#df-12552b42-ac11-44ae-bced-4add94febf8c button');\n",
              "      quickchartButtonEl.style.display =\n",
              "        google.colab.kernel.accessAllowed ? 'block' : 'none';\n",
              "    })();\n",
              "  </script>\n",
              "</div>\n",
              "    </div>\n",
              "  </div>\n"
            ],
            "application/vnd.google.colaboratory.intrinsic+json": {
              "type": "dataframe",
              "variable_name": "df",
              "summary": "{\n  \"name\": \"df\",\n  \"rows\": 386,\n  \"fields\": [\n    {\n      \"column\": \"DATE\",\n      \"properties\": {\n        \"dtype\": \"date\",\n        \"min\": \"1992-01-01 00:00:00\",\n        \"max\": \"2024-02-01 00:00:00\",\n        \"num_unique_values\": 386,\n        \"samples\": [\n          \"2020-01-01 00:00:00\",\n          \"2017-08-01 00:00:00\",\n          \"1999-07-01 00:00:00\"\n        ],\n        \"semantic_type\": \"\",\n        \"description\": \"\"\n      }\n    },\n    {\n      \"column\": \"Sales\",\n      \"properties\": {\n        \"dtype\": \"number\",\n        \"std\": 6075.312927137761,\n        \"min\": 2752.0,\n        \"max\": 41187.0,\n        \"num_unique_values\": 381,\n        \"samples\": [\n          19867.0,\n          19084.0,\n          20002.0\n        ],\n        \"semantic_type\": \"\",\n        \"description\": \"\"\n      }\n    }\n  ]\n}"
            }
          },
          "metadata": {},
          "execution_count": 59
        }
      ]
    },
    {
      "cell_type": "markdown",
      "metadata": {
        "id": "mcaD8pEsssHE"
      },
      "source": [
        "Plot your data - Year vs Sales"
      ]
    },
    {
      "cell_type": "code",
      "source": [
        "#Plot the data - Year vs Sales\n",
        "\n",
        "df.plot(figsize=(12,8))"
      ],
      "metadata": {
        "id": "lB7YY9ubmwOU",
        "outputId": "9b237147-b181-40a1-faa0-a7ac194d9037",
        "colab": {
          "base_uri": "https://localhost:8080/",
          "height": 713
        }
      },
      "execution_count": 60,
      "outputs": [
        {
          "output_type": "execute_result",
          "data": {
            "text/plain": [
              "<Axes: xlabel='DATE'>"
            ]
          },
          "metadata": {},
          "execution_count": 60
        },
        {
          "output_type": "display_data",
          "data": {
            "text/plain": [
              "<Figure size 1200x800 with 1 Axes>"
            ],
            "image/png": "[encoded data removed]"
          },
          "metadata": {}
        }
      ]
    },
    {
      "cell_type": "markdown",
      "source": [],
      "metadata": {
        "id": "yYEPcDjzbu4w"
      }
    },
    {
      "cell_type": "markdown",
      "metadata": {
        "id": "TYHObQ6lklBC"
      },
      "source": [
        "## Next we will do Train Test Split.\n",
        "\n",
        "We will use last 1.5 year (18 month) samples for testing. Rest is for training."
      ]
    },
    {
      "cell_type": "code",
      "execution_count": 61,
      "metadata": {
        "id": "PljjHLVKklBD"
      },
      "outputs": [],
      "source": [
        "# Assign variable test size = 18\n",
        "\n",
        "test_size = 18"
      ]
    },
    {
      "cell_type": "code",
      "source": [
        "# Store length of data in variable length.\n",
        "\n",
        "data_length = len(df)\n",
        "data_length"
      ],
      "metadata": {
        "id": "ryQhGofGoA4q",
        "outputId": "9960559b-4cdf-4b94-c8ce-7c6634a1159b",
        "colab": {
          "base_uri": "https://localhost:8080/"
        }
      },
      "execution_count": 62,
      "outputs": [
        {
          "output_type": "execute_result",
          "data": {
            "text/plain": [
              "386"
            ]
          },
          "metadata": {},
          "execution_count": 62
        }
      ]
    },
    {
      "cell_type": "code",
      "source": [
        "len(df)- 18"
      ],
      "metadata": {
        "id": "JWosw3MgoC3i",
        "outputId": "75833763-b433-4107-84a9-f4cb0fa82b9c",
        "colab": {
          "base_uri": "https://localhost:8080/"
        }
      },
      "execution_count": 63,
      "outputs": [
        {
          "output_type": "execute_result",
          "data": {
            "text/plain": [
              "368"
            ]
          },
          "metadata": {},
          "execution_count": 63
        }
      ]
    },
    {
      "cell_type": "code",
      "source": [
        "# store training size in varialable train_size\n",
        "# (Remember training size = total size - test_size)\n",
        "\n",
        "train_size = data_length- test_size\n",
        "train_size"
      ],
      "metadata": {
        "id": "vRoKVULpoPXo",
        "outputId": "c5ff6b44-a5e3-43fc-9a6b-16a10628769f",
        "colab": {
          "base_uri": "https://localhost:8080/"
        }
      },
      "execution_count": 65,
      "outputs": [
        {
          "output_type": "execute_result",
          "data": {
            "text/plain": [
              "368"
            ]
          },
          "metadata": {},
          "execution_count": 65
        }
      ]
    },
    {
      "cell_type": "code",
      "source": [
        "# find the indexes of the test data. Remember, these are the last 18 indexes in the pandas dataframe.\n",
        "\n",
        "test_index =  train_size"
      ],
      "metadata": {
        "id": "l2AEeRoRoV7Y"
      },
      "execution_count": 66,
      "outputs": []
    },
    {
      "cell_type": "markdown",
      "metadata": {
        "id": "AlCkBwGOvV5z"
      },
      "source": [
        "Now, we will find the indexes of the test data. Remember, these are the last 18 indexes in the pandas dataframe."
      ]
    },
    {
      "cell_type": "markdown",
      "metadata": {
        "id": "Zzf2MiW0wcIP"
      },
      "source": [
        "Next, we will separate train and test datasets."
      ]
    },
    {
      "cell_type": "code",
      "execution_count": 69,
      "metadata": {
        "id": "HyuEFcxoklBD",
        "outputId": "cdf843c2-364b-45e9-e6e0-fd2d8f2c24cf",
        "colab": {
          "base_uri": "https://localhost:8080/"
        }
      },
      "outputs": [
        {
          "output_type": "stream",
          "name": "stdout",
          "text": [
            "368\n",
            "18\n"
          ]
        }
      ],
      "source": [
        "# separate train and test datasets.\n",
        "\n",
        "train = df.iloc[:test_index]\n",
        "test = df.iloc[test_index:]\n",
        "\n",
        "# Print the size of the train data\n",
        "# Print the size of the test data\n",
        "\n",
        "print(train.size)\n",
        "print(test.size)"
      ]
    },
    {
      "cell_type": "code",
      "execution_count": 70,
      "metadata": {
        "id": "a9-JOcqTklBE",
        "outputId": "f598f070-aa76-4cd3-9a07-d48b5eec7886",
        "colab": {
          "base_uri": "https://localhost:8080/",
          "height": 455
        }
      },
      "outputs": [
        {
          "output_type": "execute_result",
          "data": {
            "text/plain": [
              "              Sales\n",
              "DATE               \n",
              "1992-01-01   6938.0\n",
              "1992-02-01   7524.0\n",
              "1992-03-01   8475.0\n",
              "1992-04-01   9401.0\n",
              "1992-05-01   9558.0\n",
              "...             ...\n",
              "2022-04-01  25539.0\n",
              "2022-05-01  26470.0\n",
              "2022-06-01  24701.0\n",
              "2022-07-01  24904.0\n",
              "2022-08-01  26049.0\n",
              "\n",
              "[368 rows x 1 columns]"
            ],
            "text/html": [
              "\n",
              "  <div id=\"df-46a3a11a-40d8-4db8-8999-533b123ae23b\" class=\"colab-df-container\">\n",
              "    <div>\n",
              "<style scoped>\n",
              "    .dataframe tbody tr th:only-of-type {\n",
              "        vertical-align: middle;\n",
              "    }\n",
              "\n",
              "    .dataframe tbody tr th {\n",
              "        vertical-align: top;\n",
              "    }\n",
              "\n",
              "    .dataframe thead th {\n",
              "        text-align: right;\n",
              "    }\n",
              "</style>\n",
              "<table border=\"1\" class=\"dataframe\">\n",
              "  <thead>\n",
              "    <tr style=\"text-align: right;\">\n",
              "      <th></th>\n",
              "      <th>Sales</th>\n",
              "    </tr>\n",
              "    <tr>\n",
              "      <th>DATE</th>\n",
              "      <th></th>\n",
              "    </tr>\n",
              "  </thead>\n",
              "  <tbody>\n",
              "    <tr>\n",
              "      <th>1992-01-01</th>\n",
              "      <td>6938.0</td>\n",
              "    </tr>\n",
              "    <tr>\n",
              "      <th>1992-02-01</th>\n",
              "      <td>7524.0</td>\n",
              "    </tr>\n",
              "    <tr>\n",
              "      <th>1992-03-01</th>\n",
              "      <td>8475.0</td>\n",
              "    </tr>\n",
              "    <tr>\n",
              "      <th>1992-04-01</th>\n",
              "      <td>9401.0</td>\n",
              "    </tr>\n",
              "    <tr>\n",
              "      <th>1992-05-01</th>\n",
              "      <td>9558.0</td>\n",
              "    </tr>\n",
              "    <tr>\n",
              "      <th>...</th>\n",
              "      <td>...</td>\n",
              "    </tr>\n",
              "    <tr>\n",
              "      <th>2022-04-01</th>\n",
              "      <td>25539.0</td>\n",
              "    </tr>\n",
              "    <tr>\n",
              "      <th>2022-05-01</th>\n",
              "      <td>26470.0</td>\n",
              "    </tr>\n",
              "    <tr>\n",
              "      <th>2022-06-01</th>\n",
              "      <td>24701.0</td>\n",
              "    </tr>\n",
              "    <tr>\n",
              "      <th>2022-07-01</th>\n",
              "      <td>24904.0</td>\n",
              "    </tr>\n",
              "    <tr>\n",
              "      <th>2022-08-01</th>\n",
              "      <td>26049.0</td>\n",
              "    </tr>\n",
              "  </tbody>\n",
              "</table>\n",
              "<p>368 rows × 1 columns</p>\n",
              "</div>\n",
              "    <div class=\"colab-df-buttons\">\n",
              "\n",
              "  <div class=\"colab-df-container\">\n",
              "    <button class=\"colab-df-convert\" onclick=\"convertToInteractive('df-46a3a11a-40d8-4db8-8999-533b123ae23b')\"\n",
              "            title=\"Convert this dataframe to an interactive table.\"\n",
              "            style=\"display:none;\">\n",
              "\n",
              "  <svg xmlns=\"http://www.w3.org/2000/svg\" height=\"24px\" viewBox=\"0 -960 960 960\">\n",
              "    <path d=\"M120-120v-720h720v720H120Zm60-500h600v-160H180v160Zm220 220h160v-160H400v160Zm0 220h160v-160H400v160ZM180-400h160v-160H180v160Zm440 0h160v-160H620v160ZM180-180h160v-160H180v160Zm440 0h160v-160H620v160Z\"/>\n",
              "  </svg>\n",
              "    </button>\n",
              "\n",
              "  <style>\n",
              "    .colab-df-container {\n",
              "      display:flex;\n",
              "      gap: 12px;\n",
              "    }\n",
              "\n",
              "    .colab-df-convert {\n",
              "      background-color: #E8F0FE;\n",
              "      border: none;\n",
              "      border-radius: 50%;\n",
              "      cursor: pointer;\n",
              "      display: none;\n",
              "      fill: #1967D2;\n",
              "      height: 32px;\n",
              "      padding: 0 0 0 0;\n",
              "      width: 32px;\n",
              "    }\n",
              "\n",
              "    .colab-df-convert:hover {\n",
              "      background-color: #E2EBFA;\n",
              "      box-shadow: 0px 1px 2px rgba(60, 64, 67, 0.3), 0px 1px 3px 1px rgba(60, 64, 67, 0.15);\n",
              "      fill: #174EA6;\n",
              "    }\n",
              "\n",
              "    .colab-df-buttons div {\n",
              "      margin-bottom: 4px;\n",
              "    }\n",
              "\n",
              "    [theme=dark] .colab-df-convert {\n",
              "      background-color: #3B4455;\n",
              "      fill: #D2E3FC;\n",
              "    }\n",
              "\n",
              "    [theme=dark] .colab-df-convert:hover {\n",
              "      background-color: #434B5C;\n",
              "      box-shadow: 0px 1px 3px 1px rgba(0, 0, 0, 0.15);\n",
              "      filter: drop-shadow(0px 1px 2px rgba(0, 0, 0, 0.3));\n",
              "      fill: #FFFFFF;\n",
              "    }\n",
              "  </style>\n",
              "\n",
              "    <script>\n",
              "      const buttonEl =\n",
              "        document.querySelector('#df-46a3a11a-40d8-4db8-8999-533b123ae23b button.colab-df-convert');\n",
              "      buttonEl.style.display =\n",
              "        google.colab.kernel.accessAllowed ? 'block' : 'none';\n",
              "\n",
              "      async function convertToInteractive(key) {\n",
              "        const element = document.querySelector('#df-46a3a11a-40d8-4db8-8999-533b123ae23b');\n",
              "        const dataTable =\n",
              "          await google.colab.kernel.invokeFunction('convertToInteractive',\n",
              "                                                    [key], {});\n",
              "        if (!dataTable) return;\n",
              "\n",
              "        const docLinkHtml = 'Like what you see? Visit the ' +\n",
              "          '<a target=\"_blank\" href=https://colab.research.google.com/notebooks/data_table.ipynb>data table notebook</a>'\n",
              "          + ' to learn more about interactive tables.';\n",
              "        element.innerHTML = '';\n",
              "        dataTable['output_type'] = 'display_data';\n",
              "        await google.colab.output.renderOutput(dataTable, element);\n",
              "        const docLink = document.createElement('div');\n",
              "        docLink.innerHTML = docLinkHtml;\n",
              "        element.appendChild(docLink);\n",
              "      }\n",
              "    </script>\n",
              "  </div>\n",
              "\n",
              "\n",
              "<div id=\"df-4e6c0552-fb4f-47d0-ba30-7bdf34de1500\">\n",
              "  <button class=\"colab-df-quickchart\" onclick=\"quickchart('df-4e6c0552-fb4f-47d0-ba30-7bdf34de1500')\"\n",
              "            title=\"Suggest charts\"\n",
              "            style=\"display:none;\">\n",
              "\n",
              "<svg xmlns=\"http://www.w3.org/2000/svg\" height=\"24px\"viewBox=\"0 0 24 24\"\n",
              "     width=\"24px\">\n",
              "    <g>\n",
              "        <path d=\"M19 3H5c-1.1 0-2 .9-2 2v14c0 1.1.9 2 2 2h14c1.1 0 2-.9 2-2V5c0-1.1-.9-2-2-2zM9 17H7v-7h2v7zm4 0h-2V7h2v10zm4 0h-2v-4h2v4z\"/>\n",
              "    </g>\n",
              "</svg>\n",
              "  </button>\n",
              "\n",
              "<style>\n",
              "  .colab-df-quickchart {\n",
              "      --bg-color: #E8F0FE;\n",
              "      --fill-color: #1967D2;\n",
              "      --hover-bg-color: #E2EBFA;\n",
              "      --hover-fill-color: #174EA6;\n",
              "      --disabled-fill-color: #AAA;\n",
              "      --disabled-bg-color: #DDD;\n",
              "  }\n",
              "\n",
              "  [theme=dark] .colab-df-quickchart {\n",
              "      --bg-color: #3B4455;\n",
              "      --fill-color: #D2E3FC;\n",
              "      --hover-bg-color: #434B5C;\n",
              "      --hover-fill-color: #FFFFFF;\n",
              "      --disabled-bg-color: #3B4455;\n",
              "      --disabled-fill-color: #666;\n",
              "  }\n",
              "\n",
              "  .colab-df-quickchart {\n",
              "    background-color: var(--bg-color);\n",
              "    border: none;\n",
              "    border-radius: 50%;\n",
              "    cursor: pointer;\n",
              "    display: none;\n",
              "    fill: var(--fill-color);\n",
              "    height: 32px;\n",
              "    padding: 0;\n",
              "    width: 32px;\n",
              "  }\n",
              "\n",
              "  .colab-df-quickchart:hover {\n",
              "    background-color: var(--hover-bg-color);\n",
              "    box-shadow: 0 1px 2px rgba(60, 64, 67, 0.3), 0 1px 3px 1px rgba(60, 64, 67, 0.15);\n",
              "    fill: var(--button-hover-fill-color);\n",
              "  }\n",
              "\n",
              "  .colab-df-quickchart-complete:disabled,\n",
              "  .colab-df-quickchart-complete:disabled:hover {\n",
              "    background-color: var(--disabled-bg-color);\n",
              "    fill: var(--disabled-fill-color);\n",
              "    box-shadow: none;\n",
              "  }\n",
              "\n",
              "  .colab-df-spinner {\n",
              "    border: 2px solid var(--fill-color);\n",
              "    border-color: transparent;\n",
              "    border-bottom-color: var(--fill-color);\n",
              "    animation:\n",
              "      spin 1s steps(1) infinite;\n",
              "  }\n",
              "\n",
              "  @keyframes spin {\n",
              "    0% {\n",
              "      border-color: transparent;\n",
              "      border-bottom-color: var(--fill-color);\n",
              "      border-left-color: var(--fill-color);\n",
              "    }\n",
              "    20% {\n",
              "      border-color: transparent;\n",
              "      border-left-color: var(--fill-color);\n",
              "      border-top-color: var(--fill-color);\n",
              "    }\n",
              "    30% {\n",
              "      border-color: transparent;\n",
              "      border-left-color: var(--fill-color);\n",
              "      border-top-color: var(--fill-color);\n",
              "      border-right-color: var(--fill-color);\n",
              "    }\n",
              "    40% {\n",
              "      border-color: transparent;\n",
              "      border-right-color: var(--fill-color);\n",
              "      border-top-color: var(--fill-color);\n",
              "    }\n",
              "    60% {\n",
              "      border-color: transparent;\n",
              "      border-right-color: var(--fill-color);\n",
              "    }\n",
              "    80% {\n",
              "      border-color: transparent;\n",
              "      border-right-color: var(--fill-color);\n",
              "      border-bottom-color: var(--fill-color);\n",
              "    }\n",
              "    90% {\n",
              "      border-color: transparent;\n",
              "      border-bottom-color: var(--fill-color);\n",
              "    }\n",
              "  }\n",
              "</style>\n",
              "\n",
              "  <script>\n",
              "    async function quickchart(key) {\n",
              "      const quickchartButtonEl =\n",
              "        document.querySelector('#' + key + ' button');\n",
              "      quickchartButtonEl.disabled = true;  // To prevent multiple clicks.\n",
              "      quickchartButtonEl.classList.add('colab-df-spinner');\n",
              "      try {\n",
              "        const charts = await google.colab.kernel.invokeFunction(\n",
              "            'suggestCharts', [key], {});\n",
              "      } catch (error) {\n",
              "        console.error('Error during call to suggestCharts:', error);\n",
              "      }\n",
              "      quickchartButtonEl.classList.remove('colab-df-spinner');\n",
              "      quickchartButtonEl.classList.add('colab-df-quickchart-complete');\n",
              "    }\n",
              "    (() => {\n",
              "      let quickchartButtonEl =\n",
              "        document.querySelector('#df-4e6c0552-fb4f-47d0-ba30-7bdf34de1500 button');\n",
              "      quickchartButtonEl.style.display =\n",
              "        google.colab.kernel.accessAllowed ? 'block' : 'none';\n",
              "    })();\n",
              "  </script>\n",
              "</div>\n",
              "    </div>\n",
              "  </div>\n"
            ],
            "application/vnd.google.colaboratory.intrinsic+json": {
              "type": "dataframe",
              "variable_name": "train",
              "summary": "{\n  \"name\": \"train\",\n  \"rows\": 368,\n  \"fields\": [\n    {\n      \"column\": \"DATE\",\n      \"properties\": {\n        \"dtype\": \"date\",\n        \"min\": \"1992-01-01 00:00:00\",\n        \"max\": \"2022-08-01 00:00:00\",\n        \"num_unique_values\": 368,\n        \"samples\": [\n          \"2005-10-01 00:00:00\",\n          \"1994-10-01 00:00:00\",\n          \"1993-04-01 00:00:00\"\n        ],\n        \"semantic_type\": \"\",\n        \"description\": \"\"\n      }\n    },\n    {\n      \"column\": \"Sales\",\n      \"properties\": {\n        \"dtype\": \"number\",\n        \"std\": 5749.202403641762,\n        \"min\": 2752.0,\n        \"max\": 38564.0,\n        \"num_unique_values\": 363,\n        \"samples\": [\n          18402.0,\n          12354.0,\n          10063.0\n        ],\n        \"semantic_type\": \"\",\n        \"description\": \"\"\n      }\n    }\n  ]\n}"
            }
          },
          "metadata": {},
          "execution_count": 70
        }
      ],
      "source": [
        "# Print the train data\n",
        "\n",
        "train"
      ]
    },
    {
      "cell_type": "code",
      "source": [
        "# Print the test data\n",
        "\n",
        "test"
      ],
      "metadata": {
        "id": "olYIMVK-oiGG",
        "outputId": "dc358f6d-3cd8-46d2-f44d-e1cbb3590920",
        "colab": {
          "base_uri": "https://localhost:8080/",
          "height": 645
        }
      },
      "execution_count": 72,
      "outputs": [
        {
          "output_type": "execute_result",
          "data": {
            "text/plain": [
              "              Sales\n",
              "DATE               \n",
              "2022-09-01  23629.0\n",
              "2022-10-01  24787.0\n",
              "2022-11-01  28645.0\n",
              "2022-12-01  39883.0\n",
              "2023-01-01  19405.0\n",
              "2023-02-01  20937.0\n",
              "2023-03-01  24963.0\n",
              "2023-04-01  24700.0\n",
              "2023-05-01  26557.0\n",
              "2023-06-01  24809.0\n",
              "2023-07-01  25364.0\n",
              "2023-08-01  27143.0\n",
              "2023-09-01  23840.0\n",
              "2023-10-01  24438.0\n",
              "2023-11-01  29150.0\n",
              "2023-12-01  41187.0\n",
              "2024-01-01  19420.0\n",
              "2024-02-01  21909.0"
            ],
            "text/html": [
              "\n",
              "  <div id=\"df-62b9a42c-0006-4d32-a7f5-106ed96b3a62\" class=\"colab-df-container\">\n",
              "    <div>\n",
              "<style scoped>\n",
              "    .dataframe tbody tr th:only-of-type {\n",
              "        vertical-align: middle;\n",
              "    }\n",
              "\n",
              "    .dataframe tbody tr th {\n",
              "        vertical-align: top;\n",
              "    }\n",
              "\n",
              "    .dataframe thead th {\n",
              "        text-align: right;\n",
              "    }\n",
              "</style>\n",
              "<table border=\"1\" class=\"dataframe\">\n",
              "  <thead>\n",
              "    <tr style=\"text-align: right;\">\n",
              "      <th></th>\n",
              "      <th>Sales</th>\n",
              "    </tr>\n",
              "    <tr>\n",
              "      <th>DATE</th>\n",
              "      <th></th>\n",
              "    </tr>\n",
              "  </thead>\n",
              "  <tbody>\n",
              "    <tr>\n",
              "      <th>2022-09-01</th>\n",
              "      <td>23629.0</td>\n",
              "    </tr>\n",
              "    <tr>\n",
              "      <th>2022-10-01</th>\n",
              "      <td>24787.0</td>\n",
              "    </tr>\n",
              "    <tr>\n",
              "      <th>2022-11-01</th>\n",
              "      <td>28645.0</td>\n",
              "    </tr>\n",
              "    <tr>\n",
              "      <th>2022-12-01</th>\n",
              "      <td>39883.0</td>\n",
              "    </tr>\n",
              "    <tr>\n",
              "      <th>2023-01-01</th>\n",
              "      <td>19405.0</td>\n",
              "    </tr>\n",
              "    <tr>\n",
              "      <th>2023-02-01</th>\n",
              "      <td>20937.0</td>\n",
              "    </tr>\n",
              "    <tr>\n",
              "      <th>2023-03-01</th>\n",
              "      <td>24963.0</td>\n",
              "    </tr>\n",
              "    <tr>\n",
              "      <th>2023-04-01</th>\n",
              "      <td>24700.0</td>\n",
              "    </tr>\n",
              "    <tr>\n",
              "      <th>2023-05-01</th>\n",
              "      <td>26557.0</td>\n",
              "    </tr>\n",
              "    <tr>\n",
              "      <th>2023-06-01</th>\n",
              "      <td>24809.0</td>\n",
              "    </tr>\n",
              "    <tr>\n",
              "      <th>2023-07-01</th>\n",
              "      <td>25364.0</td>\n",
              "    </tr>\n",
              "    <tr>\n",
              "      <th>2023-08-01</th>\n",
              "      <td>27143.0</td>\n",
              "    </tr>\n",
              "    <tr>\n",
              "      <th>2023-09-01</th>\n",
              "      <td>23840.0</td>\n",
              "    </tr>\n",
              "    <tr>\n",
              "      <th>2023-10-01</th>\n",
              "      <td>24438.0</td>\n",
              "    </tr>\n",
              "    <tr>\n",
              "      <th>2023-11-01</th>\n",
              "      <td>29150.0</td>\n",
              "    </tr>\n",
              "    <tr>\n",
              "      <th>2023-12-01</th>\n",
              "      <td>41187.0</td>\n",
              "    </tr>\n",
              "    <tr>\n",
              "      <th>2024-01-01</th>\n",
              "      <td>19420.0</td>\n",
              "    </tr>\n",
              "    <tr>\n",
              "      <th>2024-02-01</th>\n",
              "      <td>21909.0</td>\n",
              "    </tr>\n",
              "  </tbody>\n",
              "</table>\n",
              "</div>\n",
              "    <div class=\"colab-df-buttons\">\n",
              "\n",
              "  <div class=\"colab-df-container\">\n",
              "    <button class=\"colab-df-convert\" onclick=\"convertToInteractive('df-62b9a42c-0006-4d32-a7f5-106ed96b3a62')\"\n",
              "            title=\"Convert this dataframe to an interactive table.\"\n",
              "            style=\"display:none;\">\n",
              "\n",
              "  <svg xmlns=\"http://www.w3.org/2000/svg\" height=\"24px\" viewBox=\"0 -960 960 960\">\n",
              "    <path d=\"M120-120v-720h720v720H120Zm60-500h600v-160H180v160Zm220 220h160v-160H400v160Zm0 220h160v-160H400v160ZM180-400h160v-160H180v160Zm440 0h160v-160H620v160ZM180-180h160v-160H180v160Zm440 0h160v-160H620v160Z\"/>\n",
              "  </svg>\n",
              "    </button>\n",
              "\n",
              "  <style>\n",
              "    .colab-df-container {\n",
              "      display:flex;\n",
              "      gap: 12px;\n",
              "    }\n",
              "\n",
              "    .colab-df-convert {\n",
              "      background-color: #E8F0FE;\n",
              "      border: none;\n",
              "      border-radius: 50%;\n",
              "      cursor: pointer;\n",
              "      display: none;\n",
              "      fill: #1967D2;\n",
              "      height: 32px;\n",
              "      padding: 0 0 0 0;\n",
              "      width: 32px;\n",
              "    }\n",
              "\n",
              "    .colab-df-convert:hover {\n",
              "      background-color: #E2EBFA;\n",
              "      box-shadow: 0px 1px 2px rgba(60, 64, 67, 0.3), 0px 1px 3px 1px rgba(60, 64, 67, 0.15);\n",
              "      fill: #174EA6;\n",
              "    }\n",
              "\n",
              "    .colab-df-buttons div {\n",
              "      margin-bottom: 4px;\n",
              "    }\n",
              "\n",
              "    [theme=dark] .colab-df-convert {\n",
              "      background-color: #3B4455;\n",
              "      fill: #D2E3FC;\n",
              "    }\n",
              "\n",
              "    [theme=dark] .colab-df-convert:hover {\n",
              "      background-color: #434B5C;\n",
              "      box-shadow: 0px 1px 3px 1px rgba(0, 0, 0, 0.15);\n",
              "      filter: drop-shadow(0px 1px 2px rgba(0, 0, 0, 0.3));\n",
              "      fill: #FFFFFF;\n",
              "    }\n",
              "  </style>\n",
              "\n",
              "    <script>\n",
              "      const buttonEl =\n",
              "        document.querySelector('#df-62b9a42c-0006-4d32-a7f5-106ed96b3a62 button.colab-df-convert');\n",
              "      buttonEl.style.display =\n",
              "        google.colab.kernel.accessAllowed ? 'block' : 'none';\n",
              "\n",
              "      async function convertToInteractive(key) {\n",
              "        const element = document.querySelector('#df-62b9a42c-0006-4d32-a7f5-106ed96b3a62');\n",
              "        const dataTable =\n",
              "          await google.colab.kernel.invokeFunction('convertToInteractive',\n",
              "                                                    [key], {});\n",
              "        if (!dataTable) return;\n",
              "\n",
              "        const docLinkHtml = 'Like what you see? Visit the ' +\n",
              "          '<a target=\"_blank\" href=https://colab.research.google.com/notebooks/data_table.ipynb>data table notebook</a>'\n",
              "          + ' to learn more about interactive tables.';\n",
              "        element.innerHTML = '';\n",
              "        dataTable['output_type'] = 'display_data';\n",
              "        await google.colab.output.renderOutput(dataTable, element);\n",
              "        const docLink = document.createElement('div');\n",
              "        docLink.innerHTML = docLinkHtml;\n",
              "        element.appendChild(docLink);\n",
              "      }\n",
              "    </script>\n",
              "  </div>\n",
              "\n",
              "\n",
              "<div id=\"df-c730029a-3851-4d1e-9bcf-24901a795f95\">\n",
              "  <button class=\"colab-df-quickchart\" onclick=\"quickchart('df-c730029a-3851-4d1e-9bcf-24901a795f95')\"\n",
              "            title=\"Suggest charts\"\n",
              "            style=\"display:none;\">\n",
              "\n",
              "<svg xmlns=\"http://www.w3.org/2000/svg\" height=\"24px\"viewBox=\"0 0 24 24\"\n",
              "     width=\"24px\">\n",
              "    <g>\n",
              "        <path d=\"M19 3H5c-1.1 0-2 .9-2 2v14c0 1.1.9 2 2 2h14c1.1 0 2-.9 2-2V5c0-1.1-.9-2-2-2zM9 17H7v-7h2v7zm4 0h-2V7h2v10zm4 0h-2v-4h2v4z\"/>\n",
              "    </g>\n",
              "</svg>\n",
              "  </button>\n",
              "\n",
              "<style>\n",
              "  .colab-df-quickchart {\n",
              "      --bg-color: #E8F0FE;\n",
              "      --fill-color: #1967D2;\n",
              "      --hover-bg-color: #E2EBFA;\n",
              "      --hover-fill-color: #174EA6;\n",
              "      --disabled-fill-color: #AAA;\n",
              "      --disabled-bg-color: #DDD;\n",
              "  }\n",
              "\n",
              "  [theme=dark] .colab-df-quickchart {\n",
              "      --bg-color: #3B4455;\n",
              "      --fill-color: #D2E3FC;\n",
              "      --hover-bg-color: #434B5C;\n",
              "      --hover-fill-color: #FFFFFF;\n",
              "      --disabled-bg-color: #3B4455;\n",
              "      --disabled-fill-color: #666;\n",
              "  }\n",
              "\n",
              "  .colab-df-quickchart {\n",
              "    background-color: var(--bg-color);\n",
              "    border: none;\n",
              "    border-radius: 50%;\n",
              "    cursor: pointer;\n",
              "    display: none;\n",
              "    fill: var(--fill-color);\n",
              "    height: 32px;\n",
              "    padding: 0;\n",
              "    width: 32px;\n",
              "  }\n",
              "\n",
              "  .colab-df-quickchart:hover {\n",
              "    background-color: var(--hover-bg-color);\n",
              "    box-shadow: 0 1px 2px rgba(60, 64, 67, 0.3), 0 1px 3px 1px rgba(60, 64, 67, 0.15);\n",
              "    fill: var(--button-hover-fill-color);\n",
              "  }\n",
              "\n",
              "  .colab-df-quickchart-complete:disabled,\n",
              "  .colab-df-quickchart-complete:disabled:hover {\n",
              "    background-color: var(--disabled-bg-color);\n",
              "    fill: var(--disabled-fill-color);\n",
              "    box-shadow: none;\n",
              "  }\n",
              "\n",
              "  .colab-df-spinner {\n",
              "    border: 2px solid var(--fill-color);\n",
              "    border-color: transparent;\n",
              "    border-bottom-color: var(--fill-color);\n",
              "    animation:\n",
              "      spin 1s steps(1) infinite;\n",
              "  }\n",
              "\n",
              "  @keyframes spin {\n",
              "    0% {\n",
              "      border-color: transparent;\n",
              "      border-bottom-color: var(--fill-color);\n",
              "      border-left-color: var(--fill-color);\n",
              "    }\n",
              "    20% {\n",
              "      border-color: transparent;\n",
              "      border-left-color: var(--fill-color);\n",
              "      border-top-color: var(--fill-color);\n",
              "    }\n",
              "    30% {\n",
              "      border-color: transparent;\n",
              "      border-left-color: var(--fill-color);\n",
              "      border-top-color: var(--fill-color);\n",
              "      border-right-color: var(--fill-color);\n",
              "    }\n",
              "    40% {\n",
              "      border-color: transparent;\n",
              "      border-right-color: var(--fill-color);\n",
              "      border-top-color: var(--fill-color);\n",
              "    }\n",
              "    60% {\n",
              "      border-color: transparent;\n",
              "      border-right-color: var(--fill-color);\n",
              "    }\n",
              "    80% {\n",
              "      border-color: transparent;\n",
              "      border-right-color: var(--fill-color);\n",
              "      border-bottom-color: var(--fill-color);\n",
              "    }\n",
              "    90% {\n",
              "      border-color: transparent;\n",
              "      border-bottom-color: var(--fill-color);\n",
              "    }\n",
              "  }\n",
              "</style>\n",
              "\n",
              "  <script>\n",
              "    async function quickchart(key) {\n",
              "      const quickchartButtonEl =\n",
              "        document.querySelector('#' + key + ' button');\n",
              "      quickchartButtonEl.disabled = true;  // To prevent multiple clicks.\n",
              "      quickchartButtonEl.classList.add('colab-df-spinner');\n",
              "      try {\n",
              "        const charts = await google.colab.kernel.invokeFunction(\n",
              "            'suggestCharts', [key], {});\n",
              "      } catch (error) {\n",
              "        console.error('Error during call to suggestCharts:', error);\n",
              "      }\n",
              "      quickchartButtonEl.classList.remove('colab-df-spinner');\n",
              "      quickchartButtonEl.classList.add('colab-df-quickchart-complete');\n",
              "    }\n",
              "    (() => {\n",
              "      let quickchartButtonEl =\n",
              "        document.querySelector('#df-c730029a-3851-4d1e-9bcf-24901a795f95 button');\n",
              "      quickchartButtonEl.style.display =\n",
              "        google.colab.kernel.accessAllowed ? 'block' : 'none';\n",
              "    })();\n",
              "  </script>\n",
              "</div>\n",
              "    </div>\n",
              "  </div>\n"
            ],
            "application/vnd.google.colaboratory.intrinsic+json": {
              "type": "dataframe",
              "variable_name": "test",
              "summary": "{\n  \"name\": \"test\",\n  \"rows\": 18,\n  \"fields\": [\n    {\n      \"column\": \"DATE\",\n      \"properties\": {\n        \"dtype\": \"date\",\n        \"min\": \"2022-09-01 00:00:00\",\n        \"max\": \"2024-02-01 00:00:00\",\n        \"num_unique_values\": 18,\n        \"samples\": [\n          \"2022-09-01 00:00:00\",\n          \"2022-10-01 00:00:00\",\n          \"2023-05-01 00:00:00\"\n        ],\n        \"semantic_type\": \"\",\n        \"description\": \"\"\n      }\n    },\n    {\n      \"column\": \"Sales\",\n      \"properties\": {\n        \"dtype\": \"number\",\n        \"std\": 5888.37495808978,\n        \"min\": 19405.0,\n        \"max\": 41187.0,\n        \"num_unique_values\": 18,\n        \"samples\": [\n          23629.0,\n          24787.0,\n          26557.0\n        ],\n        \"semantic_type\": \"\",\n        \"description\": \"\"\n      }\n    }\n  ]\n}"
            }
          },
          "metadata": {},
          "execution_count": 72
        }
      ]
    },
    {
      "cell_type": "markdown",
      "metadata": {
        "id": "YnHYQqjTklBE"
      },
      "source": [
        "## In Neural Networks, we need to Scale Data between 0-1\n",
        "\n",
        "*   List item\n",
        "*   List item\n",
        "\n"
      ]
    },
    {
      "cell_type": "code",
      "execution_count": 73,
      "metadata": {
        "id": "TlhbNUf6klBE"
      },
      "outputs": [],
      "source": [
        "from sklearn.preprocessing import MinMaxScaler"
      ]
    },
    {
      "cell_type": "code",
      "execution_count": 74,
      "metadata": {
        "id": "-yAHwjS3klBE",
        "outputId": "c8f67fba-1036-47b7-ec39-e55a70f7aeaa",
        "colab": {
          "base_uri": "https://localhost:8080/",
          "height": 74
        }
      },
      "outputs": [
        {
          "output_type": "execute_result",
          "data": {
            "text/plain": [
              "MinMaxScaler()"
            ],
            "text/html": [
              "<style>#sk-container-id-1 {color: black;background-color: white;}#sk-container-id-1 pre{padding: 0;}#sk-container-id-1 div.sk-toggleable {background-color: white;}#sk-container-id-1 label.sk-toggleable__label {cursor: pointer;display: block;width: 100%;margin-bottom: 0;padding: 0.3em;box-sizing: border-box;text-align: center;}#sk-container-id-1 label.sk-toggleable__label-arrow:before {content: \"▸\";float: left;margin-right: 0.25em;color: #696969;}#sk-container-id-1 label.sk-toggleable__label-arrow:hover:before {color: black;}#sk-container-id-1 div.sk-estimator:hover label.sk-toggleable__label-arrow:before {color: black;}#sk-container-id-1 div.sk-toggleable__content {max-height: 0;max-width: 0;overflow: hidden;text-align: left;background-color: #f0f8ff;}#sk-container-id-1 div.sk-toggleable__content pre {margin: 0.2em;color: black;border-radius: 0.25em;background-color: #f0f8ff;}#sk-container-id-1 input.sk-toggleable__control:checked~div.sk-toggleable__content {max-height: 200px;max-width: 100%;overflow: auto;}#sk-container-id-1 input.sk-toggleable__control:checked~label.sk-toggleable__label-arrow:before {content: \"▾\";}#sk-container-id-1 div.sk-estimator input.sk-toggleable__control:checked~label.sk-toggleable__label {background-color: #d4ebff;}#sk-container-id-1 div.sk-label input.sk-toggleable__control:checked~label.sk-toggleable__label {background-color: #d4ebff;}#sk-container-id-1 input.sk-hidden--visually {border: 0;clip: rect(1px 1px 1px 1px);clip: rect(1px, 1px, 1px, 1px);height: 1px;margin: -1px;overflow: hidden;padding: 0;position: absolute;width: 1px;}#sk-container-id-1 div.sk-estimator {font-family: monospace;background-color: #f0f8ff;border: 1px dotted black;border-radius: 0.25em;box-sizing: border-box;margin-bottom: 0.5em;}#sk-container-id-1 div.sk-estimator:hover {background-color: #d4ebff;}#sk-container-id-1 div.sk-parallel-item::after {content: \"\";width: 100%;border-bottom: 1px solid gray;flex-grow: 1;}#sk-container-id-1 div.sk-label:hover label.sk-toggleable__label {background-color: #d4ebff;}#sk-container-id-1 div.sk-serial::before {content: \"\";position: absolute;border-left: 1px solid gray;box-sizing: border-box;top: 0;bottom: 0;left: 50%;z-index: 0;}#sk-container-id-1 div.sk-serial {display: flex;flex-direction: column;align-items: center;background-color: white;padding-right: 0.2em;padding-left: 0.2em;position: relative;}#sk-container-id-1 div.sk-item {position: relative;z-index: 1;}#sk-container-id-1 div.sk-parallel {display: flex;align-items: stretch;justify-content: center;background-color: white;position: relative;}#sk-container-id-1 div.sk-item::before, #sk-container-id-1 div.sk-parallel-item::before {content: \"\";position: absolute;border-left: 1px solid gray;box-sizing: border-box;top: 0;bottom: 0;left: 50%;z-index: -1;}#sk-container-id-1 div.sk-parallel-item {display: flex;flex-direction: column;z-index: 1;position: relative;background-color: white;}#sk-container-id-1 div.sk-parallel-item:first-child::after {align-self: flex-end;width: 50%;}#sk-container-id-1 div.sk-parallel-item:last-child::after {align-self: flex-start;width: 50%;}#sk-container-id-1 div.sk-parallel-item:only-child::after {width: 0;}#sk-container-id-1 div.sk-dashed-wrapped {border: 1px dashed gray;margin: 0 0.4em 0.5em 0.4em;box-sizing: border-box;padding-bottom: 0.4em;background-color: white;}#sk-container-id-1 div.sk-label label {font-family: monospace;font-weight: bold;display: inline-block;line-height: 1.2em;}#sk-container-id-1 div.sk-label-container {text-align: center;}#sk-container-id-1 div.sk-container {/* jupyter's `normalize.less` sets `[hidden] { display: none; }` but bootstrap.min.css set `[hidden] { display: none !important; }` so we also need the `!important` here to be able to override the default hidden behavior on the sphinx rendered scikit-learn.org. See: https://github.com/scikit-learn/scikit-learn/issues/21755 */display: inline-block !important;position: relative;}#sk-container-id-1 div.sk-text-repr-fallback {display: none;}</style><div id=\"sk-container-id-1\" class=\"sk-top-container\"><div class=\"sk-text-repr-fallback\"><pre>MinMaxScaler()</pre><b>In a Jupyter environment, please rerun this cell to show the HTML representation or trust the notebook. <br />On GitHub, the HTML representation is unable to render, please try loading this page with nbviewer.org.</b></div><div class=\"sk-container\" hidden><div class=\"sk-item\"><div class=\"sk-estimator sk-toggleable\"><input class=\"sk-toggleable__control sk-hidden--visually\" id=\"sk-estimator-id-1\" type=\"checkbox\" checked><label for=\"sk-estimator-id-1\" class=\"sk-toggleable__label sk-toggleable__label-arrow\">MinMaxScaler</label><div class=\"sk-toggleable__content\"><pre>MinMaxScaler()</pre></div></div></div></div></div>"
            ]
          },
          "metadata": {},
          "execution_count": 74
        }
      ],
      "source": [
        "scaler = MinMaxScaler()\n",
        "scaler.fit(train)"
      ]
    },
    {
      "cell_type": "code",
      "source": [
        "scaled_train = scaler.transform(train)\n",
        "scaled_test = scaler.transform(test)"
      ],
      "metadata": {
        "id": "n2jtJD4nowDp"
      },
      "execution_count": 75,
      "outputs": []
    },
    {
      "cell_type": "code",
      "execution_count": 76,
      "metadata": {
        "id": "Hr7DoWM2klBE",
        "outputId": "87308426-7b8b-4de2-d3b3-22abd7193386",
        "colab": {
          "base_uri": "https://localhost:8080/"
        }
      },
      "outputs": [
        {
          "output_type": "stream",
          "name": "stdout",
          "text": [
            "Min and Max values of Scaled Train Data:\n",
            "Min: [0.]\n",
            "Max: [1.]\n",
            "\n",
            "Min and Max values of Scaled Test Data:\n",
            "Min: [0.46501173]\n",
            "Max: [1.07324361]\n"
          ]
        }
      ],
      "source": [
        "#\n",
        "# Check if the data has been scaled properly\n",
        "#\n",
        "\n",
        "# Print the minimum and maximum values of the scaled train and test data\n",
        "print(\"Min and Max values of Scaled Train Data:\")\n",
        "print(\"Min:\", scaled_train.min(axis=0))\n",
        "print(\"Max:\", scaled_train.max(axis=0))\n",
        "\n",
        "print(\"\\nMin and Max values of Scaled Test Data:\")\n",
        "print(\"Min:\", scaled_test.min(axis=0))\n",
        "print(\"Max:\", scaled_test.max(axis=0))"
      ]
    },
    {
      "cell_type": "code",
      "execution_count": null,
      "metadata": {
        "id": "nkRDFTCnklBE"
      },
      "outputs": [],
      "source": []
    },
    {
      "cell_type": "markdown",
      "metadata": {
        "id": "TzvXEF_8klBE"
      },
      "source": [
        "# Time Series Generator\n",
        "\n",
        "This class takes in a sequence of data-points gathered at\n",
        "equal intervals, along with time series parameters such as\n",
        "stride, length of history, etc., to produce batches for\n",
        "training/validation.\n",
        "\n",
        "#### Arguments\n",
        "    data: Indexable generator (such as list or Numpy array)\n",
        "        containing consecutive data points (timesteps).\n",
        "        The data should be at 2D, and axis 0 is expected\n",
        "        to be the time dimension.\n",
        "    targets: Targets corresponding to timesteps in `data`.\n",
        "        It should have same length as `data`.\n",
        "    length: Length of the output sequences (in number of timesteps).\n",
        "    sampling_rate: Period between successive individual timesteps\n",
        "        within sequences. For rate `r`, timesteps\n",
        "        `data[i]`, `data[i-r]`, ... `data[i - length]`\n",
        "        are used for create a sample sequence.\n",
        "    stride: Period between successive output sequences.\n",
        "        For stride `s`, consecutive output samples would\n",
        "        be centered around `data[i]`, `data[i+s]`, `data[i+2*s]`, etc.\n",
        "    start_index: Data points earlier than `start_index` will not be used\n",
        "        in the output sequences. This is useful to reserve part of the\n",
        "        data for test or validation.\n",
        "    end_index: Data points later than `end_index` will not be used\n",
        "        in the output sequences. This is useful to reserve part of the\n",
        "        data for test or validation.\n",
        "    shuffle: Whether to shuffle output samples,\n",
        "        or instead draw them in chronological order.\n",
        "    reverse: Boolean: if `true`, timesteps in each output sample will be\n",
        "        in reverse chronological order.\n",
        "    batch_size: Number of timeseries samples in each batch\n",
        "        (except maybe the last one)."
      ]
    },
    {
      "cell_type": "markdown",
      "metadata": {
        "id": "7Ww3rFMDyeU6"
      },
      "source": [
        "# We will use 12 months as input and then predict the next month out\n"
      ]
    },
    {
      "cell_type": "code",
      "execution_count": 77,
      "metadata": {
        "id": "YWGudaCKklBF"
      },
      "outputs": [],
      "source": [
        "from tensorflow.keras.preprocessing.sequence import TimeseriesGenerator\n",
        "\n",
        "length = 12\n",
        "generator = TimeseriesGenerator(scaled_train, scaled_train, length=length, batch_size=1)"
      ]
    },
    {
      "cell_type": "code",
      "execution_count": 78,
      "metadata": {
        "id": "IFkYAa_ZklBF",
        "outputId": "6e768ef1-ef03-49f8-d2b0-78c558bee5e4",
        "colab": {
          "base_uri": "https://localhost:8080/"
        }
      },
      "outputs": [
        {
          "output_type": "stream",
          "name": "stdout",
          "text": [
            "Given the Array: \n",
            "[0.11688819 0.13325142 0.15980677 0.18566402 0.19004803 0.17954875\n",
            " 0.17734279 0.21671507 0.19046688 0.20948285 0.23553557 0.43680889]\n",
            "Predict this y: \n",
            " [[0.1326371]]\n"
          ]
        }
      ],
      "source": [
        "X, y = generator[0]\n",
        "\n",
        "print(f'Given the Array: \\n{X.flatten()}')\n",
        "print(f'Predict this y: \\n {y}')"
      ]
    },
    {
      "cell_type": "markdown",
      "metadata": {
        "id": "i2JNn76vklBF"
      },
      "source": [
        "### Create the Model"
      ]
    },
    {
      "cell_type": "code",
      "execution_count": 79,
      "metadata": {
        "id": "B8EKHpwsklBF"
      },
      "outputs": [],
      "source": [
        "from tensorflow.keras.models import Sequential\n",
        "from tensorflow.keras.layers import Dense\n",
        "from tensorflow.keras.layers import LSTM\n",
        "import tensorflow as tf"
      ]
    },
    {
      "cell_type": "code",
      "execution_count": 80,
      "metadata": {
        "id": "4_e-ciXHklBF"
      },
      "outputs": [],
      "source": [
        "# We're only using one feature in our time series\n",
        "n_features = 1"
      ]
    },
    {
      "cell_type": "markdown",
      "metadata": {
        "id": "ZlstmafY1SJC"
      },
      "source": [
        "# Define your own models.\n",
        "\n",
        "Use 1. SimpleRNN, LSTM, or GRU neural network.\n",
        "\n",
        "APIs:\n",
        "https://keras.io/api/layers/recurrent_layers/"
      ]
    },
    {
      "cell_type": "code",
      "execution_count": 81,
      "metadata": {
        "id": "97CMSHdnklBF",
        "outputId": "bac654fb-b5da-4e4f-c1e6-06a2044e56ed",
        "colab": {
          "base_uri": "https://localhost:8080/"
        }
      },
      "outputs": [
        {
          "output_type": "stream",
          "name": "stderr",
          "text": [
            "WARNING:tensorflow:Layer lstm_2 will not use cuDNN kernels since it doesn't meet the criteria. It will use a generic GPU kernel as fallback when running on GPU.\n"
          ]
        },
        {
          "output_type": "stream",
          "name": "stdout",
          "text": [
            "Model: \"sequential_6\"\n",
            "_________________________________________________________________\n",
            " Layer (type)                Output Shape              Param #   \n",
            "=================================================================\n",
            " lstm_2 (LSTM)               (None, 100)               40800     \n",
            "                                                                 \n",
            " dense_6 (Dense)             (None, 1)                 101       \n",
            "                                                                 \n",
            "=================================================================\n",
            "Total params: 40901 (159.77 KB)\n",
            "Trainable params: 40901 (159.77 KB)\n",
            "Non-trainable params: 0 (0.00 Byte)\n",
            "_________________________________________________________________\n"
          ]
        }
      ],
      "source": [
        "# define model\n",
        "\n",
        "model = Sequential()\n",
        "model.add(LSTM(100, activation='relu', input_shape=(length, n_features)))\n",
        "model.add(Dense(1))\n",
        "\n",
        "model.summary()"
      ]
    },
    {
      "cell_type": "code",
      "execution_count": 82,
      "metadata": {
        "id": "uv4_LwBsklBF"
      },
      "outputs": [],
      "source": [
        "model.compile(optimizer='adam', loss='mse')"
      ]
    },
    {
      "cell_type": "markdown",
      "metadata": {
        "id": "FEySSjnXklBF"
      },
      "source": [
        "### EarlyStopping and creating a Validation Generator\n",
        "\n",
        "NOTE: The scaled_test dataset size MUST be greater than your length chosen for your batches. Review video for more info on this."
      ]
    },
    {
      "cell_type": "code",
      "execution_count": 83,
      "metadata": {
        "id": "ZSOF0UdQklBG"
      },
      "outputs": [],
      "source": [
        "validation_generator = TimeseriesGenerator(scaled_test, scaled_test, length=length, batch_size=1)"
      ]
    },
    {
      "cell_type": "code",
      "execution_count": 84,
      "metadata": {
        "id": "DGXOa7vH2SGs"
      },
      "outputs": [],
      "source": [
        "from tensorflow.keras.callbacks import EarlyStopping\n",
        "\n",
        "# Your code to create an object early-stop.\n",
        "early_stop = EarlyStopping(monitor='val_loss', patience=5)"
      ]
    },
    {
      "cell_type": "markdown",
      "metadata": {
        "id": "XGQ6FmGA2k3l"
      },
      "source": [
        "Now, fit your model."
      ]
    },
    {
      "cell_type": "code",
      "execution_count": 85,
      "metadata": {
        "id": "y3M9SdOWklBG",
        "outputId": "4cba42b3-571e-4844-a910-10d49d05df8e",
        "colab": {
          "base_uri": "https://localhost:8080/"
        }
      },
      "outputs": [
        {
          "output_type": "stream",
          "name": "stdout",
          "text": [
            "Epoch 1/30\n",
            "356/356 [==============================] - 10s 20ms/step - loss: 0.0210 - val_loss: 0.0587\n",
            "Epoch 2/30\n",
            "356/356 [==============================] - 7s 21ms/step - loss: 0.0134 - val_loss: 0.0266\n",
            "Epoch 3/30\n",
            "356/356 [==============================] - 6s 18ms/step - loss: 0.0104 - val_loss: 0.0164\n",
            "Epoch 4/30\n",
            "356/356 [==============================] - 7s 21ms/step - loss: 0.0081 - val_loss: 0.0058\n",
            "Epoch 5/30\n",
            "356/356 [==============================] - 7s 18ms/step - loss: 0.0059 - val_loss: 0.0069\n",
            "Epoch 6/30\n",
            "356/356 [==============================] - 7s 20ms/step - loss: 0.0065 - val_loss: 0.0043\n",
            "Epoch 7/30\n",
            "356/356 [==============================] - 7s 20ms/step - loss: 0.0049 - val_loss: 0.0251\n",
            "Epoch 8/30\n",
            "356/356 [==============================] - 6s 18ms/step - loss: 0.0056 - val_loss: 0.0042\n",
            "Epoch 9/30\n",
            "356/356 [==============================] - 7s 20ms/step - loss: 0.0050 - val_loss: 0.0137\n",
            "Epoch 10/30\n",
            "356/356 [==============================] - 7s 19ms/step - loss: 0.0040 - val_loss: 0.0096\n",
            "Epoch 11/30\n",
            "356/356 [==============================] - 6s 18ms/step - loss: 0.0036 - val_loss: 0.0012\n",
            "Epoch 12/30\n",
            "356/356 [==============================] - 7s 20ms/step - loss: 0.0037 - val_loss: 0.0012\n",
            "Epoch 13/30\n",
            "356/356 [==============================] - 6s 16ms/step - loss: 0.0036 - val_loss: 0.0085\n",
            "Epoch 14/30\n",
            "356/356 [==============================] - 7s 20ms/step - loss: 0.0037 - val_loss: 0.0043\n",
            "Epoch 15/30\n",
            "356/356 [==============================] - 7s 19ms/step - loss: 0.0035 - val_loss: 0.0023\n",
            "Epoch 16/30\n",
            "356/356 [==============================] - 6s 17ms/step - loss: 0.0029 - val_loss: 4.5666e-04\n",
            "Epoch 17/30\n",
            "356/356 [==============================] - 7s 19ms/step - loss: 0.0031 - val_loss: 9.8766e-04\n",
            "Epoch 18/30\n",
            "356/356 [==============================] - 6s 17ms/step - loss: 0.0028 - val_loss: 0.0024\n",
            "Epoch 19/30\n",
            "356/356 [==============================] - 7s 19ms/step - loss: 0.0029 - val_loss: 0.0176\n",
            "Epoch 20/30\n",
            "356/356 [==============================] - 6s 17ms/step - loss: 0.0030 - val_loss: 0.0015\n",
            "Epoch 21/30\n",
            "356/356 [==============================] - 7s 19ms/step - loss: 0.0023 - val_loss: 0.0018\n"
          ]
        }
      ],
      "source": [
        "# fit model\n",
        "# IGNORE THE WARNING\n",
        "\n",
        "history =  model.fit(generator,  epochs=30,\n",
        "                    validation_data=validation_generator,\n",
        "                    callbacks=[early_stop])"
      ]
    },
    {
      "cell_type": "code",
      "execution_count": 88,
      "metadata": {
        "id": "b_FT924EklBG"
      },
      "outputs": [],
      "source": [
        "# Get Losses from dataframe (hint - model.history.history)- See previous week tutorial.\n",
        "losses = pd.DataFrame(model.history.history)"
      ]
    },
    {
      "cell_type": "code",
      "source": [
        "# Plot losses in the dataframe.\n",
        "losses.plot();"
      ],
      "metadata": {
        "id": "K25XxkUJqHIC",
        "outputId": "9d499ef4-13b8-4f4b-e91e-83b60d10e39e",
        "colab": {
          "base_uri": "https://localhost:8080/",
          "height": 430
        }
      },
      "execution_count": 89,
      "outputs": [
        {
          "output_type": "display_data",
          "data": {
            "text/plain": [
              "<Figure size 640x480 with 1 Axes>"
            ],
            "image/png": "[encoded data removed]"
          },
          "metadata": {}
        }
      ]
    },
    {
      "cell_type": "code",
      "source": [
        "# printing Loss for the neural network training process\n",
        "\n",
        "history_dict = history.history\n",
        "# plt.style.use('seaborn-darkgrid')\n",
        "\n",
        "acc_values = history_dict['loss']\n",
        "val_acc_values = history_dict['val_loss']\n",
        "epochs = range(1, len(acc_values) + 1)\n",
        "\n",
        "plt.figure(num=1, figsize=(15,7))\n",
        "plt.plot(epochs, acc_values, 'bo', label='Training loss')\n",
        "plt.plot(epochs, val_acc_values, 'b', label='Validation loss')\n",
        "plt.xlabel('Epochs')\n",
        "plt.ylabel('Loss (mse)')\n",
        "plt.legend()\n",
        "\n",
        "plt.show()"
      ],
      "metadata": {
        "id": "vDA5_beOqQP3",
        "outputId": "abdf0dcc-a55a-4402-f246-f57a4553ae68",
        "colab": {
          "base_uri": "https://localhost:8080/",
          "height": 702
        }
      },
      "execution_count": 92,
      "outputs": [
        {
          "output_type": "stream",
          "name": "stderr",
          "text": [
            "<ipython-input-92-0c9b6b117c08>:4: MatplotlibDeprecationWarning: The seaborn styles shipped by Matplotlib are deprecated since 3.6, as they no longer correspond to the styles shipped by seaborn. However, they will remain available as 'seaborn-v0_8-<style>'. Alternatively, directly use the seaborn API instead.\n",
            "  plt.style.use('seaborn-darkgrid')\n",
            "Exception ignored in: <function _xla_gc_callback at 0x7cf388d3f250>\n",
            "Traceback (most recent call last):\n",
            "  File \"/usr/local/lib/python3.10/dist-packages/jax/_src/lib/__init__.py\", line 97, in _xla_gc_callback\n",
            "    def _xla_gc_callback(*args):\n",
            "KeyboardInterrupt: \n"
          ]
        },
        {
          "output_type": "display_data",
          "data": {
            "text/plain": [
              "<Figure size 1500x700 with 1 Axes>"
            ],
            "image/png": "[encoded data removed]"
          },
          "metadata": {}
        }
      ]
    },
    {
      "cell_type": "markdown",
      "metadata": {
        "id": "xLHR70OiklBG"
      },
      "source": [
        "## Evaluate on Test Data"
      ]
    },
    {
      "cell_type": "code",
      "execution_count": 93,
      "metadata": {
        "id": "pfBvM-PDklBG",
        "outputId": "eb1ee4c9-9926-40ff-f21b-0bfa7465184f",
        "colab": {
          "base_uri": "https://localhost:8080/"
        }
      },
      "outputs": [
        {
          "output_type": "execute_result",
          "data": {
            "text/plain": [
              "array([[0.54716296],\n",
              "       [0.59505194],\n",
              "       [0.7145091 ],\n",
              "       [1.        ],\n",
              "       [0.42066905],\n",
              "       [0.48587066],\n",
              "       [0.63093377],\n",
              "       [0.6362951 ],\n",
              "       [0.66229197],\n",
              "       [0.61289512],\n",
              "       [0.61856361],\n",
              "       [0.65053613]])"
            ]
          },
          "metadata": {},
          "execution_count": 93
        }
      ],
      "source": [
        "first_eval_batch = scaled_train[-length:]\n",
        "first_eval_batch"
      ]
    },
    {
      "cell_type": "code",
      "execution_count": 94,
      "metadata": {
        "id": "ilrLhGP5klBG",
        "outputId": "8bcbcb3c-9fb6-4c50-fc53-5fe9beeb9b0b",
        "colab": {
          "base_uri": "https://localhost:8080/"
        }
      },
      "outputs": [
        {
          "output_type": "stream",
          "name": "stdout",
          "text": [
            "1/1 [==============================] - 0s 38ms/step\n"
          ]
        },
        {
          "output_type": "execute_result",
          "data": {
            "text/plain": [
              "array([[[0.54716296],\n",
              "        [0.59505194],\n",
              "        [0.7145091 ],\n",
              "        [1.        ],\n",
              "        [0.42066905],\n",
              "        [0.48587066],\n",
              "        [0.63093377],\n",
              "        [0.6362951 ],\n",
              "        [0.66229197],\n",
              "        [0.61289512],\n",
              "        [0.61856361],\n",
              "        [0.65053613]]])"
            ]
          },
          "metadata": {},
          "execution_count": 94
        }
      ],
      "source": [
        "n_input = 12\n",
        "first_eval_batch = first_eval_batch.reshape((1, n_input, n_features))\n",
        "model.predict(first_eval_batch)\n",
        "scaled_test[0]"
      ]
    },
    {
      "cell_type": "code",
      "source": [
        "first_eval_batch"
      ],
      "metadata": {
        "id": "MlxXWl2-qsRL",
        "outputId": "d7038715-4bd4-4b5c-8889-7a99b0051799",
        "colab": {
          "base_uri": "https://localhost:8080/"
        }
      },
      "execution_count": 95,
      "outputs": [
        {
          "output_type": "execute_result",
          "data": {
            "text/plain": [
              "array([[[0.54716296],\n",
              "        [0.59505194],\n",
              "        [0.7145091 ],\n",
              "        [1.        ],\n",
              "        [0.42066905],\n",
              "        [0.48587066],\n",
              "        [0.63093377],\n",
              "        [0.6362951 ],\n",
              "        [0.66229197],\n",
              "        [0.61289512],\n",
              "        [0.61856361],\n",
              "        [0.65053613]]])"
            ]
          },
          "metadata": {},
          "execution_count": 95
        }
      ]
    },
    {
      "cell_type": "code",
      "source": [
        "model.predict(first_eval_batch)"
      ],
      "metadata": {
        "id": "nyAm_KM3qtvo",
        "outputId": "79e14e25-9ff0-4f70-dc37-40ed0f8f43da",
        "colab": {
          "base_uri": "https://localhost:8080/"
        }
      },
      "execution_count": 96,
      "outputs": [
        {
          "output_type": "stream",
          "name": "stdout",
          "text": [
            "1/1 [==============================] - 0s 22ms/step\n"
          ]
        },
        {
          "output_type": "execute_result",
          "data": {
            "text/plain": [
              "array([[0.5463333]], dtype=float32)"
            ]
          },
          "metadata": {},
          "execution_count": 96
        }
      ]
    },
    {
      "cell_type": "code",
      "source": [
        "scaled_test[0]"
      ],
      "metadata": {
        "id": "Y0kvmNtGqvS2",
        "outputId": "3ac1a304-8a05-4a9c-bac9-f09208a131b4",
        "colab": {
          "base_uri": "https://localhost:8080/"
        }
      },
      "execution_count": 97,
      "outputs": [
        {
          "output_type": "execute_result",
          "data": {
            "text/plain": [
              "array([0.58296102])"
            ]
          },
          "metadata": {},
          "execution_count": 97
        }
      ]
    },
    {
      "cell_type": "markdown",
      "metadata": {
        "id": "OKjgr2QtklBH"
      },
      "source": [
        "#### Try predicting the series!"
      ]
    },
    {
      "cell_type": "code",
      "execution_count": 99,
      "metadata": {
        "id": "cem82lC7klBH",
        "outputId": "6b44c346-8485-4784-911b-710070f9057a",
        "colab": {
          "base_uri": "https://localhost:8080/"
        }
      },
      "outputs": [
        {
          "output_type": "stream",
          "name": "stdout",
          "text": [
            "0\n",
            "1/1 [==============================] - 0s 35ms/step\n",
            "[0.43936655]\n",
            "[array([0.5463333], dtype=float32), array([0.56799364], dtype=float32), array([0.6511676], dtype=float32), array([0.97654456], dtype=float32), array([0.42547026], dtype=float32), array([0.4516058], dtype=float32), array([0.5015666], dtype=float32), array([0.53629124], dtype=float32), array([0.5761624], dtype=float32), array([0.5595864], dtype=float32), array([0.56493866], dtype=float32), array([0.59528655], dtype=float32), array([0.5207361], dtype=float32), array([0.53251433], dtype=float32), array([0.60494906], dtype=float32), array([0.9342201], dtype=float32), array([0.39783853], dtype=float32), array([0.4192295], dtype=float32), array([0.43936655], dtype=float32)]\n",
            "[[[0.53629124]\n",
            "  [0.5761624 ]\n",
            "  [0.55958641]\n",
            "  [0.56493866]\n",
            "  [0.59528655]\n",
            "  [0.5207361 ]\n",
            "  [0.53251433]\n",
            "  [0.60494906]\n",
            "  [0.93422008]\n",
            "  [0.39783853]\n",
            "  [0.41922951]\n",
            "  [0.43936655]]]\n",
            "1\n",
            "1/1 [==============================] - 0s 43ms/step\n",
            "[0.46741688]\n",
            "[array([0.5463333], dtype=float32), array([0.56799364], dtype=float32), array([0.6511676], dtype=float32), array([0.97654456], dtype=float32), array([0.42547026], dtype=float32), array([0.4516058], dtype=float32), array([0.5015666], dtype=float32), array([0.53629124], dtype=float32), array([0.5761624], dtype=float32), array([0.5595864], dtype=float32), array([0.56493866], dtype=float32), array([0.59528655], dtype=float32), array([0.5207361], dtype=float32), array([0.53251433], dtype=float32), array([0.60494906], dtype=float32), array([0.9342201], dtype=float32), array([0.39783853], dtype=float32), array([0.4192295], dtype=float32), array([0.43936655], dtype=float32), array([0.46741688], dtype=float32)]\n",
            "[[[0.5761624 ]\n",
            "  [0.55958641]\n",
            "  [0.56493866]\n",
            "  [0.59528655]\n",
            "  [0.5207361 ]\n",
            "  [0.53251433]\n",
            "  [0.60494906]\n",
            "  [0.93422008]\n",
            "  [0.39783853]\n",
            "  [0.41922951]\n",
            "  [0.43936655]\n",
            "  [0.46741688]]]\n",
            "2\n",
            "1/1 [==============================] - 0s 36ms/step\n",
            "[0.49966055]\n",
            "[array([0.5463333], dtype=float32), array([0.56799364], dtype=float32), array([0.6511676], dtype=float32), array([0.97654456], dtype=float32), array([0.42547026], dtype=float32), array([0.4516058], dtype=float32), array([0.5015666], dtype=float32), array([0.53629124], dtype=float32), array([0.5761624], dtype=float32), array([0.5595864], dtype=float32), array([0.56493866], dtype=float32), array([0.59528655], dtype=float32), array([0.5207361], dtype=float32), array([0.53251433], dtype=float32), array([0.60494906], dtype=float32), array([0.9342201], dtype=float32), array([0.39783853], dtype=float32), array([0.4192295], dtype=float32), array([0.43936655], dtype=float32), array([0.46741688], dtype=float32), array([0.49966055], dtype=float32)]\n",
            "[[[0.55958641]\n",
            "  [0.56493866]\n",
            "  [0.59528655]\n",
            "  [0.5207361 ]\n",
            "  [0.53251433]\n",
            "  [0.60494906]\n",
            "  [0.93422008]\n",
            "  [0.39783853]\n",
            "  [0.41922951]\n",
            "  [0.43936655]\n",
            "  [0.46741688]\n",
            "  [0.49966055]]]\n",
            "3\n",
            "1/1 [==============================] - 0s 27ms/step\n",
            "[0.50445646]\n",
            "[array([0.5463333], dtype=float32), array([0.56799364], dtype=float32), array([0.6511676], dtype=float32), array([0.97654456], dtype=float32), array([0.42547026], dtype=float32), array([0.4516058], dtype=float32), array([0.5015666], dtype=float32), array([0.53629124], dtype=float32), array([0.5761624], dtype=float32), array([0.5595864], dtype=float32), array([0.56493866], dtype=float32), array([0.59528655], dtype=float32), array([0.5207361], dtype=float32), array([0.53251433], dtype=float32), array([0.60494906], dtype=float32), array([0.9342201], dtype=float32), array([0.39783853], dtype=float32), array([0.4192295], dtype=float32), array([0.43936655], dtype=float32), array([0.46741688], dtype=float32), array([0.49966055], dtype=float32), array([0.50445646], dtype=float32)]\n",
            "[[[0.56493866]\n",
            "  [0.59528655]\n",
            "  [0.5207361 ]\n",
            "  [0.53251433]\n",
            "  [0.60494906]\n",
            "  [0.93422008]\n",
            "  [0.39783853]\n",
            "  [0.41922951]\n",
            "  [0.43936655]\n",
            "  [0.46741688]\n",
            "  [0.49966055]\n",
            "  [0.50445646]]]\n",
            "4\n",
            "1/1 [==============================] - 0s 19ms/step\n",
            "[0.5091786]\n",
            "[array([0.5463333], dtype=float32), array([0.56799364], dtype=float32), array([0.6511676], dtype=float32), array([0.97654456], dtype=float32), array([0.42547026], dtype=float32), array([0.4516058], dtype=float32), array([0.5015666], dtype=float32), array([0.53629124], dtype=float32), array([0.5761624], dtype=float32), array([0.5595864], dtype=float32), array([0.56493866], dtype=float32), array([0.59528655], dtype=float32), array([0.5207361], dtype=float32), array([0.53251433], dtype=float32), array([0.60494906], dtype=float32), array([0.9342201], dtype=float32), array([0.39783853], dtype=float32), array([0.4192295], dtype=float32), array([0.43936655], dtype=float32), array([0.46741688], dtype=float32), array([0.49966055], dtype=float32), array([0.50445646], dtype=float32), array([0.5091786], dtype=float32)]\n",
            "[[[0.59528655]\n",
            "  [0.5207361 ]\n",
            "  [0.53251433]\n",
            "  [0.60494906]\n",
            "  [0.93422008]\n",
            "  [0.39783853]\n",
            "  [0.41922951]\n",
            "  [0.43936655]\n",
            "  [0.46741688]\n",
            "  [0.49966055]\n",
            "  [0.50445646]\n",
            "  [0.50917858]]]\n",
            "5\n",
            "1/1 [==============================] - 0s 23ms/step\n",
            "[0.5343214]\n",
            "[array([0.5463333], dtype=float32), array([0.56799364], dtype=float32), array([0.6511676], dtype=float32), array([0.97654456], dtype=float32), array([0.42547026], dtype=float32), array([0.4516058], dtype=float32), array([0.5015666], dtype=float32), array([0.53629124], dtype=float32), array([0.5761624], dtype=float32), array([0.5595864], dtype=float32), array([0.56493866], dtype=float32), array([0.59528655], dtype=float32), array([0.5207361], dtype=float32), array([0.53251433], dtype=float32), array([0.60494906], dtype=float32), array([0.9342201], dtype=float32), array([0.39783853], dtype=float32), array([0.4192295], dtype=float32), array([0.43936655], dtype=float32), array([0.46741688], dtype=float32), array([0.49966055], dtype=float32), array([0.50445646], dtype=float32), array([0.5091786], dtype=float32), array([0.5343214], dtype=float32)]\n",
            "[[[0.5207361 ]\n",
            "  [0.53251433]\n",
            "  [0.60494906]\n",
            "  [0.93422008]\n",
            "  [0.39783853]\n",
            "  [0.41922951]\n",
            "  [0.43936655]\n",
            "  [0.46741688]\n",
            "  [0.49966055]\n",
            "  [0.50445646]\n",
            "  [0.50917858]\n",
            "  [0.53432143]]]\n",
            "6\n",
            "1/1 [==============================] - 0s 22ms/step\n",
            "[0.48458067]\n",
            "[array([0.5463333], dtype=float32), array([0.56799364], dtype=float32), array([0.6511676], dtype=float32), array([0.97654456], dtype=float32), array([0.42547026], dtype=float32), array([0.4516058], dtype=float32), array([0.5015666], dtype=float32), array([0.53629124], dtype=float32), array([0.5761624], dtype=float32), array([0.5595864], dtype=float32), array([0.56493866], dtype=float32), array([0.59528655], dtype=float32), array([0.5207361], dtype=float32), array([0.53251433], dtype=float32), array([0.60494906], dtype=float32), array([0.9342201], dtype=float32), array([0.39783853], dtype=float32), array([0.4192295], dtype=float32), array([0.43936655], dtype=float32), array([0.46741688], dtype=float32), array([0.49966055], dtype=float32), array([0.50445646], dtype=float32), array([0.5091786], dtype=float32), array([0.5343214], dtype=float32), array([0.48458067], dtype=float32)]\n",
            "[[[0.53251433]\n",
            "  [0.60494906]\n",
            "  [0.93422008]\n",
            "  [0.39783853]\n",
            "  [0.41922951]\n",
            "  [0.43936655]\n",
            "  [0.46741688]\n",
            "  [0.49966055]\n",
            "  [0.50445646]\n",
            "  [0.50917858]\n",
            "  [0.53432143]\n",
            "  [0.48458067]]]\n",
            "7\n",
            "1/1 [==============================] - 0s 24ms/step\n",
            "[0.49133494]\n",
            "[array([0.5463333], dtype=float32), array([0.56799364], dtype=float32), array([0.6511676], dtype=float32), array([0.97654456], dtype=float32), array([0.42547026], dtype=float32), array([0.4516058], dtype=float32), array([0.5015666], dtype=float32), array([0.53629124], dtype=float32), array([0.5761624], dtype=float32), array([0.5595864], dtype=float32), array([0.56493866], dtype=float32), array([0.59528655], dtype=float32), array([0.5207361], dtype=float32), array([0.53251433], dtype=float32), array([0.60494906], dtype=float32), array([0.9342201], dtype=float32), array([0.39783853], dtype=float32), array([0.4192295], dtype=float32), array([0.43936655], dtype=float32), array([0.46741688], dtype=float32), array([0.49966055], dtype=float32), array([0.50445646], dtype=float32), array([0.5091786], dtype=float32), array([0.5343214], dtype=float32), array([0.48458067], dtype=float32), array([0.49133494], dtype=float32)]\n",
            "[[[0.60494906]\n",
            "  [0.93422008]\n",
            "  [0.39783853]\n",
            "  [0.41922951]\n",
            "  [0.43936655]\n",
            "  [0.46741688]\n",
            "  [0.49966055]\n",
            "  [0.50445646]\n",
            "  [0.50917858]\n",
            "  [0.53432143]\n",
            "  [0.48458067]\n",
            "  [0.49133494]]]\n",
            "8\n",
            "1/1 [==============================] - 0s 21ms/step\n",
            "[0.56070757]\n",
            "[array([0.5463333], dtype=float32), array([0.56799364], dtype=float32), array([0.6511676], dtype=float32), array([0.97654456], dtype=float32), array([0.42547026], dtype=float32), array([0.4516058], dtype=float32), array([0.5015666], dtype=float32), array([0.53629124], dtype=float32), array([0.5761624], dtype=float32), array([0.5595864], dtype=float32), array([0.56493866], dtype=float32), array([0.59528655], dtype=float32), array([0.5207361], dtype=float32), array([0.53251433], dtype=float32), array([0.60494906], dtype=float32), array([0.9342201], dtype=float32), array([0.39783853], dtype=float32), array([0.4192295], dtype=float32), array([0.43936655], dtype=float32), array([0.46741688], dtype=float32), array([0.49966055], dtype=float32), array([0.50445646], dtype=float32), array([0.5091786], dtype=float32), array([0.5343214], dtype=float32), array([0.48458067], dtype=float32), array([0.49133494], dtype=float32), array([0.56070757], dtype=float32)]\n",
            "[[[0.93422008]\n",
            "  [0.39783853]\n",
            "  [0.41922951]\n",
            "  [0.43936655]\n",
            "  [0.46741688]\n",
            "  [0.49966055]\n",
            "  [0.50445646]\n",
            "  [0.50917858]\n",
            "  [0.53432143]\n",
            "  [0.48458067]\n",
            "  [0.49133494]\n",
            "  [0.56070757]]]\n",
            "9\n",
            "1/1 [==============================] - 0s 22ms/step\n",
            "[0.8787437]\n",
            "[array([0.5463333], dtype=float32), array([0.56799364], dtype=float32), array([0.6511676], dtype=float32), array([0.97654456], dtype=float32), array([0.42547026], dtype=float32), array([0.4516058], dtype=float32), array([0.5015666], dtype=float32), array([0.53629124], dtype=float32), array([0.5761624], dtype=float32), array([0.5595864], dtype=float32), array([0.56493866], dtype=float32), array([0.59528655], dtype=float32), array([0.5207361], dtype=float32), array([0.53251433], dtype=float32), array([0.60494906], dtype=float32), array([0.9342201], dtype=float32), array([0.39783853], dtype=float32), array([0.4192295], dtype=float32), array([0.43936655], dtype=float32), array([0.46741688], dtype=float32), array([0.49966055], dtype=float32), array([0.50445646], dtype=float32), array([0.5091786], dtype=float32), array([0.5343214], dtype=float32), array([0.48458067], dtype=float32), array([0.49133494], dtype=float32), array([0.56070757], dtype=float32), array([0.8787437], dtype=float32)]\n",
            "[[[0.39783853]\n",
            "  [0.41922951]\n",
            "  [0.43936655]\n",
            "  [0.46741688]\n",
            "  [0.49966055]\n",
            "  [0.50445646]\n",
            "  [0.50917858]\n",
            "  [0.53432143]\n",
            "  [0.48458067]\n",
            "  [0.49133494]\n",
            "  [0.56070757]\n",
            "  [0.87874371]]]\n",
            "10\n",
            "1/1 [==============================] - 0s 19ms/step\n",
            "[0.36419153]\n",
            "[array([0.5463333], dtype=float32), array([0.56799364], dtype=float32), array([0.6511676], dtype=float32), array([0.97654456], dtype=float32), array([0.42547026], dtype=float32), array([0.4516058], dtype=float32), array([0.5015666], dtype=float32), array([0.53629124], dtype=float32), array([0.5761624], dtype=float32), array([0.5595864], dtype=float32), array([0.56493866], dtype=float32), array([0.59528655], dtype=float32), array([0.5207361], dtype=float32), array([0.53251433], dtype=float32), array([0.60494906], dtype=float32), array([0.9342201], dtype=float32), array([0.39783853], dtype=float32), array([0.4192295], dtype=float32), array([0.43936655], dtype=float32), array([0.46741688], dtype=float32), array([0.49966055], dtype=float32), array([0.50445646], dtype=float32), array([0.5091786], dtype=float32), array([0.5343214], dtype=float32), array([0.48458067], dtype=float32), array([0.49133494], dtype=float32), array([0.56070757], dtype=float32), array([0.8787437], dtype=float32), array([0.36419153], dtype=float32)]\n",
            "[[[0.41922951]\n",
            "  [0.43936655]\n",
            "  [0.46741688]\n",
            "  [0.49966055]\n",
            "  [0.50445646]\n",
            "  [0.50917858]\n",
            "  [0.53432143]\n",
            "  [0.48458067]\n",
            "  [0.49133494]\n",
            "  [0.56070757]\n",
            "  [0.87874371]\n",
            "  [0.36419153]]]\n",
            "11\n",
            "1/1 [==============================] - 0s 19ms/step\n",
            "[0.38919407]\n",
            "[array([0.5463333], dtype=float32), array([0.56799364], dtype=float32), array([0.6511676], dtype=float32), array([0.97654456], dtype=float32), array([0.42547026], dtype=float32), array([0.4516058], dtype=float32), array([0.5015666], dtype=float32), array([0.53629124], dtype=float32), array([0.5761624], dtype=float32), array([0.5595864], dtype=float32), array([0.56493866], dtype=float32), array([0.59528655], dtype=float32), array([0.5207361], dtype=float32), array([0.53251433], dtype=float32), array([0.60494906], dtype=float32), array([0.9342201], dtype=float32), array([0.39783853], dtype=float32), array([0.4192295], dtype=float32), array([0.43936655], dtype=float32), array([0.46741688], dtype=float32), array([0.49966055], dtype=float32), array([0.50445646], dtype=float32), array([0.5091786], dtype=float32), array([0.5343214], dtype=float32), array([0.48458067], dtype=float32), array([0.49133494], dtype=float32), array([0.56070757], dtype=float32), array([0.8787437], dtype=float32), array([0.36419153], dtype=float32), array([0.38919407], dtype=float32)]\n",
            "[[[0.43936655]\n",
            "  [0.46741688]\n",
            "  [0.49966055]\n",
            "  [0.50445646]\n",
            "  [0.50917858]\n",
            "  [0.53432143]\n",
            "  [0.48458067]\n",
            "  [0.49133494]\n",
            "  [0.56070757]\n",
            "  [0.87874371]\n",
            "  [0.36419153]\n",
            "  [0.38919407]]]\n",
            "12\n",
            "1/1 [==============================] - 0s 20ms/step\n",
            "[0.4050195]\n",
            "[array([0.5463333], dtype=float32), array([0.56799364], dtype=float32), array([0.6511676], dtype=float32), array([0.97654456], dtype=float32), array([0.42547026], dtype=float32), array([0.4516058], dtype=float32), array([0.5015666], dtype=float32), array([0.53629124], dtype=float32), array([0.5761624], dtype=float32), array([0.5595864], dtype=float32), array([0.56493866], dtype=float32), array([0.59528655], dtype=float32), array([0.5207361], dtype=float32), array([0.53251433], dtype=float32), array([0.60494906], dtype=float32), array([0.9342201], dtype=float32), array([0.39783853], dtype=float32), array([0.4192295], dtype=float32), array([0.43936655], dtype=float32), array([0.46741688], dtype=float32), array([0.49966055], dtype=float32), array([0.50445646], dtype=float32), array([0.5091786], dtype=float32), array([0.5343214], dtype=float32), array([0.48458067], dtype=float32), array([0.49133494], dtype=float32), array([0.56070757], dtype=float32), array([0.8787437], dtype=float32), array([0.36419153], dtype=float32), array([0.38919407], dtype=float32), array([0.4050195], dtype=float32)]\n",
            "[[[0.46741688]\n",
            "  [0.49966055]\n",
            "  [0.50445646]\n",
            "  [0.50917858]\n",
            "  [0.53432143]\n",
            "  [0.48458067]\n",
            "  [0.49133494]\n",
            "  [0.56070757]\n",
            "  [0.87874371]\n",
            "  [0.36419153]\n",
            "  [0.38919407]\n",
            "  [0.40501949]]]\n",
            "13\n",
            "1/1 [==============================] - 0s 24ms/step\n",
            "[0.42653906]\n",
            "[array([0.5463333], dtype=float32), array([0.56799364], dtype=float32), array([0.6511676], dtype=float32), array([0.97654456], dtype=float32), array([0.42547026], dtype=float32), array([0.4516058], dtype=float32), array([0.5015666], dtype=float32), array([0.53629124], dtype=float32), array([0.5761624], dtype=float32), array([0.5595864], dtype=float32), array([0.56493866], dtype=float32), array([0.59528655], dtype=float32), array([0.5207361], dtype=float32), array([0.53251433], dtype=float32), array([0.60494906], dtype=float32), array([0.9342201], dtype=float32), array([0.39783853], dtype=float32), array([0.4192295], dtype=float32), array([0.43936655], dtype=float32), array([0.46741688], dtype=float32), array([0.49966055], dtype=float32), array([0.50445646], dtype=float32), array([0.5091786], dtype=float32), array([0.5343214], dtype=float32), array([0.48458067], dtype=float32), array([0.49133494], dtype=float32), array([0.56070757], dtype=float32), array([0.8787437], dtype=float32), array([0.36419153], dtype=float32), array([0.38919407], dtype=float32), array([0.4050195], dtype=float32), array([0.42653906], dtype=float32)]\n",
            "[[[0.49966055]\n",
            "  [0.50445646]\n",
            "  [0.50917858]\n",
            "  [0.53432143]\n",
            "  [0.48458067]\n",
            "  [0.49133494]\n",
            "  [0.56070757]\n",
            "  [0.87874371]\n",
            "  [0.36419153]\n",
            "  [0.38919407]\n",
            "  [0.40501949]\n",
            "  [0.42653906]]]\n",
            "14\n",
            "1/1 [==============================] - 0s 25ms/step\n",
            "[0.44868606]\n",
            "[array([0.5463333], dtype=float32), array([0.56799364], dtype=float32), array([0.6511676], dtype=float32), array([0.97654456], dtype=float32), array([0.42547026], dtype=float32), array([0.4516058], dtype=float32), array([0.5015666], dtype=float32), array([0.53629124], dtype=float32), array([0.5761624], dtype=float32), array([0.5595864], dtype=float32), array([0.56493866], dtype=float32), array([0.59528655], dtype=float32), array([0.5207361], dtype=float32), array([0.53251433], dtype=float32), array([0.60494906], dtype=float32), array([0.9342201], dtype=float32), array([0.39783853], dtype=float32), array([0.4192295], dtype=float32), array([0.43936655], dtype=float32), array([0.46741688], dtype=float32), array([0.49966055], dtype=float32), array([0.50445646], dtype=float32), array([0.5091786], dtype=float32), array([0.5343214], dtype=float32), array([0.48458067], dtype=float32), array([0.49133494], dtype=float32), array([0.56070757], dtype=float32), array([0.8787437], dtype=float32), array([0.36419153], dtype=float32), array([0.38919407], dtype=float32), array([0.4050195], dtype=float32), array([0.42653906], dtype=float32), array([0.44868606], dtype=float32)]\n",
            "[[[0.50445646]\n",
            "  [0.50917858]\n",
            "  [0.53432143]\n",
            "  [0.48458067]\n",
            "  [0.49133494]\n",
            "  [0.56070757]\n",
            "  [0.87874371]\n",
            "  [0.36419153]\n",
            "  [0.38919407]\n",
            "  [0.40501949]\n",
            "  [0.42653906]\n",
            "  [0.44868606]]]\n",
            "15\n",
            "1/1 [==============================] - 0s 20ms/step\n",
            "[0.45770583]\n",
            "[array([0.5463333], dtype=float32), array([0.56799364], dtype=float32), array([0.6511676], dtype=float32), array([0.97654456], dtype=float32), array([0.42547026], dtype=float32), array([0.4516058], dtype=float32), array([0.5015666], dtype=float32), array([0.53629124], dtype=float32), array([0.5761624], dtype=float32), array([0.5595864], dtype=float32), array([0.56493866], dtype=float32), array([0.59528655], dtype=float32), array([0.5207361], dtype=float32), array([0.53251433], dtype=float32), array([0.60494906], dtype=float32), array([0.9342201], dtype=float32), array([0.39783853], dtype=float32), array([0.4192295], dtype=float32), array([0.43936655], dtype=float32), array([0.46741688], dtype=float32), array([0.49966055], dtype=float32), array([0.50445646], dtype=float32), array([0.5091786], dtype=float32), array([0.5343214], dtype=float32), array([0.48458067], dtype=float32), array([0.49133494], dtype=float32), array([0.56070757], dtype=float32), array([0.8787437], dtype=float32), array([0.36419153], dtype=float32), array([0.38919407], dtype=float32), array([0.4050195], dtype=float32), array([0.42653906], dtype=float32), array([0.44868606], dtype=float32), array([0.45770583], dtype=float32)]\n",
            "[[[0.50917858]\n",
            "  [0.53432143]\n",
            "  [0.48458067]\n",
            "  [0.49133494]\n",
            "  [0.56070757]\n",
            "  [0.87874371]\n",
            "  [0.36419153]\n",
            "  [0.38919407]\n",
            "  [0.40501949]\n",
            "  [0.42653906]\n",
            "  [0.44868606]\n",
            "  [0.45770583]]]\n",
            "16\n",
            "1/1 [==============================] - 0s 20ms/step\n",
            "[0.4602772]\n",
            "[array([0.5463333], dtype=float32), array([0.56799364], dtype=float32), array([0.6511676], dtype=float32), array([0.97654456], dtype=float32), array([0.42547026], dtype=float32), array([0.4516058], dtype=float32), array([0.5015666], dtype=float32), array([0.53629124], dtype=float32), array([0.5761624], dtype=float32), array([0.5595864], dtype=float32), array([0.56493866], dtype=float32), array([0.59528655], dtype=float32), array([0.5207361], dtype=float32), array([0.53251433], dtype=float32), array([0.60494906], dtype=float32), array([0.9342201], dtype=float32), array([0.39783853], dtype=float32), array([0.4192295], dtype=float32), array([0.43936655], dtype=float32), array([0.46741688], dtype=float32), array([0.49966055], dtype=float32), array([0.50445646], dtype=float32), array([0.5091786], dtype=float32), array([0.5343214], dtype=float32), array([0.48458067], dtype=float32), array([0.49133494], dtype=float32), array([0.56070757], dtype=float32), array([0.8787437], dtype=float32), array([0.36419153], dtype=float32), array([0.38919407], dtype=float32), array([0.4050195], dtype=float32), array([0.42653906], dtype=float32), array([0.44868606], dtype=float32), array([0.45770583], dtype=float32), array([0.4602772], dtype=float32)]\n",
            "[[[0.53432143]\n",
            "  [0.48458067]\n",
            "  [0.49133494]\n",
            "  [0.56070757]\n",
            "  [0.87874371]\n",
            "  [0.36419153]\n",
            "  [0.38919407]\n",
            "  [0.40501949]\n",
            "  [0.42653906]\n",
            "  [0.44868606]\n",
            "  [0.45770583]\n",
            "  [0.4602772 ]]]\n",
            "17\n",
            "1/1 [==============================] - 0s 20ms/step\n",
            "[0.47481707]\n",
            "[array([0.5463333], dtype=float32), array([0.56799364], dtype=float32), array([0.6511676], dtype=float32), array([0.97654456], dtype=float32), array([0.42547026], dtype=float32), array([0.4516058], dtype=float32), array([0.5015666], dtype=float32), array([0.53629124], dtype=float32), array([0.5761624], dtype=float32), array([0.5595864], dtype=float32), array([0.56493866], dtype=float32), array([0.59528655], dtype=float32), array([0.5207361], dtype=float32), array([0.53251433], dtype=float32), array([0.60494906], dtype=float32), array([0.9342201], dtype=float32), array([0.39783853], dtype=float32), array([0.4192295], dtype=float32), array([0.43936655], dtype=float32), array([0.46741688], dtype=float32), array([0.49966055], dtype=float32), array([0.50445646], dtype=float32), array([0.5091786], dtype=float32), array([0.5343214], dtype=float32), array([0.48458067], dtype=float32), array([0.49133494], dtype=float32), array([0.56070757], dtype=float32), array([0.8787437], dtype=float32), array([0.36419153], dtype=float32), array([0.38919407], dtype=float32), array([0.4050195], dtype=float32), array([0.42653906], dtype=float32), array([0.44868606], dtype=float32), array([0.45770583], dtype=float32), array([0.4602772], dtype=float32), array([0.47481707], dtype=float32)]\n",
            "[[[0.48458067]\n",
            "  [0.49133494]\n",
            "  [0.56070757]\n",
            "  [0.87874371]\n",
            "  [0.36419153]\n",
            "  [0.38919407]\n",
            "  [0.40501949]\n",
            "  [0.42653906]\n",
            "  [0.44868606]\n",
            "  [0.45770583]\n",
            "  [0.4602772 ]\n",
            "  [0.47481707]]]\n"
          ]
        }
      ],
      "source": [
        "for i in range(len(test)):\n",
        "\n",
        "    print(i)\n",
        "\n",
        "    # get prediction 1 time stamp ahead ([0] is for\n",
        "    # grabbing just the number instead of [array])\n",
        "    current_pred = model.predict(current_batch)[0]\n",
        "    print(current_pred)\n",
        "\n",
        "    # store prediction\n",
        "    test_predictions.append(current_pred)\n",
        "    print(test_predictions)\n",
        "\n",
        "    # update batch to now include prediction and drop first value\n",
        "    current_batch = np.append(current_batch[:,1:,:],[[current_pred]],axis=1)\n",
        "    print(current_batch)"
      ]
    },
    {
      "cell_type": "markdown",
      "metadata": {
        "id": "z2400W3cklBH"
      },
      "source": [
        "## Inverse Transformations and Compare"
      ]
    },
    {
      "cell_type": "code",
      "execution_count": 100,
      "metadata": {
        "id": "8CTT2EJWklBH"
      },
      "outputs": [],
      "source": [
        "true_predictions = scaler.inverse_transform(test_predictions)"
      ]
    },
    {
      "cell_type": "code",
      "source": [
        "true_predictions"
      ],
      "metadata": {
        "id": "h9D0hbU8rABT",
        "outputId": "35df970f-fb13-4d53-c6f2-3cc6e588e41a",
        "colab": {
          "base_uri": "https://localhost:8080/"
        }
      },
      "execution_count": 102,
      "outputs": [
        {
          "output_type": "execute_result",
          "data": {
            "text/plain": [
              "array([[22317.28860474],\n",
              "       [23092.9882679 ],\n",
              "       [26071.61307216],\n",
              "       [37724.01374698],\n",
              "       [17988.94105017],\n",
              "       [18924.9067955 ],\n",
              "       [20714.10268092],\n",
              "       [21957.66194582],\n",
              "       [23385.52779222],\n",
              "       [22791.90836287],\n",
              "       [22983.58345079],\n",
              "       [24070.40186191],\n",
              "       [21400.60115194],\n",
              "       [21822.40331936],\n",
              "       [24416.43563294],\n",
              "       [36208.28934765],\n",
              "       [16999.3935411 ],\n",
              "       [17765.44712067],\n",
              "       [18486.59486187],\n",
              "       [19491.13339663],\n",
              "       [20645.84367204],\n",
              "       [20817.59476256],\n",
              "       [20986.70326591],\n",
              "       [21887.11895609],\n",
              "       [20105.80280459],\n",
              "       [20347.68704903],\n",
              "       [22832.05946541],\n",
              "       [34221.56967568],\n",
              "       [15794.42714882],\n",
              "       [16689.81808114],\n",
              "       [17256.55804431],\n",
              "       [18027.2169404 ],\n",
              "       [18820.34529853],\n",
              "       [19143.36102521],\n",
              "       [19235.44707727],\n",
              "       [19756.14881718]])"
            ]
          },
          "metadata": {},
          "execution_count": 102
        }
      ]
    },
    {
      "cell_type": "code",
      "execution_count": 101,
      "metadata": {
        "id": "mkQkA0HXklBH",
        "outputId": "735a6286-52d1-4cbe-88aa-9e1e12527060",
        "colab": {
          "base_uri": "https://localhost:8080/",
          "height": 304
        }
      },
      "outputs": [
        {
          "output_type": "error",
          "ename": "ValueError",
          "evalue": "Length of values (36) does not match length of index (18)",
          "traceback": [
            "\u001b[0;31m---------------------------------------------------------------------------\u001b[0m",
            "\u001b[0;31mValueError\u001b[0m                                Traceback (most recent call last)",
            "\u001b[0;32m<ipython-input-101-53e06c23926f>\u001b[0m in \u001b[0;36m<cell line: 2>\u001b[0;34m()\u001b[0m\n\u001b[1;32m      1\u001b[0m \u001b[0;31m# IGNORE WARNINGS\u001b[0m\u001b[0;34m\u001b[0m\u001b[0;34m\u001b[0m\u001b[0m\n\u001b[0;32m----> 2\u001b[0;31m \u001b[0mtest\u001b[0m\u001b[0;34m[\u001b[0m\u001b[0;34m'Predictions'\u001b[0m\u001b[0;34m]\u001b[0m \u001b[0;34m=\u001b[0m \u001b[0mtrue_predictions\u001b[0m\u001b[0;34m\u001b[0m\u001b[0;34m\u001b[0m\u001b[0m\n\u001b[0m",
            "\u001b[0;32m/usr/local/lib/python3.10/dist-packages/pandas/core/frame.py\u001b[0m in \u001b[0;36m__setitem__\u001b[0;34m(self, key, value)\u001b[0m\n\u001b[1;32m   3978\u001b[0m         \u001b[0;32melse\u001b[0m\u001b[0;34m:\u001b[0m\u001b[0;34m\u001b[0m\u001b[0;34m\u001b[0m\u001b[0m\n\u001b[1;32m   3979\u001b[0m             \u001b[0;31m# set column\u001b[0m\u001b[0;34m\u001b[0m\u001b[0;34m\u001b[0m\u001b[0m\n\u001b[0;32m-> 3980\u001b[0;31m             \u001b[0mself\u001b[0m\u001b[0;34m.\u001b[0m\u001b[0m_set_item\u001b[0m\u001b[0;34m(\u001b[0m\u001b[0mkey\u001b[0m\u001b[0;34m,\u001b[0m \u001b[0mvalue\u001b[0m\u001b[0;34m)\u001b[0m\u001b[0;34m\u001b[0m\u001b[0;34m\u001b[0m\u001b[0m\n\u001b[0m\u001b[1;32m   3981\u001b[0m \u001b[0;34m\u001b[0m\u001b[0m\n\u001b[1;32m   3982\u001b[0m     \u001b[0;32mdef\u001b[0m \u001b[0m_setitem_slice\u001b[0m\u001b[0;34m(\u001b[0m\u001b[0mself\u001b[0m\u001b[0;34m,\u001b[0m \u001b[0mkey\u001b[0m\u001b[0;34m:\u001b[0m \u001b[0mslice\u001b[0m\u001b[0;34m,\u001b[0m \u001b[0mvalue\u001b[0m\u001b[0;34m)\u001b[0m\u001b[0;34m:\u001b[0m\u001b[0;34m\u001b[0m\u001b[0;34m\u001b[0m\u001b[0m\n",
            "\u001b[0;32m/usr/local/lib/python3.10/dist-packages/pandas/core/frame.py\u001b[0m in \u001b[0;36m_set_item\u001b[0;34m(self, key, value)\u001b[0m\n\u001b[1;32m   4172\u001b[0m         \u001b[0mensure\u001b[0m \u001b[0mhomogeneity\u001b[0m\u001b[0;34m.\u001b[0m\u001b[0;34m\u001b[0m\u001b[0;34m\u001b[0m\u001b[0m\n\u001b[1;32m   4173\u001b[0m         \"\"\"\n\u001b[0;32m-> 4174\u001b[0;31m         \u001b[0mvalue\u001b[0m \u001b[0;34m=\u001b[0m \u001b[0mself\u001b[0m\u001b[0;34m.\u001b[0m\u001b[0m_sanitize_column\u001b[0m\u001b[0;34m(\u001b[0m\u001b[0mvalue\u001b[0m\u001b[0;34m)\u001b[0m\u001b[0;34m\u001b[0m\u001b[0;34m\u001b[0m\u001b[0m\n\u001b[0m\u001b[1;32m   4175\u001b[0m \u001b[0;34m\u001b[0m\u001b[0m\n\u001b[1;32m   4176\u001b[0m         if (\n",
            "\u001b[0;32m/usr/local/lib/python3.10/dist-packages/pandas/core/frame.py\u001b[0m in \u001b[0;36m_sanitize_column\u001b[0;34m(self, value)\u001b[0m\n\u001b[1;32m   4913\u001b[0m \u001b[0;34m\u001b[0m\u001b[0m\n\u001b[1;32m   4914\u001b[0m         \u001b[0;32mif\u001b[0m \u001b[0mis_list_like\u001b[0m\u001b[0;34m(\u001b[0m\u001b[0mvalue\u001b[0m\u001b[0;34m)\u001b[0m\u001b[0;34m:\u001b[0m\u001b[0;34m\u001b[0m\u001b[0;34m\u001b[0m\u001b[0m\n\u001b[0;32m-> 4915\u001b[0;31m             \u001b[0mcom\u001b[0m\u001b[0;34m.\u001b[0m\u001b[0mrequire_length_match\u001b[0m\u001b[0;34m(\u001b[0m\u001b[0mvalue\u001b[0m\u001b[0;34m,\u001b[0m \u001b[0mself\u001b[0m\u001b[0;34m.\u001b[0m\u001b[0mindex\u001b[0m\u001b[0;34m)\u001b[0m\u001b[0;34m\u001b[0m\u001b[0;34m\u001b[0m\u001b[0m\n\u001b[0m\u001b[1;32m   4916\u001b[0m         \u001b[0;32mreturn\u001b[0m \u001b[0msanitize_array\u001b[0m\u001b[0;34m(\u001b[0m\u001b[0mvalue\u001b[0m\u001b[0;34m,\u001b[0m \u001b[0mself\u001b[0m\u001b[0;34m.\u001b[0m\u001b[0mindex\u001b[0m\u001b[0;34m,\u001b[0m \u001b[0mcopy\u001b[0m\u001b[0;34m=\u001b[0m\u001b[0;32mTrue\u001b[0m\u001b[0;34m,\u001b[0m \u001b[0mallow_2d\u001b[0m\u001b[0;34m=\u001b[0m\u001b[0;32mTrue\u001b[0m\u001b[0;34m)\u001b[0m\u001b[0;34m\u001b[0m\u001b[0;34m\u001b[0m\u001b[0m\n\u001b[1;32m   4917\u001b[0m \u001b[0;34m\u001b[0m\u001b[0m\n",
            "\u001b[0;32m/usr/local/lib/python3.10/dist-packages/pandas/core/common.py\u001b[0m in \u001b[0;36mrequire_length_match\u001b[0;34m(data, index)\u001b[0m\n\u001b[1;32m    569\u001b[0m     \"\"\"\n\u001b[1;32m    570\u001b[0m     \u001b[0;32mif\u001b[0m \u001b[0mlen\u001b[0m\u001b[0;34m(\u001b[0m\u001b[0mdata\u001b[0m\u001b[0;34m)\u001b[0m \u001b[0;34m!=\u001b[0m \u001b[0mlen\u001b[0m\u001b[0;34m(\u001b[0m\u001b[0mindex\u001b[0m\u001b[0;34m)\u001b[0m\u001b[0;34m:\u001b[0m\u001b[0;34m\u001b[0m\u001b[0;34m\u001b[0m\u001b[0m\n\u001b[0;32m--> 571\u001b[0;31m         raise ValueError(\n\u001b[0m\u001b[1;32m    572\u001b[0m             \u001b[0;34m\"Length of values \"\u001b[0m\u001b[0;34m\u001b[0m\u001b[0;34m\u001b[0m\u001b[0m\n\u001b[1;32m    573\u001b[0m             \u001b[0;34mf\"({len(data)}) \"\u001b[0m\u001b[0;34m\u001b[0m\u001b[0;34m\u001b[0m\u001b[0m\n",
            "\u001b[0;31mValueError\u001b[0m: Length of values (36) does not match length of index (18)"
          ]
        }
      ],
      "source": [
        "# IGNORE WARNINGS\n",
        "test['Predictions'] = true_predictions"
      ]
    },
    {
      "cell_type": "markdown",
      "metadata": {
        "id": "xbrJUx7z3hQF"
      },
      "source": [
        "# Check and plot predictions"
      ]
    },
    {
      "cell_type": "code",
      "execution_count": 103,
      "metadata": {
        "id": "SovbmFX1klBH",
        "outputId": "636d9824-40e0-4c9f-e4ab-f07deea3ec79",
        "colab": {
          "base_uri": "https://localhost:8080/",
          "height": 645
        }
      },
      "outputs": [
        {
          "output_type": "execute_result",
          "data": {
            "text/plain": [
              "              Sales\n",
              "DATE               \n",
              "2022-09-01  23629.0\n",
              "2022-10-01  24787.0\n",
              "2022-11-01  28645.0\n",
              "2022-12-01  39883.0\n",
              "2023-01-01  19405.0\n",
              "2023-02-01  20937.0\n",
              "2023-03-01  24963.0\n",
              "2023-04-01  24700.0\n",
              "2023-05-01  26557.0\n",
              "2023-06-01  24809.0\n",
              "2023-07-01  25364.0\n",
              "2023-08-01  27143.0\n",
              "2023-09-01  23840.0\n",
              "2023-10-01  24438.0\n",
              "2023-11-01  29150.0\n",
              "2023-12-01  41187.0\n",
              "2024-01-01  19420.0\n",
              "2024-02-01  21909.0"
            ],
            "text/html": [
              "\n",
              "  <div id=\"df-8c98e53d-bd0d-48cc-b4f4-2ca73944cf6a\" class=\"colab-df-container\">\n",
              "    <div>\n",
              "<style scoped>\n",
              "    .dataframe tbody tr th:only-of-type {\n",
              "        vertical-align: middle;\n",
              "    }\n",
              "\n",
              "    .dataframe tbody tr th {\n",
              "        vertical-align: top;\n",
              "    }\n",
              "\n",
              "    .dataframe thead th {\n",
              "        text-align: right;\n",
              "    }\n",
              "</style>\n",
              "<table border=\"1\" class=\"dataframe\">\n",
              "  <thead>\n",
              "    <tr style=\"text-align: right;\">\n",
              "      <th></th>\n",
              "      <th>Sales</th>\n",
              "    </tr>\n",
              "    <tr>\n",
              "      <th>DATE</th>\n",
              "      <th></th>\n",
              "    </tr>\n",
              "  </thead>\n",
              "  <tbody>\n",
              "    <tr>\n",
              "      <th>2022-09-01</th>\n",
              "      <td>23629.0</td>\n",
              "    </tr>\n",
              "    <tr>\n",
              "      <th>2022-10-01</th>\n",
              "      <td>24787.0</td>\n",
              "    </tr>\n",
              "    <tr>\n",
              "      <th>2022-11-01</th>\n",
              "      <td>28645.0</td>\n",
              "    </tr>\n",
              "    <tr>\n",
              "      <th>2022-12-01</th>\n",
              "      <td>39883.0</td>\n",
              "    </tr>\n",
              "    <tr>\n",
              "      <th>2023-01-01</th>\n",
              "      <td>19405.0</td>\n",
              "    </tr>\n",
              "    <tr>\n",
              "      <th>2023-02-01</th>\n",
              "      <td>20937.0</td>\n",
              "    </tr>\n",
              "    <tr>\n",
              "      <th>2023-03-01</th>\n",
              "      <td>24963.0</td>\n",
              "    </tr>\n",
              "    <tr>\n",
              "      <th>2023-04-01</th>\n",
              "      <td>24700.0</td>\n",
              "    </tr>\n",
              "    <tr>\n",
              "      <th>2023-05-01</th>\n",
              "      <td>26557.0</td>\n",
              "    </tr>\n",
              "    <tr>\n",
              "      <th>2023-06-01</th>\n",
              "      <td>24809.0</td>\n",
              "    </tr>\n",
              "    <tr>\n",
              "      <th>2023-07-01</th>\n",
              "      <td>25364.0</td>\n",
              "    </tr>\n",
              "    <tr>\n",
              "      <th>2023-08-01</th>\n",
              "      <td>27143.0</td>\n",
              "    </tr>\n",
              "    <tr>\n",
              "      <th>2023-09-01</th>\n",
              "      <td>23840.0</td>\n",
              "    </tr>\n",
              "    <tr>\n",
              "      <th>2023-10-01</th>\n",
              "      <td>24438.0</td>\n",
              "    </tr>\n",
              "    <tr>\n",
              "      <th>2023-11-01</th>\n",
              "      <td>29150.0</td>\n",
              "    </tr>\n",
              "    <tr>\n",
              "      <th>2023-12-01</th>\n",
              "      <td>41187.0</td>\n",
              "    </tr>\n",
              "    <tr>\n",
              "      <th>2024-01-01</th>\n",
              "      <td>19420.0</td>\n",
              "    </tr>\n",
              "    <tr>\n",
              "      <th>2024-02-01</th>\n",
              "      <td>21909.0</td>\n",
              "    </tr>\n",
              "  </tbody>\n",
              "</table>\n",
              "</div>\n",
              "    <div class=\"colab-df-buttons\">\n",
              "\n",
              "  <div class=\"colab-df-container\">\n",
              "    <button class=\"colab-df-convert\" onclick=\"convertToInteractive('df-8c98e53d-bd0d-48cc-b4f4-2ca73944cf6a')\"\n",
              "            title=\"Convert this dataframe to an interactive table.\"\n",
              "            style=\"display:none;\">\n",
              "\n",
              "  <svg xmlns=\"http://www.w3.org/2000/svg\" height=\"24px\" viewBox=\"0 -960 960 960\">\n",
              "    <path d=\"M120-120v-720h720v720H120Zm60-500h600v-160H180v160Zm220 220h160v-160H400v160Zm0 220h160v-160H400v160ZM180-400h160v-160H180v160Zm440 0h160v-160H620v160ZM180-180h160v-160H180v160Zm440 0h160v-160H620v160Z\"/>\n",
              "  </svg>\n",
              "    </button>\n",
              "\n",
              "  <style>\n",
              "    .colab-df-container {\n",
              "      display:flex;\n",
              "      gap: 12px;\n",
              "    }\n",
              "\n",
              "    .colab-df-convert {\n",
              "      background-color: #E8F0FE;\n",
              "      border: none;\n",
              "      border-radius: 50%;\n",
              "      cursor: pointer;\n",
              "      display: none;\n",
              "      fill: #1967D2;\n",
              "      height: 32px;\n",
              "      padding: 0 0 0 0;\n",
              "      width: 32px;\n",
              "    }\n",
              "\n",
              "    .colab-df-convert:hover {\n",
              "      background-color: #E2EBFA;\n",
              "      box-shadow: 0px 1px 2px rgba(60, 64, 67, 0.3), 0px 1px 3px 1px rgba(60, 64, 67, 0.15);\n",
              "      fill: #174EA6;\n",
              "    }\n",
              "\n",
              "    .colab-df-buttons div {\n",
              "      margin-bottom: 4px;\n",
              "    }\n",
              "\n",
              "    [theme=dark] .colab-df-convert {\n",
              "      background-color: #3B4455;\n",
              "      fill: #D2E3FC;\n",
              "    }\n",
              "\n",
              "    [theme=dark] .colab-df-convert:hover {\n",
              "      background-color: #434B5C;\n",
              "      box-shadow: 0px 1px 3px 1px rgba(0, 0, 0, 0.15);\n",
              "      filter: drop-shadow(0px 1px 2px rgba(0, 0, 0, 0.3));\n",
              "      fill: #FFFFFF;\n",
              "    }\n",
              "  </style>\n",
              "\n",
              "    <script>\n",
              "      const buttonEl =\n",
              "        document.querySelector('#df-8c98e53d-bd0d-48cc-b4f4-2ca73944cf6a button.colab-df-convert');\n",
              "      buttonEl.style.display =\n",
              "        google.colab.kernel.accessAllowed ? 'block' : 'none';\n",
              "\n",
              "      async function convertToInteractive(key) {\n",
              "        const element = document.querySelector('#df-8c98e53d-bd0d-48cc-b4f4-2ca73944cf6a');\n",
              "        const dataTable =\n",
              "          await google.colab.kernel.invokeFunction('convertToInteractive',\n",
              "                                                    [key], {});\n",
              "        if (!dataTable) return;\n",
              "\n",
              "        const docLinkHtml = 'Like what you see? Visit the ' +\n",
              "          '<a target=\"_blank\" href=https://colab.research.google.com/notebooks/data_table.ipynb>data table notebook</a>'\n",
              "          + ' to learn more about interactive tables.';\n",
              "        element.innerHTML = '';\n",
              "        dataTable['output_type'] = 'display_data';\n",
              "        await google.colab.output.renderOutput(dataTable, element);\n",
              "        const docLink = document.createElement('div');\n",
              "        docLink.innerHTML = docLinkHtml;\n",
              "        element.appendChild(docLink);\n",
              "      }\n",
              "    </script>\n",
              "  </div>\n",
              "\n",
              "\n",
              "<div id=\"df-180a9685-2bb5-4391-9f3d-566487fc9372\">\n",
              "  <button class=\"colab-df-quickchart\" onclick=\"quickchart('df-180a9685-2bb5-4391-9f3d-566487fc9372')\"\n",
              "            title=\"Suggest charts\"\n",
              "            style=\"display:none;\">\n",
              "\n",
              "<svg xmlns=\"http://www.w3.org/2000/svg\" height=\"24px\"viewBox=\"0 0 24 24\"\n",
              "     width=\"24px\">\n",
              "    <g>\n",
              "        <path d=\"M19 3H5c-1.1 0-2 .9-2 2v14c0 1.1.9 2 2 2h14c1.1 0 2-.9 2-2V5c0-1.1-.9-2-2-2zM9 17H7v-7h2v7zm4 0h-2V7h2v10zm4 0h-2v-4h2v4z\"/>\n",
              "    </g>\n",
              "</svg>\n",
              "  </button>\n",
              "\n",
              "<style>\n",
              "  .colab-df-quickchart {\n",
              "      --bg-color: #E8F0FE;\n",
              "      --fill-color: #1967D2;\n",
              "      --hover-bg-color: #E2EBFA;\n",
              "      --hover-fill-color: #174EA6;\n",
              "      --disabled-fill-color: #AAA;\n",
              "      --disabled-bg-color: #DDD;\n",
              "  }\n",
              "\n",
              "  [theme=dark] .colab-df-quickchart {\n",
              "      --bg-color: #3B4455;\n",
              "      --fill-color: #D2E3FC;\n",
              "      --hover-bg-color: #434B5C;\n",
              "      --hover-fill-color: #FFFFFF;\n",
              "      --disabled-bg-color: #3B4455;\n",
              "      --disabled-fill-color: #666;\n",
              "  }\n",
              "\n",
              "  .colab-df-quickchart {\n",
              "    background-color: var(--bg-color);\n",
              "    border: none;\n",
              "    border-radius: 50%;\n",
              "    cursor: pointer;\n",
              "    display: none;\n",
              "    fill: var(--fill-color);\n",
              "    height: 32px;\n",
              "    padding: 0;\n",
              "    width: 32px;\n",
              "  }\n",
              "\n",
              "  .colab-df-quickchart:hover {\n",
              "    background-color: var(--hover-bg-color);\n",
              "    box-shadow: 0 1px 2px rgba(60, 64, 67, 0.3), 0 1px 3px 1px rgba(60, 64, 67, 0.15);\n",
              "    fill: var(--button-hover-fill-color);\n",
              "  }\n",
              "\n",
              "  .colab-df-quickchart-complete:disabled,\n",
              "  .colab-df-quickchart-complete:disabled:hover {\n",
              "    background-color: var(--disabled-bg-color);\n",
              "    fill: var(--disabled-fill-color);\n",
              "    box-shadow: none;\n",
              "  }\n",
              "\n",
              "  .colab-df-spinner {\n",
              "    border: 2px solid var(--fill-color);\n",
              "    border-color: transparent;\n",
              "    border-bottom-color: var(--fill-color);\n",
              "    animation:\n",
              "      spin 1s steps(1) infinite;\n",
              "  }\n",
              "\n",
              "  @keyframes spin {\n",
              "    0% {\n",
              "      border-color: transparent;\n",
              "      border-bottom-color: var(--fill-color);\n",
              "      border-left-color: var(--fill-color);\n",
              "    }\n",
              "    20% {\n",
              "      border-color: transparent;\n",
              "      border-left-color: var(--fill-color);\n",
              "      border-top-color: var(--fill-color);\n",
              "    }\n",
              "    30% {\n",
              "      border-color: transparent;\n",
              "      border-left-color: var(--fill-color);\n",
              "      border-top-color: var(--fill-color);\n",
              "      border-right-color: var(--fill-color);\n",
              "    }\n",
              "    40% {\n",
              "      border-color: transparent;\n",
              "      border-right-color: var(--fill-color);\n",
              "      border-top-color: var(--fill-color);\n",
              "    }\n",
              "    60% {\n",
              "      border-color: transparent;\n",
              "      border-right-color: var(--fill-color);\n",
              "    }\n",
              "    80% {\n",
              "      border-color: transparent;\n",
              "      border-right-color: var(--fill-color);\n",
              "      border-bottom-color: var(--fill-color);\n",
              "    }\n",
              "    90% {\n",
              "      border-color: transparent;\n",
              "      border-bottom-color: var(--fill-color);\n",
              "    }\n",
              "  }\n",
              "</style>\n",
              "\n",
              "  <script>\n",
              "    async function quickchart(key) {\n",
              "      const quickchartButtonEl =\n",
              "        document.querySelector('#' + key + ' button');\n",
              "      quickchartButtonEl.disabled = true;  // To prevent multiple clicks.\n",
              "      quickchartButtonEl.classList.add('colab-df-spinner');\n",
              "      try {\n",
              "        const charts = await google.colab.kernel.invokeFunction(\n",
              "            'suggestCharts', [key], {});\n",
              "      } catch (error) {\n",
              "        console.error('Error during call to suggestCharts:', error);\n",
              "      }\n",
              "      quickchartButtonEl.classList.remove('colab-df-spinner');\n",
              "      quickchartButtonEl.classList.add('colab-df-quickchart-complete');\n",
              "    }\n",
              "    (() => {\n",
              "      let quickchartButtonEl =\n",
              "        document.querySelector('#df-180a9685-2bb5-4391-9f3d-566487fc9372 button');\n",
              "      quickchartButtonEl.style.display =\n",
              "        google.colab.kernel.accessAllowed ? 'block' : 'none';\n",
              "    })();\n",
              "  </script>\n",
              "</div>\n",
              "    </div>\n",
              "  </div>\n"
            ],
            "application/vnd.google.colaboratory.intrinsic+json": {
              "type": "dataframe",
              "variable_name": "test",
              "summary": "{\n  \"name\": \"test\",\n  \"rows\": 18,\n  \"fields\": [\n    {\n      \"column\": \"DATE\",\n      \"properties\": {\n        \"dtype\": \"date\",\n        \"min\": \"2022-09-01 00:00:00\",\n        \"max\": \"2024-02-01 00:00:00\",\n        \"num_unique_values\": 18,\n        \"samples\": [\n          \"2022-09-01 00:00:00\",\n          \"2022-10-01 00:00:00\",\n          \"2023-05-01 00:00:00\"\n        ],\n        \"semantic_type\": \"\",\n        \"description\": \"\"\n      }\n    },\n    {\n      \"column\": \"Sales\",\n      \"properties\": {\n        \"dtype\": \"number\",\n        \"std\": 5888.37495808978,\n        \"min\": 19405.0,\n        \"max\": 41187.0,\n        \"num_unique_values\": 18,\n        \"samples\": [\n          23629.0,\n          24787.0,\n          26557.0\n        ],\n        \"semantic_type\": \"\",\n        \"description\": \"\"\n      }\n    }\n  ]\n}"
            }
          },
          "metadata": {},
          "execution_count": 103
        }
      ],
      "source": [
        "# Print the test variable.\n",
        "test"
      ]
    },
    {
      "cell_type": "code",
      "source": [
        "test.plot(figsize=(12,8))"
      ],
      "metadata": {
        "id": "qKMv5UTJrQ92",
        "outputId": "19375e53-90a7-4825-9fff-0ea18f738d70",
        "colab": {
          "base_uri": "https://localhost:8080/",
          "height": 724
        }
      },
      "execution_count": 104,
      "outputs": [
        {
          "output_type": "execute_result",
          "data": {
            "text/plain": [
              "<Axes: xlabel='DATE'>"
            ]
          },
          "metadata": {},
          "execution_count": 104
        },
        {
          "output_type": "display_data",
          "data": {
            "text/plain": [
              "<Figure size 1200x800 with 1 Axes>"
            ],
            "image/png": "[encoded data removed]"
          },
          "metadata": {}
        }
      ]
    },
    {
      "cell_type": "code",
      "execution_count": null,
      "metadata": {
        "id": "GI2daeyCklBH"
      },
      "outputs": [],
      "source": [
        "# Your code to plot actual sales and predictions.\n",
        "\n"
      ]
    },
    {
      "cell_type": "markdown",
      "metadata": {
        "collapsed": true,
        "id": "m-G9Sj8QklBH"
      },
      "source": [
        "# Retrain and Forecasting"
      ]
    },
    {
      "cell_type": "code",
      "execution_count": 105,
      "metadata": {
        "id": "x_LWNZcsklBH"
      },
      "outputs": [],
      "source": [
        "full_scaler = MinMaxScaler()\n",
        "scaled_full_data = full_scaler.fit_transform(df)"
      ]
    },
    {
      "cell_type": "code",
      "execution_count": 106,
      "metadata": {
        "id": "_Bv8HMGUklBH"
      },
      "outputs": [],
      "source": [
        "length = 12 # Length of the output sequences (in number of timesteps)\n",
        "generator = TimeseriesGenerator(scaled_full_data,\n",
        "                                scaled_full_data, length=length, batch_size=1)"
      ]
    },
    {
      "cell_type": "code",
      "execution_count": 107,
      "metadata": {
        "id": "rur4U6DqklBH",
        "outputId": "0b90c2ea-8eaf-4c84-858f-a9c494b8d6e1",
        "colab": {
          "base_uri": "https://localhost:8080/"
        }
      },
      "outputs": [
        {
          "output_type": "stream",
          "name": "stderr",
          "text": [
            "WARNING:tensorflow:Layer lstm_3 will not use cuDNN kernels since it doesn't meet the criteria. It will use a generic GPU kernel as fallback when running on GPU.\n"
          ]
        }
      ],
      "source": [
        "#\n",
        "# Use any neural network model based on RNN\n",
        "#\n",
        "model = Sequential()\n",
        "model.add(LSTM(100, activation='relu', input_shape=(length, n_features)))\n",
        "model.add(Dense(1))"
      ]
    },
    {
      "cell_type": "code",
      "source": [
        "model.summary()"
      ],
      "metadata": {
        "id": "QVc7crjIriuJ",
        "outputId": "420ca878-9f75-4983-bcf0-518a98cc0ab5",
        "colab": {
          "base_uri": "https://localhost:8080/"
        }
      },
      "execution_count": 108,
      "outputs": [
        {
          "output_type": "stream",
          "name": "stdout",
          "text": [
            "Model: \"sequential_7\"\n",
            "_________________________________________________________________\n",
            " Layer (type)                Output Shape              Param #   \n",
            "=================================================================\n",
            " lstm_3 (LSTM)               (None, 100)               40800     \n",
            "                                                                 \n",
            " dense_7 (Dense)             (None, 1)                 101       \n",
            "                                                                 \n",
            "=================================================================\n",
            "Total params: 40901 (159.77 KB)\n",
            "Trainable params: 40901 (159.77 KB)\n",
            "Non-trainable params: 0 (0.00 Byte)\n",
            "_________________________________________________________________\n"
          ]
        }
      ]
    },
    {
      "cell_type": "code",
      "source": [
        "model.compile(optimizer='adam', loss='mse')"
      ],
      "metadata": {
        "id": "ne87Ncyzrm8e"
      },
      "execution_count": 109,
      "outputs": []
    },
    {
      "cell_type": "code",
      "source": [
        "early_stop = EarlyStopping(monitor='loss',patience=5)"
      ],
      "metadata": {
        "id": "aLK0Zfe5rpYk"
      },
      "execution_count": 110,
      "outputs": []
    },
    {
      "cell_type": "code",
      "source": [
        "# fit model\n",
        "# IGNORE THE WARNING\n",
        "\n",
        "history_2 =  model.fit(generator, epochs=30, callbacks=[early_stop])"
      ],
      "metadata": {
        "id": "QA1PBtBersvZ",
        "outputId": "94382b18-bf7f-4186-f754-5d408bb0894b",
        "colab": {
          "base_uri": "https://localhost:8080/"
        }
      },
      "execution_count": 111,
      "outputs": [
        {
          "output_type": "stream",
          "name": "stdout",
          "text": [
            "Epoch 1/30\n",
            "374/374 [==============================] - 8s 17ms/step - loss: 0.0178\n",
            "Epoch 2/30\n",
            "374/374 [==============================] - 7s 19ms/step - loss: 0.0123\n",
            "Epoch 3/30\n",
            "374/374 [==============================] - 6s 16ms/step - loss: 0.0078\n",
            "Epoch 4/30\n",
            "374/374 [==============================] - 6s 16ms/step - loss: 0.0084\n",
            "Epoch 5/30\n",
            "374/374 [==============================] - 7s 19ms/step - loss: 0.0062\n",
            "Epoch 6/30\n",
            "374/374 [==============================] - 6s 16ms/step - loss: 0.0052\n",
            "Epoch 7/30\n",
            "374/374 [==============================] - 7s 19ms/step - loss: 0.0044\n",
            "Epoch 8/30\n",
            "374/374 [==============================] - 7s 18ms/step - loss: 0.0040\n",
            "Epoch 9/30\n",
            "374/374 [==============================] - 7s 18ms/step - loss: 0.0046\n",
            "Epoch 10/30\n",
            "374/374 [==============================] - 7s 20ms/step - loss: 0.0038\n",
            "Epoch 11/30\n",
            "374/374 [==============================] - 6s 17ms/step - loss: 0.0034\n",
            "Epoch 12/30\n",
            "374/374 [==============================] - 7s 19ms/step - loss: 0.0034\n",
            "Epoch 13/30\n",
            "374/374 [==============================] - 6s 16ms/step - loss: 0.0031\n",
            "Epoch 14/30\n",
            "374/374 [==============================] - 7s 19ms/step - loss: 0.0032\n",
            "Epoch 15/30\n",
            "374/374 [==============================] - 7s 18ms/step - loss: 0.0029\n",
            "Epoch 16/30\n",
            "374/374 [==============================] - 6s 16ms/step - loss: 0.0029\n",
            "Epoch 17/30\n",
            "374/374 [==============================] - 7s 19ms/step - loss: 0.0028\n",
            "Epoch 18/30\n",
            "374/374 [==============================] - 6s 17ms/step - loss: 0.0027\n",
            "Epoch 19/30\n",
            "374/374 [==============================] - 7s 19ms/step - loss: 0.0026\n",
            "Epoch 20/30\n",
            "374/374 [==============================] - 6s 16ms/step - loss: 0.0024\n",
            "Epoch 21/30\n",
            "374/374 [==============================] - 7s 20ms/step - loss: 0.0024\n",
            "Epoch 22/30\n",
            "374/374 [==============================] - 7s 20ms/step - loss: 0.0024\n",
            "Epoch 23/30\n",
            "374/374 [==============================] - 6s 16ms/step - loss: 0.0023\n",
            "Epoch 24/30\n",
            "374/374 [==============================] - 7s 20ms/step - loss: 0.0023\n",
            "Epoch 25/30\n",
            "374/374 [==============================] - 7s 18ms/step - loss: 0.0022\n",
            "Epoch 26/30\n",
            "374/374 [==============================] - 9s 23ms/step - loss: 0.0024\n",
            "Epoch 27/30\n",
            "374/374 [==============================] - 6s 17ms/step - loss: 0.0020\n",
            "Epoch 28/30\n",
            "374/374 [==============================] - 9s 23ms/step - loss: 0.0020\n",
            "Epoch 29/30\n",
            "374/374 [==============================] - 6s 17ms/step - loss: 0.0019\n",
            "Epoch 30/30\n",
            "374/374 [==============================] - 7s 20ms/step - loss: 0.0018\n"
          ]
        }
      ]
    },
    {
      "cell_type": "code",
      "source": [
        "# printing Loss for the neural network training process\n",
        "\n",
        "history_dict = history_2.history\n",
        "plt.style.use('seaborn-darkgrid')\n",
        "\n",
        "acc_values = history_dict['loss']\n",
        "#val_acc_values = history_dict['val_loss']\n",
        "epochs = range(1, len(acc_values) + 1)\n",
        "\n",
        "plt.figure(num=1, figsize=(15,7))\n",
        "plt.plot(epochs, acc_values, 'bo', label='Training loss')\n",
        "#plt.plot(epochs, val_acc_values, 'b', label='Validation loss')\n",
        "plt.xlabel('Epochs')\n",
        "plt.ylabel('Loss (mse)')\n",
        "plt.legend()\n",
        "\n",
        "plt.show()"
      ],
      "metadata": {
        "id": "ekjo8EDLslNT",
        "outputId": "08d8c494-8420-4beb-a846-758fa8d4a339",
        "colab": {
          "base_uri": "https://localhost:8080/",
          "height": 612
        }
      },
      "execution_count": 112,
      "outputs": [
        {
          "output_type": "stream",
          "name": "stderr",
          "text": [
            "<ipython-input-112-4b14c8a28f51>:4: MatplotlibDeprecationWarning: The seaborn styles shipped by Matplotlib are deprecated since 3.6, as they no longer correspond to the styles shipped by seaborn. However, they will remain available as 'seaborn-v0_8-<style>'. Alternatively, directly use the seaborn API instead.\n",
            "  plt.style.use('seaborn-darkgrid')\n"
          ]
        },
        {
          "output_type": "display_data",
          "data": {
            "text/plain": [
              "<Figure size 1500x700 with 1 Axes>"
            ],
            "image/png": "[encoded data removed]"
          },
          "metadata": {}
        }
      ]
    },
    {
      "cell_type": "code",
      "execution_count": 114,
      "metadata": {
        "id": "sLRI3xk6klBH",
        "outputId": "65ceaea5-9163-4913-fb01-722773070e9e",
        "colab": {
          "base_uri": "https://localhost:8080/"
        }
      },
      "outputs": [
        {
          "output_type": "stream",
          "name": "stdout",
          "text": [
            "1/1 [==============================] - 0s 271ms/step\n",
            "1/1 [==============================] - 0s 33ms/step\n",
            "1/1 [==============================] - 0s 76ms/step\n",
            "1/1 [==============================] - 0s 193ms/step\n",
            "1/1 [==============================] - 0s 116ms/step\n",
            "1/1 [==============================] - 0s 57ms/step\n",
            "1/1 [==============================] - 0s 69ms/step\n",
            "1/1 [==============================] - 0s 71ms/step\n",
            "1/1 [==============================] - 0s 36ms/step\n",
            "1/1 [==============================] - 0s 49ms/step\n",
            "1/1 [==============================] - 0s 57ms/step\n",
            "1/1 [==============================] - 0s 36ms/step\n"
          ]
        }
      ],
      "source": [
        "forecast = []\n",
        "# Replace periods with whatever forecast length you want\n",
        "periods = 12\n",
        "\n",
        "first_eval_batch = scaled_full_data[-length:]\n",
        "current_batch = first_eval_batch.reshape((1, length, n_features))\n",
        "\n",
        "for i in range(periods):\n",
        "\n",
        "    # get prediction 1 time stamp ahead ([0] is for\n",
        "    # grabbing just the number instead of [array])\n",
        "    current_pred = model.predict(current_batch)[0]\n",
        "\n",
        "    # store prediction\n",
        "    forecast.append(current_pred)\n",
        "\n",
        "    # update batch to now include prediction and drop first value\n",
        "    current_batch = np.append(current_batch[:,1:,:],[[current_pred]],axis=1)"
      ]
    },
    {
      "cell_type": "code",
      "execution_count": 115,
      "metadata": {
        "id": "NrOvllWLklBI"
      },
      "outputs": [],
      "source": [
        "forecast = scaler.inverse_transform(forecast)"
      ]
    },
    {
      "cell_type": "code",
      "source": [
        "forecast"
      ],
      "metadata": {
        "id": "9lboRCk0st4-",
        "outputId": "bbeed356-ef72-4876-933a-98c24779e4d4",
        "colab": {
          "base_uri": "https://localhost:8080/"
        }
      },
      "execution_count": 116,
      "outputs": [
        {
          "output_type": "execute_result",
          "data": {
            "text/plain": [
              "array([[23365.64221692],\n",
              "       [24131.51008964],\n",
              "       [25969.28219199],\n",
              "       [25552.6179142 ],\n",
              "       [26035.64571023],\n",
              "       [27544.63983703],\n",
              "       [25716.36439896],\n",
              "       [25778.93053222],\n",
              "       [29042.33146048],\n",
              "       [41690.41971064],\n",
              "       [19384.62304497],\n",
              "       [21695.67866993]])"
            ]
          },
          "metadata": {},
          "execution_count": 116
        }
      ]
    },
    {
      "cell_type": "markdown",
      "metadata": {
        "id": "SX2a204lklBI"
      },
      "source": [
        "### Creating new timestamp index with pandas."
      ]
    },
    {
      "cell_type": "code",
      "execution_count": 117,
      "metadata": {
        "id": "TKFbxg4nklBI",
        "outputId": "fe332edb-6937-4e45-eb8a-2535842071fb",
        "colab": {
          "base_uri": "https://localhost:8080/",
          "height": 455
        }
      },
      "outputs": [
        {
          "output_type": "execute_result",
          "data": {
            "text/plain": [
              "              Sales\n",
              "DATE               \n",
              "1992-01-01   6938.0\n",
              "1992-02-01   7524.0\n",
              "1992-03-01   8475.0\n",
              "1992-04-01   9401.0\n",
              "1992-05-01   9558.0\n",
              "...             ...\n",
              "2023-10-01  24438.0\n",
              "2023-11-01  29150.0\n",
              "2023-12-01  41187.0\n",
              "2024-01-01  19420.0\n",
              "2024-02-01  21909.0\n",
              "\n",
              "[386 rows x 1 columns]"
            ],
            "text/html": [
              "\n",
              "  <div id=\"df-8a1a32e6-9209-40b6-8679-0a4712f3c037\" class=\"colab-df-container\">\n",
              "    <div>\n",
              "<style scoped>\n",
              "    .dataframe tbody tr th:only-of-type {\n",
              "        vertical-align: middle;\n",
              "    }\n",
              "\n",
              "    .dataframe tbody tr th {\n",
              "        vertical-align: top;\n",
              "    }\n",
              "\n",
              "    .dataframe thead th {\n",
              "        text-align: right;\n",
              "    }\n",
              "</style>\n",
              "<table border=\"1\" class=\"dataframe\">\n",
              "  <thead>\n",
              "    <tr style=\"text-align: right;\">\n",
              "      <th></th>\n",
              "      <th>Sales</th>\n",
              "    </tr>\n",
              "    <tr>\n",
              "      <th>DATE</th>\n",
              "      <th></th>\n",
              "    </tr>\n",
              "  </thead>\n",
              "  <tbody>\n",
              "    <tr>\n",
              "      <th>1992-01-01</th>\n",
              "      <td>6938.0</td>\n",
              "    </tr>\n",
              "    <tr>\n",
              "      <th>1992-02-01</th>\n",
              "      <td>7524.0</td>\n",
              "    </tr>\n",
              "    <tr>\n",
              "      <th>1992-03-01</th>\n",
              "      <td>8475.0</td>\n",
              "    </tr>\n",
              "    <tr>\n",
              "      <th>1992-04-01</th>\n",
              "      <td>9401.0</td>\n",
              "    </tr>\n",
              "    <tr>\n",
              "      <th>1992-05-01</th>\n",
              "      <td>9558.0</td>\n",
              "    </tr>\n",
              "    <tr>\n",
              "      <th>...</th>\n",
              "      <td>...</td>\n",
              "    </tr>\n",
              "    <tr>\n",
              "      <th>2023-10-01</th>\n",
              "      <td>24438.0</td>\n",
              "    </tr>\n",
              "    <tr>\n",
              "      <th>2023-11-01</th>\n",
              "      <td>29150.0</td>\n",
              "    </tr>\n",
              "    <tr>\n",
              "      <th>2023-12-01</th>\n",
              "      <td>41187.0</td>\n",
              "    </tr>\n",
              "    <tr>\n",
              "      <th>2024-01-01</th>\n",
              "      <td>19420.0</td>\n",
              "    </tr>\n",
              "    <tr>\n",
              "      <th>2024-02-01</th>\n",
              "      <td>21909.0</td>\n",
              "    </tr>\n",
              "  </tbody>\n",
              "</table>\n",
              "<p>386 rows × 1 columns</p>\n",
              "</div>\n",
              "    <div class=\"colab-df-buttons\">\n",
              "\n",
              "  <div class=\"colab-df-container\">\n",
              "    <button class=\"colab-df-convert\" onclick=\"convertToInteractive('df-8a1a32e6-9209-40b6-8679-0a4712f3c037')\"\n",
              "            title=\"Convert this dataframe to an interactive table.\"\n",
              "            style=\"display:none;\">\n",
              "\n",
              "  <svg xmlns=\"http://www.w3.org/2000/svg\" height=\"24px\" viewBox=\"0 -960 960 960\">\n",
              "    <path d=\"M120-120v-720h720v720H120Zm60-500h600v-160H180v160Zm220 220h160v-160H400v160Zm0 220h160v-160H400v160ZM180-400h160v-160H180v160Zm440 0h160v-160H620v160ZM180-180h160v-160H180v160Zm440 0h160v-160H620v160Z\"/>\n",
              "  </svg>\n",
              "    </button>\n",
              "\n",
              "  <style>\n",
              "    .colab-df-container {\n",
              "      display:flex;\n",
              "      gap: 12px;\n",
              "    }\n",
              "\n",
              "    .colab-df-convert {\n",
              "      background-color: #E8F0FE;\n",
              "      border: none;\n",
              "      border-radius: 50%;\n",
              "      cursor: pointer;\n",
              "      display: none;\n",
              "      fill: #1967D2;\n",
              "      height: 32px;\n",
              "      padding: 0 0 0 0;\n",
              "      width: 32px;\n",
              "    }\n",
              "\n",
              "    .colab-df-convert:hover {\n",
              "      background-color: #E2EBFA;\n",
              "      box-shadow: 0px 1px 2px rgba(60, 64, 67, 0.3), 0px 1px 3px 1px rgba(60, 64, 67, 0.15);\n",
              "      fill: #174EA6;\n",
              "    }\n",
              "\n",
              "    .colab-df-buttons div {\n",
              "      margin-bottom: 4px;\n",
              "    }\n",
              "\n",
              "    [theme=dark] .colab-df-convert {\n",
              "      background-color: #3B4455;\n",
              "      fill: #D2E3FC;\n",
              "    }\n",
              "\n",
              "    [theme=dark] .colab-df-convert:hover {\n",
              "      background-color: #434B5C;\n",
              "      box-shadow: 0px 1px 3px 1px rgba(0, 0, 0, 0.15);\n",
              "      filter: drop-shadow(0px 1px 2px rgba(0, 0, 0, 0.3));\n",
              "      fill: #FFFFFF;\n",
              "    }\n",
              "  </style>\n",
              "\n",
              "    <script>\n",
              "      const buttonEl =\n",
              "        document.querySelector('#df-8a1a32e6-9209-40b6-8679-0a4712f3c037 button.colab-df-convert');\n",
              "      buttonEl.style.display =\n",
              "        google.colab.kernel.accessAllowed ? 'block' : 'none';\n",
              "\n",
              "      async function convertToInteractive(key) {\n",
              "        const element = document.querySelector('#df-8a1a32e6-9209-40b6-8679-0a4712f3c037');\n",
              "        const dataTable =\n",
              "          await google.colab.kernel.invokeFunction('convertToInteractive',\n",
              "                                                    [key], {});\n",
              "        if (!dataTable) return;\n",
              "\n",
              "        const docLinkHtml = 'Like what you see? Visit the ' +\n",
              "          '<a target=\"_blank\" href=https://colab.research.google.com/notebooks/data_table.ipynb>data table notebook</a>'\n",
              "          + ' to learn more about interactive tables.';\n",
              "        element.innerHTML = '';\n",
              "        dataTable['output_type'] = 'display_data';\n",
              "        await google.colab.output.renderOutput(dataTable, element);\n",
              "        const docLink = document.createElement('div');\n",
              "        docLink.innerHTML = docLinkHtml;\n",
              "        element.appendChild(docLink);\n",
              "      }\n",
              "    </script>\n",
              "  </div>\n",
              "\n",
              "\n",
              "<div id=\"df-d3570924-7c3a-4b44-baab-bfaf7f63a75f\">\n",
              "  <button class=\"colab-df-quickchart\" onclick=\"quickchart('df-d3570924-7c3a-4b44-baab-bfaf7f63a75f')\"\n",
              "            title=\"Suggest charts\"\n",
              "            style=\"display:none;\">\n",
              "\n",
              "<svg xmlns=\"http://www.w3.org/2000/svg\" height=\"24px\"viewBox=\"0 0 24 24\"\n",
              "     width=\"24px\">\n",
              "    <g>\n",
              "        <path d=\"M19 3H5c-1.1 0-2 .9-2 2v14c0 1.1.9 2 2 2h14c1.1 0 2-.9 2-2V5c0-1.1-.9-2-2-2zM9 17H7v-7h2v7zm4 0h-2V7h2v10zm4 0h-2v-4h2v4z\"/>\n",
              "    </g>\n",
              "</svg>\n",
              "  </button>\n",
              "\n",
              "<style>\n",
              "  .colab-df-quickchart {\n",
              "      --bg-color: #E8F0FE;\n",
              "      --fill-color: #1967D2;\n",
              "      --hover-bg-color: #E2EBFA;\n",
              "      --hover-fill-color: #174EA6;\n",
              "      --disabled-fill-color: #AAA;\n",
              "      --disabled-bg-color: #DDD;\n",
              "  }\n",
              "\n",
              "  [theme=dark] .colab-df-quickchart {\n",
              "      --bg-color: #3B4455;\n",
              "      --fill-color: #D2E3FC;\n",
              "      --hover-bg-color: #434B5C;\n",
              "      --hover-fill-color: #FFFFFF;\n",
              "      --disabled-bg-color: #3B4455;\n",
              "      --disabled-fill-color: #666;\n",
              "  }\n",
              "\n",
              "  .colab-df-quickchart {\n",
              "    background-color: var(--bg-color);\n",
              "    border: none;\n",
              "    border-radius: 50%;\n",
              "    cursor: pointer;\n",
              "    display: none;\n",
              "    fill: var(--fill-color);\n",
              "    height: 32px;\n",
              "    padding: 0;\n",
              "    width: 32px;\n",
              "  }\n",
              "\n",
              "  .colab-df-quickchart:hover {\n",
              "    background-color: var(--hover-bg-color);\n",
              "    box-shadow: 0 1px 2px rgba(60, 64, 67, 0.3), 0 1px 3px 1px rgba(60, 64, 67, 0.15);\n",
              "    fill: var(--button-hover-fill-color);\n",
              "  }\n",
              "\n",
              "  .colab-df-quickchart-complete:disabled,\n",
              "  .colab-df-quickchart-complete:disabled:hover {\n",
              "    background-color: var(--disabled-bg-color);\n",
              "    fill: var(--disabled-fill-color);\n",
              "    box-shadow: none;\n",
              "  }\n",
              "\n",
              "  .colab-df-spinner {\n",
              "    border: 2px solid var(--fill-color);\n",
              "    border-color: transparent;\n",
              "    border-bottom-color: var(--fill-color);\n",
              "    animation:\n",
              "      spin 1s steps(1) infinite;\n",
              "  }\n",
              "\n",
              "  @keyframes spin {\n",
              "    0% {\n",
              "      border-color: transparent;\n",
              "      border-bottom-color: var(--fill-color);\n",
              "      border-left-color: var(--fill-color);\n",
              "    }\n",
              "    20% {\n",
              "      border-color: transparent;\n",
              "      border-left-color: var(--fill-color);\n",
              "      border-top-color: var(--fill-color);\n",
              "    }\n",
              "    30% {\n",
              "      border-color: transparent;\n",
              "      border-left-color: var(--fill-color);\n",
              "      border-top-color: var(--fill-color);\n",
              "      border-right-color: var(--fill-color);\n",
              "    }\n",
              "    40% {\n",
              "      border-color: transparent;\n",
              "      border-right-color: var(--fill-color);\n",
              "      border-top-color: var(--fill-color);\n",
              "    }\n",
              "    60% {\n",
              "      border-color: transparent;\n",
              "      border-right-color: var(--fill-color);\n",
              "    }\n",
              "    80% {\n",
              "      border-color: transparent;\n",
              "      border-right-color: var(--fill-color);\n",
              "      border-bottom-color: var(--fill-color);\n",
              "    }\n",
              "    90% {\n",
              "      border-color: transparent;\n",
              "      border-bottom-color: var(--fill-color);\n",
              "    }\n",
              "  }\n",
              "</style>\n",
              "\n",
              "  <script>\n",
              "    async function quickchart(key) {\n",
              "      const quickchartButtonEl =\n",
              "        document.querySelector('#' + key + ' button');\n",
              "      quickchartButtonEl.disabled = true;  // To prevent multiple clicks.\n",
              "      quickchartButtonEl.classList.add('colab-df-spinner');\n",
              "      try {\n",
              "        const charts = await google.colab.kernel.invokeFunction(\n",
              "            'suggestCharts', [key], {});\n",
              "      } catch (error) {\n",
              "        console.error('Error during call to suggestCharts:', error);\n",
              "      }\n",
              "      quickchartButtonEl.classList.remove('colab-df-spinner');\n",
              "      quickchartButtonEl.classList.add('colab-df-quickchart-complete');\n",
              "    }\n",
              "    (() => {\n",
              "      let quickchartButtonEl =\n",
              "        document.querySelector('#df-d3570924-7c3a-4b44-baab-bfaf7f63a75f button');\n",
              "      quickchartButtonEl.style.display =\n",
              "        google.colab.kernel.accessAllowed ? 'block' : 'none';\n",
              "    })();\n",
              "  </script>\n",
              "</div>\n",
              "    </div>\n",
              "  </div>\n"
            ],
            "application/vnd.google.colaboratory.intrinsic+json": {
              "type": "dataframe",
              "variable_name": "df",
              "summary": "{\n  \"name\": \"df\",\n  \"rows\": 386,\n  \"fields\": [\n    {\n      \"column\": \"DATE\",\n      \"properties\": {\n        \"dtype\": \"date\",\n        \"min\": \"1992-01-01 00:00:00\",\n        \"max\": \"2024-02-01 00:00:00\",\n        \"num_unique_values\": 386,\n        \"samples\": [\n          \"2020-01-01 00:00:00\",\n          \"2017-08-01 00:00:00\",\n          \"1999-07-01 00:00:00\"\n        ],\n        \"semantic_type\": \"\",\n        \"description\": \"\"\n      }\n    },\n    {\n      \"column\": \"Sales\",\n      \"properties\": {\n        \"dtype\": \"number\",\n        \"std\": 6075.312927137761,\n        \"min\": 2752.0,\n        \"max\": 41187.0,\n        \"num_unique_values\": 381,\n        \"samples\": [\n          19867.0,\n          19084.0,\n          20002.0\n        ],\n        \"semantic_type\": \"\",\n        \"description\": \"\"\n      }\n    }\n  ]\n}"
            }
          },
          "metadata": {},
          "execution_count": 117
        }
      ],
      "source": [
        "df"
      ]
    },
    {
      "cell_type": "code",
      "execution_count": 118,
      "metadata": {
        "id": "uXqTleSCklBI"
      },
      "outputs": [],
      "source": [
        "forecast_index = pd.date_range(start='2020-02-01',periods=periods,freq='MS')"
      ]
    },
    {
      "cell_type": "code",
      "execution_count": 119,
      "metadata": {
        "id": "0M8HAJ2BklBI"
      },
      "outputs": [],
      "source": [
        "forecast_df = pd.DataFrame(data=forecast,index=forecast_index,\n",
        "                           columns=['Forecast'])"
      ]
    },
    {
      "cell_type": "code",
      "execution_count": 120,
      "metadata": {
        "id": "FgbJpcIAklBI",
        "outputId": "9d71b839-3886-4ba7-ccd9-75725416d37c",
        "colab": {
          "base_uri": "https://localhost:8080/",
          "height": 426
        }
      },
      "outputs": [
        {
          "output_type": "execute_result",
          "data": {
            "text/plain": [
              "                Forecast\n",
              "2020-02-01  23365.642217\n",
              "2020-03-01  24131.510090\n",
              "2020-04-01  25969.282192\n",
              "2020-05-01  25552.617914\n",
              "2020-06-01  26035.645710\n",
              "2020-07-01  27544.639837\n",
              "2020-08-01  25716.364399\n",
              "2020-09-01  25778.930532\n",
              "2020-10-01  29042.331460\n",
              "2020-11-01  41690.419711\n",
              "2020-12-01  19384.623045\n",
              "2021-01-01  21695.678670"
            ],
            "text/html": [
              "\n",
              "  <div id=\"df-31aa89e6-8ad1-4d7c-aca9-c5ca4d33a2b0\" class=\"colab-df-container\">\n",
              "    <div>\n",
              "<style scoped>\n",
              "    .dataframe tbody tr th:only-of-type {\n",
              "        vertical-align: middle;\n",
              "    }\n",
              "\n",
              "    .dataframe tbody tr th {\n",
              "        vertical-align: top;\n",
              "    }\n",
              "\n",
              "    .dataframe thead th {\n",
              "        text-align: right;\n",
              "    }\n",
              "</style>\n",
              "<table border=\"1\" class=\"dataframe\">\n",
              "  <thead>\n",
              "    <tr style=\"text-align: right;\">\n",
              "      <th></th>\n",
              "      <th>Forecast</th>\n",
              "    </tr>\n",
              "  </thead>\n",
              "  <tbody>\n",
              "    <tr>\n",
              "      <th>2020-02-01</th>\n",
              "      <td>23365.642217</td>\n",
              "    </tr>\n",
              "    <tr>\n",
              "      <th>2020-03-01</th>\n",
              "      <td>24131.510090</td>\n",
              "    </tr>\n",
              "    <tr>\n",
              "      <th>2020-04-01</th>\n",
              "      <td>25969.282192</td>\n",
              "    </tr>\n",
              "    <tr>\n",
              "      <th>2020-05-01</th>\n",
              "      <td>25552.617914</td>\n",
              "    </tr>\n",
              "    <tr>\n",
              "      <th>2020-06-01</th>\n",
              "      <td>26035.645710</td>\n",
              "    </tr>\n",
              "    <tr>\n",
              "      <th>2020-07-01</th>\n",
              "      <td>27544.639837</td>\n",
              "    </tr>\n",
              "    <tr>\n",
              "      <th>2020-08-01</th>\n",
              "      <td>25716.364399</td>\n",
              "    </tr>\n",
              "    <tr>\n",
              "      <th>2020-09-01</th>\n",
              "      <td>25778.930532</td>\n",
              "    </tr>\n",
              "    <tr>\n",
              "      <th>2020-10-01</th>\n",
              "      <td>29042.331460</td>\n",
              "    </tr>\n",
              "    <tr>\n",
              "      <th>2020-11-01</th>\n",
              "      <td>41690.419711</td>\n",
              "    </tr>\n",
              "    <tr>\n",
              "      <th>2020-12-01</th>\n",
              "      <td>19384.623045</td>\n",
              "    </tr>\n",
              "    <tr>\n",
              "      <th>2021-01-01</th>\n",
              "      <td>21695.678670</td>\n",
              "    </tr>\n",
              "  </tbody>\n",
              "</table>\n",
              "</div>\n",
              "    <div class=\"colab-df-buttons\">\n",
              "\n",
              "  <div class=\"colab-df-container\">\n",
              "    <button class=\"colab-df-convert\" onclick=\"convertToInteractive('df-31aa89e6-8ad1-4d7c-aca9-c5ca4d33a2b0')\"\n",
              "            title=\"Convert this dataframe to an interactive table.\"\n",
              "            style=\"display:none;\">\n",
              "\n",
              "  <svg xmlns=\"http://www.w3.org/2000/svg\" height=\"24px\" viewBox=\"0 -960 960 960\">\n",
              "    <path d=\"M120-120v-720h720v720H120Zm60-500h600v-160H180v160Zm220 220h160v-160H400v160Zm0 220h160v-160H400v160ZM180-400h160v-160H180v160Zm440 0h160v-160H620v160ZM180-180h160v-160H180v160Zm440 0h160v-160H620v160Z\"/>\n",
              "  </svg>\n",
              "    </button>\n",
              "\n",
              "  <style>\n",
              "    .colab-df-container {\n",
              "      display:flex;\n",
              "      gap: 12px;\n",
              "    }\n",
              "\n",
              "    .colab-df-convert {\n",
              "      background-color: #E8F0FE;\n",
              "      border: none;\n",
              "      border-radius: 50%;\n",
              "      cursor: pointer;\n",
              "      display: none;\n",
              "      fill: #1967D2;\n",
              "      height: 32px;\n",
              "      padding: 0 0 0 0;\n",
              "      width: 32px;\n",
              "    }\n",
              "\n",
              "    .colab-df-convert:hover {\n",
              "      background-color: #E2EBFA;\n",
              "      box-shadow: 0px 1px 2px rgba(60, 64, 67, 0.3), 0px 1px 3px 1px rgba(60, 64, 67, 0.15);\n",
              "      fill: #174EA6;\n",
              "    }\n",
              "\n",
              "    .colab-df-buttons div {\n",
              "      margin-bottom: 4px;\n",
              "    }\n",
              "\n",
              "    [theme=dark] .colab-df-convert {\n",
              "      background-color: #3B4455;\n",
              "      fill: #D2E3FC;\n",
              "    }\n",
              "\n",
              "    [theme=dark] .colab-df-convert:hover {\n",
              "      background-color: #434B5C;\n",
              "      box-shadow: 0px 1px 3px 1px rgba(0, 0, 0, 0.15);\n",
              "      filter: drop-shadow(0px 1px 2px rgba(0, 0, 0, 0.3));\n",
              "      fill: #FFFFFF;\n",
              "    }\n",
              "  </style>\n",
              "\n",
              "    <script>\n",
              "      const buttonEl =\n",
              "        document.querySelector('#df-31aa89e6-8ad1-4d7c-aca9-c5ca4d33a2b0 button.colab-df-convert');\n",
              "      buttonEl.style.display =\n",
              "        google.colab.kernel.accessAllowed ? 'block' : 'none';\n",
              "\n",
              "      async function convertToInteractive(key) {\n",
              "        const element = document.querySelector('#df-31aa89e6-8ad1-4d7c-aca9-c5ca4d33a2b0');\n",
              "        const dataTable =\n",
              "          await google.colab.kernel.invokeFunction('convertToInteractive',\n",
              "                                                    [key], {});\n",
              "        if (!dataTable) return;\n",
              "\n",
              "        const docLinkHtml = 'Like what you see? Visit the ' +\n",
              "          '<a target=\"_blank\" href=https://colab.research.google.com/notebooks/data_table.ipynb>data table notebook</a>'\n",
              "          + ' to learn more about interactive tables.';\n",
              "        element.innerHTML = '';\n",
              "        dataTable['output_type'] = 'display_data';\n",
              "        await google.colab.output.renderOutput(dataTable, element);\n",
              "        const docLink = document.createElement('div');\n",
              "        docLink.innerHTML = docLinkHtml;\n",
              "        element.appendChild(docLink);\n",
              "      }\n",
              "    </script>\n",
              "  </div>\n",
              "\n",
              "\n",
              "<div id=\"df-ae714664-f9b8-4ed7-8198-819e86e87b01\">\n",
              "  <button class=\"colab-df-quickchart\" onclick=\"quickchart('df-ae714664-f9b8-4ed7-8198-819e86e87b01')\"\n",
              "            title=\"Suggest charts\"\n",
              "            style=\"display:none;\">\n",
              "\n",
              "<svg xmlns=\"http://www.w3.org/2000/svg\" height=\"24px\"viewBox=\"0 0 24 24\"\n",
              "     width=\"24px\">\n",
              "    <g>\n",
              "        <path d=\"M19 3H5c-1.1 0-2 .9-2 2v14c0 1.1.9 2 2 2h14c1.1 0 2-.9 2-2V5c0-1.1-.9-2-2-2zM9 17H7v-7h2v7zm4 0h-2V7h2v10zm4 0h-2v-4h2v4z\"/>\n",
              "    </g>\n",
              "</svg>\n",
              "  </button>\n",
              "\n",
              "<style>\n",
              "  .colab-df-quickchart {\n",
              "      --bg-color: #E8F0FE;\n",
              "      --fill-color: #1967D2;\n",
              "      --hover-bg-color: #E2EBFA;\n",
              "      --hover-fill-color: #174EA6;\n",
              "      --disabled-fill-color: #AAA;\n",
              "      --disabled-bg-color: #DDD;\n",
              "  }\n",
              "\n",
              "  [theme=dark] .colab-df-quickchart {\n",
              "      --bg-color: #3B4455;\n",
              "      --fill-color: #D2E3FC;\n",
              "      --hover-bg-color: #434B5C;\n",
              "      --hover-fill-color: #FFFFFF;\n",
              "      --disabled-bg-color: #3B4455;\n",
              "      --disabled-fill-color: #666;\n",
              "  }\n",
              "\n",
              "  .colab-df-quickchart {\n",
              "    background-color: var(--bg-color);\n",
              "    border: none;\n",
              "    border-radius: 50%;\n",
              "    cursor: pointer;\n",
              "    display: none;\n",
              "    fill: var(--fill-color);\n",
              "    height: 32px;\n",
              "    padding: 0;\n",
              "    width: 32px;\n",
              "  }\n",
              "\n",
              "  .colab-df-quickchart:hover {\n",
              "    background-color: var(--hover-bg-color);\n",
              "    box-shadow: 0 1px 2px rgba(60, 64, 67, 0.3), 0 1px 3px 1px rgba(60, 64, 67, 0.15);\n",
              "    fill: var(--button-hover-fill-color);\n",
              "  }\n",
              "\n",
              "  .colab-df-quickchart-complete:disabled,\n",
              "  .colab-df-quickchart-complete:disabled:hover {\n",
              "    background-color: var(--disabled-bg-color);\n",
              "    fill: var(--disabled-fill-color);\n",
              "    box-shadow: none;\n",
              "  }\n",
              "\n",
              "  .colab-df-spinner {\n",
              "    border: 2px solid var(--fill-color);\n",
              "    border-color: transparent;\n",
              "    border-bottom-color: var(--fill-color);\n",
              "    animation:\n",
              "      spin 1s steps(1) infinite;\n",
              "  }\n",
              "\n",
              "  @keyframes spin {\n",
              "    0% {\n",
              "      border-color: transparent;\n",
              "      border-bottom-color: var(--fill-color);\n",
              "      border-left-color: var(--fill-color);\n",
              "    }\n",
              "    20% {\n",
              "      border-color: transparent;\n",
              "      border-left-color: var(--fill-color);\n",
              "      border-top-color: var(--fill-color);\n",
              "    }\n",
              "    30% {\n",
              "      border-color: transparent;\n",
              "      border-left-color: var(--fill-color);\n",
              "      border-top-color: var(--fill-color);\n",
              "      border-right-color: var(--fill-color);\n",
              "    }\n",
              "    40% {\n",
              "      border-color: transparent;\n",
              "      border-right-color: var(--fill-color);\n",
              "      border-top-color: var(--fill-color);\n",
              "    }\n",
              "    60% {\n",
              "      border-color: transparent;\n",
              "      border-right-color: var(--fill-color);\n",
              "    }\n",
              "    80% {\n",
              "      border-color: transparent;\n",
              "      border-right-color: var(--fill-color);\n",
              "      border-bottom-color: var(--fill-color);\n",
              "    }\n",
              "    90% {\n",
              "      border-color: transparent;\n",
              "      border-bottom-color: var(--fill-color);\n",
              "    }\n",
              "  }\n",
              "</style>\n",
              "\n",
              "  <script>\n",
              "    async function quickchart(key) {\n",
              "      const quickchartButtonEl =\n",
              "        document.querySelector('#' + key + ' button');\n",
              "      quickchartButtonEl.disabled = true;  // To prevent multiple clicks.\n",
              "      quickchartButtonEl.classList.add('colab-df-spinner');\n",
              "      try {\n",
              "        const charts = await google.colab.kernel.invokeFunction(\n",
              "            'suggestCharts', [key], {});\n",
              "      } catch (error) {\n",
              "        console.error('Error during call to suggestCharts:', error);\n",
              "      }\n",
              "      quickchartButtonEl.classList.remove('colab-df-spinner');\n",
              "      quickchartButtonEl.classList.add('colab-df-quickchart-complete');\n",
              "    }\n",
              "    (() => {\n",
              "      let quickchartButtonEl =\n",
              "        document.querySelector('#df-ae714664-f9b8-4ed7-8198-819e86e87b01 button');\n",
              "      quickchartButtonEl.style.display =\n",
              "        google.colab.kernel.accessAllowed ? 'block' : 'none';\n",
              "    })();\n",
              "  </script>\n",
              "</div>\n",
              "    </div>\n",
              "  </div>\n"
            ],
            "application/vnd.google.colaboratory.intrinsic+json": {
              "type": "dataframe",
              "variable_name": "forecast_df",
              "summary": "{\n  \"name\": \"forecast_df\",\n  \"rows\": 12,\n  \"fields\": [\n    {\n      \"column\": \"Forecast\",\n      \"properties\": {\n        \"dtype\": \"number\",\n        \"std\": 5474.001682321152,\n        \"min\": 19384.62304496765,\n        \"max\": 41690.41971063614,\n        \"num_unique_values\": 12,\n        \"samples\": [\n          19384.62304496765,\n          41690.41971063614,\n          23365.642216920853\n        ],\n        \"semantic_type\": \"\",\n        \"description\": \"\"\n      }\n    }\n  ]\n}"
            }
          },
          "metadata": {},
          "execution_count": 120
        }
      ],
      "source": [
        "forecast_df"
      ]
    },
    {
      "cell_type": "code",
      "execution_count": 123,
      "metadata": {
        "id": "VXkkIIBjklBI",
        "outputId": "fbf0b636-1951-4190-fed2-6dd0df6447c9",
        "colab": {
          "base_uri": "https://localhost:8080/",
          "height": 462
        }
      },
      "outputs": [
        {
          "output_type": "execute_result",
          "data": {
            "text/plain": [
              "<Axes: xlabel='DATE'>"
            ]
          },
          "metadata": {},
          "execution_count": 123
        },
        {
          "output_type": "display_data",
          "data": {
            "text/plain": [
              "<Figure size 640x480 with 1 Axes>"
            ],
            "image/png": "[encoded data removed]"
          },
          "metadata": {}
        }
      ],
      "source": [
        "# Plot sales - Values in dataframe\n",
        "df.plot()"
      ]
    },
    {
      "cell_type": "code",
      "execution_count": 124,
      "metadata": {
        "id": "9wVB2DQM5ovH",
        "outputId": "55e14bd5-77fd-478e-8042-5d81c34b6b29",
        "colab": {
          "base_uri": "https://localhost:8080/",
          "height": 458
        }
      },
      "outputs": [
        {
          "output_type": "execute_result",
          "data": {
            "text/plain": [
              "<Axes: >"
            ]
          },
          "metadata": {},
          "execution_count": 124
        },
        {
          "output_type": "display_data",
          "data": {
            "text/plain": [
              "<Figure size 640x480 with 1 Axes>"
            ],
            "image/png": "[encoded data removed]"
          },
          "metadata": {}
        }
      ],
      "source": [
        "# Plot forecast - Values in forecast_df\n",
        "forecast_df.plot()"
      ]
    },
    {
      "cell_type": "markdown",
      "metadata": {
        "id": "PjgZ7bnMklBI"
      },
      "source": [
        "### Joining pandas plots\n",
        "\n",
        "https://stackoverflow.com/questions/13872533/plot-different-dataframes-in-the-same-figure"
      ]
    },
    {
      "cell_type": "code",
      "execution_count": 125,
      "metadata": {
        "id": "SimiIvlQklBI",
        "outputId": "69f63108-e7a9-4f3c-e3bb-2eb3c8bda67c",
        "colab": {
          "base_uri": "https://localhost:8080/",
          "height": 462
        }
      },
      "outputs": [
        {
          "output_type": "execute_result",
          "data": {
            "text/plain": [
              "<Axes: xlabel='DATE'>"
            ]
          },
          "metadata": {},
          "execution_count": 125
        },
        {
          "output_type": "display_data",
          "data": {
            "text/plain": [
              "<Figure size 640x480 with 1 Axes>"
            ],
            "image/png": "[encoded data removed]"
          },
          "metadata": {}
        }
      ],
      "source": [
        "ax = df.plot()\n",
        "forecast_df.plot(ax=ax)"
      ]
    },
    {
      "cell_type": "code",
      "execution_count": 126,
      "metadata": {
        "id": "NPJKP6sMklBI",
        "outputId": "b66a8913-9847-4f2e-b750-21d671162185",
        "colab": {
          "base_uri": "https://localhost:8080/",
          "height": 478
        }
      },
      "outputs": [
        {
          "output_type": "execute_result",
          "data": {
            "text/plain": [
              "(576.0, 612.0)"
            ]
          },
          "metadata": {},
          "execution_count": 126
        },
        {
          "output_type": "display_data",
          "data": {
            "text/plain": [
              "<Figure size 640x480 with 1 Axes>"
            ],
            "image/png": "[encoded data removed]"
          },
          "metadata": {}
        }
      ],
      "source": [
        "ax = df.plot()\n",
        "forecast_df.plot(ax=ax)\n",
        "plt.xlim('2018-01-01','2021-01-01')"
      ]
    },
    {
      "cell_type": "markdown",
      "metadata": {
        "id": "6UncpiS4klBI"
      },
      "source": [
        "# Try the same example with a LSTM and GRU!\n",
        "Hint: Use LSTM instead of SimpleRNN!"
      ]
    }
  ],
  "metadata": {
    "colab": {
      "provenance": [],
      "gpuType": "T4"
    },
    "kernelspec": {
      "display_name": "Python 3",
      "name": "python3"
    },
    "language_info": {
      "codemirror_mode": {
        "name": "ipython",
        "version": 3
      },
      "file_extension": ".py",
      "mimetype": "text/x-python",
      "name": "python",
      "nbconvert_exporter": "python",
      "pygments_lexer": "ipython3",
      "version": "3.11.6"
    },
    "accelerator": "GPU"
  },
  "nbformat": 4,
  "nbformat_minor": 0
}